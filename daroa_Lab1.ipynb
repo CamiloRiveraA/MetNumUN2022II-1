{
  "nbformat": 4,
  "nbformat_minor": 0,
  "metadata": {
    "colab": {
      "name": "daroa_Lab1.ipynb",
      "provenance": []
    },
    "kernelspec": {
      "name": "python3",
      "display_name": "Python 3"
    },
    "language_info": {
      "name": "python"
    }
  },
  "cells": [
    {
      "cell_type": "markdown",
      "source": [
        "# **EXECUTING A COMMAND**\n",
        "A code cell will be evaluated when you press play, or when you press the shortcut, shift-enter. Evaluating a cell evaluates each line of code in sequence, and prints the results of the last line below the cell."
      ],
      "metadata": {
        "id": "45KHji24r_Vm"
      }
    },
    {
      "cell_type": "code",
      "source": [
        "2+2"
      ],
      "metadata": {
        "colab": {
          "base_uri": "https://localhost:8080/"
        },
        "id": "KMrPLdvXsKTr",
        "outputId": "b42b210a-3937-4272-a340-d212747a9e9b"
      },
      "execution_count": null,
      "outputs": [
        {
          "output_type": "execute_result",
          "data": {
            "text/plain": [
              "4"
            ]
          },
          "metadata": {},
          "execution_count": 1
        }
      ]
    },
    {
      "cell_type": "markdown",
      "source": [
        "**My own example 1**"
      ],
      "metadata": {
        "id": "chM4WXgRsQZa"
      }
    },
    {
      "cell_type": "code",
      "source": [
        "3+4"
      ],
      "metadata": {
        "colab": {
          "base_uri": "https://localhost:8080/"
        },
        "id": "FYusjrlTsUnC",
        "outputId": "089e2524-c7e0-4fa2-87f8-41e0de913f9f"
      },
      "execution_count": null,
      "outputs": [
        {
          "output_type": "execute_result",
          "data": {
            "text/plain": [
              "7"
            ]
          },
          "metadata": {},
          "execution_count": 2
        }
      ]
    },
    {
      "cell_type": "markdown",
      "source": [
        "Sometimes there is no result to be printed, as is the case with assignment."
      ],
      "metadata": {
        "id": "lsOFlOltsWmq"
      }
    },
    {
      "cell_type": "code",
      "source": [
        "X = 2\n"
      ],
      "metadata": {
        "id": "i1gMUPbKsY6b"
      },
      "execution_count": null,
      "outputs": []
    },
    {
      "cell_type": "markdown",
      "source": [
        "**My own example 2**"
      ],
      "metadata": {
        "id": "hZACQRCvsbth"
      }
    },
    {
      "cell_type": "code",
      "source": [
        "Y = 3"
      ],
      "metadata": {
        "id": "--YLzYVvsg5r"
      },
      "execution_count": null,
      "outputs": []
    },
    {
      "cell_type": "markdown",
      "source": [
        "Remember that only the result from the last line is printed.\n"
      ],
      "metadata": {
        "id": "4Rh9sDwfsnek"
      }
    },
    {
      "cell_type": "code",
      "source": [
        "2+2\n",
        "3+3"
      ],
      "metadata": {
        "colab": {
          "base_uri": "https://localhost:8080/"
        },
        "id": "XhbygmmrspRG",
        "outputId": "7bb72ae6-1d38-45f7-e4f8-efc9b05eab76"
      },
      "execution_count": null,
      "outputs": [
        {
          "output_type": "execute_result",
          "data": {
            "text/plain": [
              "6"
            ]
          },
          "metadata": {},
          "execution_count": 5
        }
      ]
    },
    {
      "cell_type": "markdown",
      "source": [
        "**My own example 3**"
      ],
      "metadata": {
        "id": "ZtX6FKoysuWu"
      }
    },
    {
      "cell_type": "code",
      "source": [
        "2+1\n",
        "5+4"
      ],
      "metadata": {
        "colab": {
          "base_uri": "https://localhost:8080/"
        },
        "id": "2mEychI9swl1",
        "outputId": "2bbd6b9b-6844-458f-b7d3-9df2e512d263"
      },
      "execution_count": null,
      "outputs": [
        {
          "output_type": "execute_result",
          "data": {
            "text/plain": [
              "9"
            ]
          },
          "metadata": {},
          "execution_count": 6
        }
      ]
    },
    {
      "cell_type": "markdown",
      "source": [
        "However, you can print whichever lines you want using the print statement."
      ],
      "metadata": {
        "id": "AG6tQSams1Vz"
      }
    },
    {
      "cell_type": "code",
      "source": [
        "print (2+2)\n",
        "3+3"
      ],
      "metadata": {
        "colab": {
          "base_uri": "https://localhost:8080/"
        },
        "id": "kq_wo5A-s4f5",
        "outputId": "141fa2bb-37d2-4aa9-a4ea-377d8d1c7ed5"
      },
      "execution_count": null,
      "outputs": [
        {
          "output_type": "stream",
          "name": "stdout",
          "text": [
            "4\n"
          ]
        },
        {
          "output_type": "execute_result",
          "data": {
            "text/plain": [
              "6"
            ]
          },
          "metadata": {},
          "execution_count": 7
        }
      ]
    },
    {
      "cell_type": "markdown",
      "source": [
        "**My own example 4**"
      ],
      "metadata": {
        "id": "SAx3TF4Fs-kD"
      }
    },
    {
      "cell_type": "code",
      "source": [
        "print (3+5)\n",
        "2+7"
      ],
      "metadata": {
        "colab": {
          "base_uri": "https://localhost:8080/"
        },
        "id": "NsTc1VmAtAvh",
        "outputId": "88a71d5f-624c-4684-91b8-d1f85976b0e8"
      },
      "execution_count": null,
      "outputs": [
        {
          "output_type": "stream",
          "name": "stdout",
          "text": [
            "8\n"
          ]
        },
        {
          "output_type": "execute_result",
          "data": {
            "text/plain": [
              "9"
            ]
          },
          "metadata": {},
          "execution_count": 8
        }
      ]
    },
    {
      "cell_type": "markdown",
      "source": [
        "# Knowing When a Cell is Running\n",
        "While a cell is running, a [*] will display on the left. When a cell has yet to be executed, [ ] will display. When it has been run, a number will display indicating the order in which it was run during the execution of the notebook [5]. Try on this cell and note it happening."
      ],
      "metadata": {
        "id": "A-9OtWNNtJde"
      }
    },
    {
      "cell_type": "code",
      "source": [
        "#Take some time to run something\n",
        "c = 0\n",
        "for i in range(10000000):\n",
        "  c = c+i\n",
        "c  "
      ],
      "metadata": {
        "colab": {
          "base_uri": "https://localhost:8080/"
        },
        "id": "q34BsiQRtVBw",
        "outputId": "caf04e1e-77ea-402d-d10c-6bf8344b0afd"
      },
      "execution_count": null,
      "outputs": [
        {
          "output_type": "execute_result",
          "data": {
            "text/plain": [
              "49999995000000"
            ]
          },
          "metadata": {},
          "execution_count": 9
        }
      ]
    },
    {
      "cell_type": "markdown",
      "source": [
        "# Importing libraries\n",
        "The vast majority of the time, you'll want to use functions from pre-built libraries. You can't import every library on Quantopian due to security issues, but you can import most of the common scientific ones. Here I import numpy and pandas, the two most common and useful libraries in quant finance. I recommend copying this import statement to every new notebook.\n",
        "\n",
        "Notice that you can rename libraries to whatever you want after importing. The as statement allows this. Here we use np and pd as aliases for numpy and pandas. This is a very common aliasing and will be found in most code snippets around the web. The point behind this is to allow you to type fewer characters when you are frequently accessing these libraries."
      ],
      "metadata": {
        "id": "1S8SGgtruA2P"
      }
    },
    {
      "cell_type": "code",
      "source": [
        "import numpy as np\n",
        "import pandas as pd\n",
        "\n",
        "#This is a plotting library for pretty pictures\n",
        "import matplotlib.pyplot as plt\n"
      ],
      "metadata": {
        "id": "gW5iLBdBuFeV"
      },
      "execution_count": null,
      "outputs": []
    },
    {
      "cell_type": "markdown",
      "source": [
        "#Tab Autocomplete\n",
        "Pressing tab will give you a list of IPython's best guesses for what you might want to type next. This is incredibly valuable and will save you a lot of time. If there is only one possible option for what you could type next, IPython will fill that in for you. Try pressing tab very frequently, it will seldom fill in anything you don't want, as if there is ambiguity a list will be shown. This is a great way to see what functions are available in a library.\n",
        "\n",
        "Try placing your cursor after the . and pressing tab."
      ],
      "metadata": {
        "id": "MMldKwXQuaCO"
      }
    },
    {
      "cell_type": "code",
      "source": [
        "np.random."
      ],
      "metadata": {
        "colab": {
          "base_uri": "https://localhost:8080/",
          "height": 130
        },
        "id": "1CMGdeSmukDo",
        "outputId": "e9ec2bbe-4586-4c41-ad03-dd52419dedbe"
      },
      "execution_count": null,
      "outputs": [
        {
          "output_type": "error",
          "ename": "SyntaxError",
          "evalue": "ignored",
          "traceback": [
            "\u001b[0;36m  File \u001b[0;32m\"<ipython-input-17-1a778a4e80a5>\"\u001b[0;36m, line \u001b[0;32m1\u001b[0m\n\u001b[0;31m    np.random.\u001b[0m\n\u001b[0m              ^\u001b[0m\n\u001b[0;31mSyntaxError\u001b[0m\u001b[0;31m:\u001b[0m invalid syntax\n"
          ]
        }
      ]
    },
    {
      "cell_type": "markdown",
      "source": [
        "#Getting Documentation Help\n",
        "Placing a question mark after a function and executing that line of code will give you the documentation IPython has for that function. It's often best to do this in a new cell, as you avoid re-executing other code and running into bugs."
      ],
      "metadata": {
        "id": "1A2PslUZvFTA"
      }
    },
    {
      "cell_type": "code",
      "source": [
        "np.random.normal?"
      ],
      "metadata": {
        "id": "hE_9qmkIvNr8",
        "colab": {
          "base_uri": "https://localhost:8080/"
        },
        "outputId": "72853459-7c77-4a68-ff74-e56dabd36df3"
      },
      "execution_count": 3,
      "outputs": [
        {
          "output_type": "stream",
          "name": "stdout",
          "text": [
            "Object `np.random.normal` not found.\n"
          ]
        }
      ]
    },
    {
      "cell_type": "markdown",
      "source": [
        "#Sampling\n",
        "We'll sample some random data using a function from numpy."
      ],
      "metadata": {
        "id": "J4hI8m2CvWXu"
      }
    },
    {
      "cell_type": "code",
      "source": [
        "# Sample 100 points with a mean of 0 and an std of 1. This is a standard normal distribution.\n",
        "X = np.random.normal(0, 1, 100)\n",
        "X"
      ],
      "metadata": {
        "colab": {
          "base_uri": "https://localhost:8080/"
        },
        "id": "28N0yfTMvZpH",
        "outputId": "a82dd57f-71de-43e5-9e4d-85928373ca05"
      },
      "execution_count": null,
      "outputs": [
        {
          "output_type": "execute_result",
          "data": {
            "text/plain": [
              "array([ 0.45898616,  1.02171177,  0.79129859,  1.21360074, -1.58293877,\n",
              "       -0.14282047,  1.07995472, -0.80812478,  0.80536961,  1.97568448,\n",
              "        0.92290807, -2.91939822,  1.170091  , -2.43661203,  1.08924092,\n",
              "        0.94285008,  0.05628363,  1.74478417,  0.01105096, -1.74447013,\n",
              "        0.05363636, -0.10094424, -0.83774933, -1.39632901,  0.50908851,\n",
              "        0.13283405, -0.81363127,  0.52874055,  1.77022902,  0.9728636 ,\n",
              "        1.71993594,  0.05118171,  1.16269059,  1.08076676, -0.4940248 ,\n",
              "       -0.32283769, -0.8847785 ,  0.05547558,  1.44433839,  0.84964573,\n",
              "       -0.22719162,  0.49543698,  0.90947343, -0.494847  ,  1.40592196,\n",
              "        1.91900724,  0.3241123 ,  0.11292021, -0.48291242,  0.41283494,\n",
              "       -0.79347113,  0.74881461, -1.12024229, -1.93138182,  0.99274855,\n",
              "       -2.62113862,  0.13919341,  1.11516019,  2.16990952,  0.55431533,\n",
              "       -1.12910332, -0.4205179 , -0.34375185, -0.93291078,  1.55235902,\n",
              "        1.29619269,  0.69463277, -0.37644547, -0.66036964, -0.69859561,\n",
              "        1.11844605, -1.1870315 , -0.80554681,  0.19266275,  0.12684376,\n",
              "        0.87368975,  0.69767426,  1.43824385, -0.18152008,  0.95246794,\n",
              "       -0.01735817,  0.89997296, -1.31365977,  0.72352874, -0.59778941,\n",
              "       -1.01496918, -0.51924298, -1.21859785,  0.41894941, -1.99600751,\n",
              "       -0.27464808,  0.03577071, -1.53903872, -0.33019017,  0.80066422,\n",
              "        0.45174897,  0.7726785 ,  0.00854602, -0.21073265,  1.20506104])"
            ]
          },
          "metadata": {},
          "execution_count": 24
        }
      ]
    },
    {
      "cell_type": "markdown",
      "source": [
        "**My own example 5**"
      ],
      "metadata": {
        "id": "CSraC32NwFDG"
      }
    },
    {
      "cell_type": "code",
      "source": [
        "Y = np.random.normal(0,2,50)\n",
        "Y"
      ],
      "metadata": {
        "colab": {
          "base_uri": "https://localhost:8080/",
          "height": 183
        },
        "id": "TMJFWN6NwLw7",
        "outputId": "d59db580-7bed-4374-f95f-3b54a6dcacb2"
      },
      "execution_count": 2,
      "outputs": [
        {
          "output_type": "error",
          "ename": "NameError",
          "evalue": "ignored",
          "traceback": [
            "\u001b[0;31m---------------------------------------------------------------------------\u001b[0m",
            "\u001b[0;31mNameError\u001b[0m                                 Traceback (most recent call last)",
            "\u001b[0;32m<ipython-input-2-7988885de53c>\u001b[0m in \u001b[0;36m<module>\u001b[0;34m\u001b[0m\n\u001b[0;32m----> 1\u001b[0;31m \u001b[0mY\u001b[0m \u001b[0;34m=\u001b[0m \u001b[0mnp\u001b[0m\u001b[0;34m.\u001b[0m\u001b[0mrandom\u001b[0m\u001b[0;34m.\u001b[0m\u001b[0mnormal\u001b[0m\u001b[0;34m(\u001b[0m\u001b[0;36m0\u001b[0m\u001b[0;34m,\u001b[0m\u001b[0;36m2\u001b[0m\u001b[0;34m,\u001b[0m\u001b[0;36m50\u001b[0m\u001b[0;34m)\u001b[0m\u001b[0;34m\u001b[0m\u001b[0;34m\u001b[0m\u001b[0m\n\u001b[0m\u001b[1;32m      2\u001b[0m \u001b[0mY\u001b[0m\u001b[0;34m\u001b[0m\u001b[0;34m\u001b[0m\u001b[0m\n",
            "\u001b[0;31mNameError\u001b[0m: name 'np' is not defined"
          ]
        }
      ]
    },
    {
      "cell_type": "markdown",
      "source": [
        "#Plotting\n",
        "We can use the plotting library we imported as follows."
      ],
      "metadata": {
        "id": "XhhGXf4Xvt6a"
      }
    },
    {
      "cell_type": "code",
      "source": [
        "plt.plot(X)"
      ],
      "metadata": {
        "colab": {
          "base_uri": "https://localhost:8080/",
          "height": 282
        },
        "id": "bXFAaVDXvvXc",
        "outputId": "5bbf83c4-572e-47d8-a9b5-dfc1b459f6c8"
      },
      "execution_count": null,
      "outputs": [
        {
          "output_type": "execute_result",
          "data": {
            "text/plain": [
              "[<matplotlib.lines.Line2D at 0x7f4f30d56350>]"
            ]
          },
          "metadata": {},
          "execution_count": 20
        },
        {
          "output_type": "display_data",
          "data": {
            "text/plain": [
              "<Figure size 432x288 with 1 Axes>"
            ],
            "image/png": "[encoded data removed]"
          },
          "metadata": {
            "needs_background": "light"
          }
        }
      ]
    },
    {
      "cell_type": "markdown",
      "source": [
        "**My own example 6**"
      ],
      "metadata": {
        "id": "edMJwZ-pwVxe"
      }
    },
    {
      "cell_type": "code",
      "source": [
        "plt.plot(Y)"
      ],
      "metadata": {
        "colab": {
          "base_uri": "https://localhost:8080/",
          "height": 284
        },
        "id": "2TSYEl5-wYA_",
        "outputId": "1aed22e7-39d4-4f52-9590-d8b44815beee"
      },
      "execution_count": null,
      "outputs": [
        {
          "output_type": "execute_result",
          "data": {
            "text/plain": [
              "[<matplotlib.lines.Line2D at 0x7f4f303a4250>]"
            ]
          },
          "metadata": {},
          "execution_count": 26
        },
        {
          "output_type": "display_data",
          "data": {
            "text/plain": [
              "<Figure size 432x288 with 1 Axes>"
            ],
            "image/png": "[encoded data removed]"
          },
          "metadata": {
            "needs_background": "light"
          }
        }
      ]
    },
    {
      "cell_type": "markdown",
      "source": [
        "#Squelching Line Output\n",
        "You might have noticed the annoying line of the form [<matplotlib.lines.Line2D at 0x7f72fdbc1710>] before the plots. This is because the .plot function actually produces output. Sometimes we wish not to display output, we can accomplish this with the semi-colon as follows."
      ],
      "metadata": {
        "id": "qI3QgVNVwg6o"
      }
    },
    {
      "cell_type": "code",
      "source": [
        "plt.plot(X);"
      ],
      "metadata": {
        "colab": {
          "base_uri": "https://localhost:8080/",
          "height": 265
        },
        "id": "aFXndNcjwlm4",
        "outputId": "73924a65-1e07-4f7a-f634-43314a137156"
      },
      "execution_count": null,
      "outputs": [
        {
          "output_type": "display_data",
          "data": {
            "text/plain": [
              "<Figure size 432x288 with 1 Axes>"
            ],
            "image/png": "[encoded data removed]"
          },
          "metadata": {
            "needs_background": "light"
          }
        }
      ]
    },
    {
      "cell_type": "markdown",
      "source": [
        "**My own example 7**"
      ],
      "metadata": {
        "id": "wHKY7JAzwoT5"
      }
    },
    {
      "cell_type": "code",
      "source": [
        "plt.plot(Y);"
      ],
      "metadata": {
        "colab": {
          "base_uri": "https://localhost:8080/",
          "height": 165
        },
        "id": "4jXKlRHFwqfg",
        "outputId": "a49bb496-7853-4887-b89a-aeb6fd1c368e"
      },
      "execution_count": 1,
      "outputs": [
        {
          "output_type": "error",
          "ename": "NameError",
          "evalue": "ignored",
          "traceback": [
            "\u001b[0;31m---------------------------------------------------------------------------\u001b[0m",
            "\u001b[0;31mNameError\u001b[0m                                 Traceback (most recent call last)",
            "\u001b[0;32m<ipython-input-1-20da70b9a5f6>\u001b[0m in \u001b[0;36m<module>\u001b[0;34m\u001b[0m\n\u001b[0;32m----> 1\u001b[0;31m \u001b[0mplt\u001b[0m\u001b[0;34m.\u001b[0m\u001b[0mplot\u001b[0m\u001b[0;34m(\u001b[0m\u001b[0mY\u001b[0m\u001b[0;34m)\u001b[0m\u001b[0;34m;\u001b[0m\u001b[0;34m\u001b[0m\u001b[0;34m\u001b[0m\u001b[0m\n\u001b[0m",
            "\u001b[0;31mNameError\u001b[0m: name 'plt' is not defined"
          ]
        }
      ]
    },
    {
      "cell_type": "markdown",
      "source": [
        "#Adding Axis Labels\n",
        "No self-respecting quant leaves a graph without labeled axes. Here are some commands to help with that."
      ],
      "metadata": {
        "id": "2YcH3986wwad"
      }
    },
    {
      "cell_type": "code",
      "source": [
        "X = np.random.normal(0, 1, 100)\n",
        "X2 = np.random.normal(0, 1, 100)\n",
        "\n",
        "plt.plot(X);\n",
        "plt.plot(X2);\n",
        "plt.xlabel('Time') # The data we generated is unitless, but don't forget units in general.\n",
        "plt.ylabel('Returns')\n",
        "plt.legend(['X', 'X2']);"
      ],
      "metadata": {
        "colab": {
          "base_uri": "https://localhost:8080/",
          "height": 279
        },
        "id": "N6MwsUd8xJY-",
        "outputId": "44ab64e8-187d-4b36-d326-672de9c3f2a5"
      },
      "execution_count": null,
      "outputs": [
        {
          "output_type": "display_data",
          "data": {
            "text/plain": [
              "<Figure size 432x288 with 1 Axes>"
            ],
            "image/png": "[encoded data removed]"
          },
          "metadata": {
            "needs_background": "light"
          }
        }
      ]
    },
    {
      "cell_type": "markdown",
      "source": [
        "**My own example 8**"
      ],
      "metadata": {
        "id": "sWz-CuXtxOfQ"
      }
    },
    {
      "cell_type": "code",
      "source": [
        "X = np.random.normal(0, 1, 100)\n",
        "Y = np.random.normal(0, 2, 50)\n",
        "\n",
        "plt.plot(X);\n",
        "plt.plot(Y);\n",
        "plt.xlabel('Day') # The data we generated is unitless, but don't forget units in general.\n",
        "plt.ylabel('MetNum')\n",
        "plt.legend(['X', 'Y']);"
      ],
      "metadata": {
        "colab": {
          "base_uri": "https://localhost:8080/",
          "height": 279
        },
        "id": "2ievLaxwxRHX",
        "outputId": "2c0c88c3-3eb8-470e-d323-d7a33c1934c9"
      },
      "execution_count": null,
      "outputs": [
        {
          "output_type": "display_data",
          "data": {
            "text/plain": [
              "<Figure size 432x288 with 1 Axes>"
            ],
            "image/png": "[encoded data removed]"
          },
          "metadata": {
            "needs_background": "light"
          }
        }
      ]
    },
    {
      "cell_type": "markdown",
      "source": [
        "#Generating Statistics\n",
        "Let's use numpy to take some simple statistics."
      ],
      "metadata": {
        "id": "fLRFYL3exgMW"
      }
    },
    {
      "cell_type": "code",
      "source": [
        "np.mean(X)\n"
      ],
      "metadata": {
        "colab": {
          "base_uri": "https://localhost:8080/"
        },
        "id": "6iXjcTZsxhvm",
        "outputId": "910338ad-e4d5-449b-a94f-364202f0e10a"
      },
      "execution_count": null,
      "outputs": [
        {
          "output_type": "execute_result",
          "data": {
            "text/plain": [
              "0.12080828686290326"
            ]
          },
          "metadata": {},
          "execution_count": 32
        }
      ]
    },
    {
      "cell_type": "code",
      "source": [
        "np.std(X)"
      ],
      "metadata": {
        "colab": {
          "base_uri": "https://localhost:8080/"
        },
        "id": "Ue41revUxpYq",
        "outputId": "d6ed3d5a-af34-457e-ab93-4946eeebb2f7"
      },
      "execution_count": null,
      "outputs": [
        {
          "output_type": "execute_result",
          "data": {
            "text/plain": [
              "0.8507494980638404"
            ]
          },
          "metadata": {},
          "execution_count": 33
        }
      ]
    },
    {
      "cell_type": "markdown",
      "source": [
        "**My own example 9**"
      ],
      "metadata": {
        "id": "_ZXKqgH5xs1q"
      }
    },
    {
      "cell_type": "code",
      "source": [
        "np.mean(Y)"
      ],
      "metadata": {
        "colab": {
          "base_uri": "https://localhost:8080/"
        },
        "id": "12N5t4vgxvgL",
        "outputId": "b2ab74a8-c61c-4c97-cd8d-816fcb5c93d7"
      },
      "execution_count": null,
      "outputs": [
        {
          "output_type": "execute_result",
          "data": {
            "text/plain": [
              "0.1486523967608857"
            ]
          },
          "metadata": {},
          "execution_count": 34
        }
      ]
    },
    {
      "cell_type": "code",
      "source": [
        "np.std(Y)"
      ],
      "metadata": {
        "colab": {
          "base_uri": "https://localhost:8080/"
        },
        "id": "hkOu-xjtxx2T",
        "outputId": "ebaa1038-5dfb-4a17-a86e-89c5b0df8584"
      },
      "execution_count": null,
      "outputs": [
        {
          "output_type": "execute_result",
          "data": {
            "text/plain": [
              "1.865653565337787"
            ]
          },
          "metadata": {},
          "execution_count": 35
        }
      ]
    },
    {
      "cell_type": "markdown",
      "source": [
        "#Getting Real Pricing Data\n",
        "Randomly sampled data can be great for testing ideas, but let's get some real data. We can use get_pricing to do that. You can use the ? syntax as discussed above to get more information on get_pricing's arguments."
      ],
      "metadata": {
        "id": "yoDMBnB3x7Lk"
      }
    },
    {
      "cell_type": "code",
      "source": [
        "!pip install yfinance"
      ],
      "metadata": {
        "colab": {
          "base_uri": "https://localhost:8080/"
        },
        "id": "cwrS2mPGx90k",
        "outputId": "29797d55-981d-4ded-b9ea-120ac49ca3d7"
      },
      "execution_count": null,
      "outputs": [
        {
          "output_type": "stream",
          "name": "stdout",
          "text": [
            "Looking in indexes: https://pypi.org/simple, https://us-python.pkg.dev/colab-wheels/public/simple/\n",
            "Collecting yfinance\n",
            "  Downloading yfinance-0.1.74-py2.py3-none-any.whl (27 kB)\n",
            "Requirement already satisfied: pandas>=0.24.0 in /usr/local/lib/python3.7/dist-packages (from yfinance) (1.3.5)\n",
            "Requirement already satisfied: lxml>=4.5.1 in /usr/local/lib/python3.7/dist-packages (from yfinance) (4.9.1)\n",
            "Requirement already satisfied: numpy>=1.15 in /usr/local/lib/python3.7/dist-packages (from yfinance) (1.21.6)\n",
            "Requirement already satisfied: multitasking>=0.0.7 in /usr/local/lib/python3.7/dist-packages (from yfinance) (0.0.11)\n",
            "Collecting requests>=2.26\n",
            "  Downloading requests-2.28.1-py3-none-any.whl (62 kB)\n",
            "\u001b[K     |████████████████████████████████| 62 kB 1.4 MB/s \n",
            "\u001b[?25hRequirement already satisfied: pytz>=2017.3 in /usr/local/lib/python3.7/dist-packages (from pandas>=0.24.0->yfinance) (2022.2.1)\n",
            "Requirement already satisfied: python-dateutil>=2.7.3 in /usr/local/lib/python3.7/dist-packages (from pandas>=0.24.0->yfinance) (2.8.2)\n",
            "Requirement already satisfied: six>=1.5 in /usr/local/lib/python3.7/dist-packages (from python-dateutil>=2.7.3->pandas>=0.24.0->yfinance) (1.15.0)\n",
            "Requirement already satisfied: charset-normalizer<3,>=2 in /usr/local/lib/python3.7/dist-packages (from requests>=2.26->yfinance) (2.1.0)\n",
            "Requirement already satisfied: certifi>=2017.4.17 in /usr/local/lib/python3.7/dist-packages (from requests>=2.26->yfinance) (2022.6.15)\n",
            "Requirement already satisfied: idna<4,>=2.5 in /usr/local/lib/python3.7/dist-packages (from requests>=2.26->yfinance) (2.10)\n",
            "Requirement already satisfied: urllib3<1.27,>=1.21.1 in /usr/local/lib/python3.7/dist-packages (from requests>=2.26->yfinance) (1.24.3)\n",
            "Installing collected packages: requests, yfinance\n",
            "  Attempting uninstall: requests\n",
            "    Found existing installation: requests 2.23.0\n",
            "    Uninstalling requests-2.23.0:\n",
            "      Successfully uninstalled requests-2.23.0\n",
            "Successfully installed requests-2.28.1 yfinance-0.1.74\n"
          ]
        }
      ]
    },
    {
      "cell_type": "code",
      "source": [
        "import yfinance as yfi\n",
        "data = yfi.download('MSFT', start_date='2012-1-1', end_date='2015-6-1')"
      ],
      "metadata": {
        "colab": {
          "base_uri": "https://localhost:8080/"
        },
        "id": "VPT5NxRTyS0g",
        "outputId": "9ea5b986-b4b4-48d0-9f07-d48b8eaaf3f7"
      },
      "execution_count": null,
      "outputs": [
        {
          "output_type": "stream",
          "name": "stdout",
          "text": [
            "\r[*********************100%***********************]  1 of 1 completed\n"
          ]
        }
      ]
    },
    {
      "cell_type": "markdown",
      "source": [
        "Our data is now a dataframe. You can see the datetime index and the colums with different pricing data."
      ],
      "metadata": {
        "id": "hUDT6PKRyo1T"
      }
    },
    {
      "cell_type": "code",
      "source": [
        "data"
      ],
      "metadata": {
        "colab": {
          "base_uri": "https://localhost:8080/",
          "height": 455
        },
        "id": "FKVsgTnLypt8",
        "outputId": "f6ee673e-4559-44fc-8203-e58d71f79a10"
      },
      "execution_count": null,
      "outputs": [
        {
          "output_type": "execute_result",
          "data": {
            "text/plain": [
              "                  Open        High         Low       Close   Adj Close  \\\n",
              "Date                                                                     \n",
              "1986-03-13    0.088542    0.101563    0.088542    0.097222    0.060980   \n",
              "1986-03-14    0.097222    0.102431    0.097222    0.100694    0.063158   \n",
              "1986-03-17    0.100694    0.103299    0.100694    0.102431    0.064247   \n",
              "1986-03-18    0.102431    0.103299    0.098958    0.099826    0.062613   \n",
              "1986-03-19    0.099826    0.100694    0.097222    0.098090    0.061524   \n",
              "...                ...         ...         ...         ...         ...   \n",
              "2022-08-15  291.000000  294.179993  290.109985  293.470001  292.848389   \n",
              "2022-08-16  291.989990  294.040009  290.420013  292.709991  292.089996   \n",
              "2022-08-17  289.739990  293.350006  289.470001  291.320007  291.320007   \n",
              "2022-08-18  290.190002  291.910004  289.079987  290.170013  290.170013   \n",
              "2022-08-19  288.899994  289.250000  285.559998  286.149994  286.149994   \n",
              "\n",
              "                Volume  \n",
              "Date                    \n",
              "1986-03-13  1031788800  \n",
              "1986-03-14   308160000  \n",
              "1986-03-17   133171200  \n",
              "1986-03-18    67766400  \n",
              "1986-03-19    47894400  \n",
              "...                ...  \n",
              "2022-08-15    18085700  \n",
              "2022-08-16    18102900  \n",
              "2022-08-17    18253400  \n",
              "2022-08-18    17186200  \n",
              "2022-08-19    20557200  \n",
              "\n",
              "[9185 rows x 6 columns]"
            ],
            "text/html": [
              "\n",
              "  <div id=\"df-b8a01d96-f1f8-41be-b437-88333a1759f9\">\n",
              "    <div class=\"colab-df-container\">\n",
              "      <div>\n",
              "<style scoped>\n",
              "    .dataframe tbody tr th:only-of-type {\n",
              "        vertical-align: middle;\n",
              "    }\n",
              "\n",
              "    .dataframe tbody tr th {\n",
              "        vertical-align: top;\n",
              "    }\n",
              "\n",
              "    .dataframe thead th {\n",
              "        text-align: right;\n",
              "    }\n",
              "</style>\n",
              "<table border=\"1\" class=\"dataframe\">\n",
              "  <thead>\n",
              "    <tr style=\"text-align: right;\">\n",
              "      <th></th>\n",
              "      <th>Open</th>\n",
              "      <th>High</th>\n",
              "      <th>Low</th>\n",
              "      <th>Close</th>\n",
              "      <th>Adj Close</th>\n",
              "      <th>Volume</th>\n",
              "    </tr>\n",
              "    <tr>\n",
              "      <th>Date</th>\n",
              "      <th></th>\n",
              "      <th></th>\n",
              "      <th></th>\n",
              "      <th></th>\n",
              "      <th></th>\n",
              "      <th></th>\n",
              "    </tr>\n",
              "  </thead>\n",
              "  <tbody>\n",
              "    <tr>\n",
              "      <th>1986-03-13</th>\n",
              "      <td>0.088542</td>\n",
              "      <td>0.101563</td>\n",
              "      <td>0.088542</td>\n",
              "      <td>0.097222</td>\n",
              "      <td>0.060980</td>\n",
              "      <td>1031788800</td>\n",
              "    </tr>\n",
              "    <tr>\n",
              "      <th>1986-03-14</th>\n",
              "      <td>0.097222</td>\n",
              "      <td>0.102431</td>\n",
              "      <td>0.097222</td>\n",
              "      <td>0.100694</td>\n",
              "      <td>0.063158</td>\n",
              "      <td>308160000</td>\n",
              "    </tr>\n",
              "    <tr>\n",
              "      <th>1986-03-17</th>\n",
              "      <td>0.100694</td>\n",
              "      <td>0.103299</td>\n",
              "      <td>0.100694</td>\n",
              "      <td>0.102431</td>\n",
              "      <td>0.064247</td>\n",
              "      <td>133171200</td>\n",
              "    </tr>\n",
              "    <tr>\n",
              "      <th>1986-03-18</th>\n",
              "      <td>0.102431</td>\n",
              "      <td>0.103299</td>\n",
              "      <td>0.098958</td>\n",
              "      <td>0.099826</td>\n",
              "      <td>0.062613</td>\n",
              "      <td>67766400</td>\n",
              "    </tr>\n",
              "    <tr>\n",
              "      <th>1986-03-19</th>\n",
              "      <td>0.099826</td>\n",
              "      <td>0.100694</td>\n",
              "      <td>0.097222</td>\n",
              "      <td>0.098090</td>\n",
              "      <td>0.061524</td>\n",
              "      <td>47894400</td>\n",
              "    </tr>\n",
              "    <tr>\n",
              "      <th>...</th>\n",
              "      <td>...</td>\n",
              "      <td>...</td>\n",
              "      <td>...</td>\n",
              "      <td>...</td>\n",
              "      <td>...</td>\n",
              "      <td>...</td>\n",
              "    </tr>\n",
              "    <tr>\n",
              "      <th>2022-08-15</th>\n",
              "      <td>291.000000</td>\n",
              "      <td>294.179993</td>\n",
              "      <td>290.109985</td>\n",
              "      <td>293.470001</td>\n",
              "      <td>292.848389</td>\n",
              "      <td>18085700</td>\n",
              "    </tr>\n",
              "    <tr>\n",
              "      <th>2022-08-16</th>\n",
              "      <td>291.989990</td>\n",
              "      <td>294.040009</td>\n",
              "      <td>290.420013</td>\n",
              "      <td>292.709991</td>\n",
              "      <td>292.089996</td>\n",
              "      <td>18102900</td>\n",
              "    </tr>\n",
              "    <tr>\n",
              "      <th>2022-08-17</th>\n",
              "      <td>289.739990</td>\n",
              "      <td>293.350006</td>\n",
              "      <td>289.470001</td>\n",
              "      <td>291.320007</td>\n",
              "      <td>291.320007</td>\n",
              "      <td>18253400</td>\n",
              "    </tr>\n",
              "    <tr>\n",
              "      <th>2022-08-18</th>\n",
              "      <td>290.190002</td>\n",
              "      <td>291.910004</td>\n",
              "      <td>289.079987</td>\n",
              "      <td>290.170013</td>\n",
              "      <td>290.170013</td>\n",
              "      <td>17186200</td>\n",
              "    </tr>\n",
              "    <tr>\n",
              "      <th>2022-08-19</th>\n",
              "      <td>288.899994</td>\n",
              "      <td>289.250000</td>\n",
              "      <td>285.559998</td>\n",
              "      <td>286.149994</td>\n",
              "      <td>286.149994</td>\n",
              "      <td>20557200</td>\n",
              "    </tr>\n",
              "  </tbody>\n",
              "</table>\n",
              "<p>9185 rows × 6 columns</p>\n",
              "</div>\n",
              "      <button class=\"colab-df-convert\" onclick=\"convertToInteractive('df-b8a01d96-f1f8-41be-b437-88333a1759f9')\"\n",
              "              title=\"Convert this dataframe to an interactive table.\"\n",
              "              style=\"display:none;\">\n",
              "        \n",
              "  <svg xmlns=\"http://www.w3.org/2000/svg\" height=\"24px\"viewBox=\"0 0 24 24\"\n",
              "       width=\"24px\">\n",
              "    <path d=\"M0 0h24v24H0V0z\" fill=\"none\"/>\n",
              "    <path d=\"M18.56 5.44l.94 2.06.94-2.06 2.06-.94-2.06-.94-.94-2.06-.94 2.06-2.06.94zm-11 1L8.5 8.5l.94-2.06 2.06-.94-2.06-.94L8.5 2.5l-.94 2.06-2.06.94zm10 10l.94 2.06.94-2.06 2.06-.94-2.06-.94-.94-2.06-.94 2.06-2.06.94z\"/><path d=\"M17.41 7.96l-1.37-1.37c-.4-.4-.92-.59-1.43-.59-.52 0-1.04.2-1.43.59L10.3 9.45l-7.72 7.72c-.78.78-.78 2.05 0 2.83L4 21.41c.39.39.9.59 1.41.59.51 0 1.02-.2 1.41-.59l7.78-7.78 2.81-2.81c.8-.78.8-2.07 0-2.86zM5.41 20L4 18.59l7.72-7.72 1.47 1.35L5.41 20z\"/>\n",
              "  </svg>\n",
              "      </button>\n",
              "      \n",
              "  <style>\n",
              "    .colab-df-container {\n",
              "      display:flex;\n",
              "      flex-wrap:wrap;\n",
              "      gap: 12px;\n",
              "    }\n",
              "\n",
              "    .colab-df-convert {\n",
              "      background-color: #E8F0FE;\n",
              "      border: none;\n",
              "      border-radius: 50%;\n",
              "      cursor: pointer;\n",
              "      display: none;\n",
              "      fill: #1967D2;\n",
              "      height: 32px;\n",
              "      padding: 0 0 0 0;\n",
              "      width: 32px;\n",
              "    }\n",
              "\n",
              "    .colab-df-convert:hover {\n",
              "      background-color: #E2EBFA;\n",
              "      box-shadow: 0px 1px 2px rgba(60, 64, 67, 0.3), 0px 1px 3px 1px rgba(60, 64, 67, 0.15);\n",
              "      fill: #174EA6;\n",
              "    }\n",
              "\n",
              "    [theme=dark] .colab-df-convert {\n",
              "      background-color: #3B4455;\n",
              "      fill: #D2E3FC;\n",
              "    }\n",
              "\n",
              "    [theme=dark] .colab-df-convert:hover {\n",
              "      background-color: #434B5C;\n",
              "      box-shadow: 0px 1px 3px 1px rgba(0, 0, 0, 0.15);\n",
              "      filter: drop-shadow(0px 1px 2px rgba(0, 0, 0, 0.3));\n",
              "      fill: #FFFFFF;\n",
              "    }\n",
              "  </style>\n",
              "\n",
              "      <script>\n",
              "        const buttonEl =\n",
              "          document.querySelector('#df-b8a01d96-f1f8-41be-b437-88333a1759f9 button.colab-df-convert');\n",
              "        buttonEl.style.display =\n",
              "          google.colab.kernel.accessAllowed ? 'block' : 'none';\n",
              "\n",
              "        async function convertToInteractive(key) {\n",
              "          const element = document.querySelector('#df-b8a01d96-f1f8-41be-b437-88333a1759f9');\n",
              "          const dataTable =\n",
              "            await google.colab.kernel.invokeFunction('convertToInteractive',\n",
              "                                                     [key], {});\n",
              "          if (!dataTable) return;\n",
              "\n",
              "          const docLinkHtml = 'Like what you see? Visit the ' +\n",
              "            '<a target=\"_blank\" href=https://colab.research.google.com/notebooks/data_table.ipynb>data table notebook</a>'\n",
              "            + ' to learn more about interactive tables.';\n",
              "          element.innerHTML = '';\n",
              "          dataTable['output_type'] = 'display_data';\n",
              "          await google.colab.output.renderOutput(dataTable, element);\n",
              "          const docLink = document.createElement('div');\n",
              "          docLink.innerHTML = docLinkHtml;\n",
              "          element.appendChild(docLink);\n",
              "        }\n",
              "      </script>\n",
              "    </div>\n",
              "  </div>\n",
              "  "
            ]
          },
          "metadata": {},
          "execution_count": 43
        }
      ]
    },
    {
      "cell_type": "markdown",
      "source": [
        "\n",
        "This is a pandas dataframe, so we can index in to just get price like this. For more info on pandas, please click [here](http://pandas.pydata.org/pandas-docs/stable/10min.html)."
      ],
      "metadata": {
        "id": "GTE8yddoyut0"
      }
    },
    {
      "cell_type": "code",
      "source": [
        "X = data['High']\n",
        "X"
      ],
      "metadata": {
        "colab": {
          "base_uri": "https://localhost:8080/"
        },
        "id": "726DVvKIy6IC",
        "outputId": "b57ad31e-fe3f-4242-f425-1d6b84c95574"
      },
      "execution_count": null,
      "outputs": [
        {
          "output_type": "execute_result",
          "data": {
            "text/plain": [
              "Date\n",
              "1986-03-13      0.101563\n",
              "1986-03-14      0.102431\n",
              "1986-03-17      0.103299\n",
              "1986-03-18      0.103299\n",
              "1986-03-19      0.100694\n",
              "                 ...    \n",
              "2022-08-15    294.179993\n",
              "2022-08-16    294.040009\n",
              "2022-08-17    293.350006\n",
              "2022-08-18    291.910004\n",
              "2022-08-19    289.250000\n",
              "Name: High, Length: 9185, dtype: float64"
            ]
          },
          "metadata": {},
          "execution_count": 46
        }
      ]
    },
    {
      "cell_type": "markdown",
      "source": [
        "Because there is now also date information in our data, we provide two series to `.plot`, `X.index` gives us the datetime index, and `X.values` gives us the pricing values. These are used as the X and Y coordinates to make a graph."
      ],
      "metadata": {
        "id": "BRAsoExrzHZJ"
      }
    },
    {
      "cell_type": "code",
      "source": [
        "plt.plot(X.index, X.values)\n",
        "plt.ylabel('Price')\n",
        "plt.legend(['MSFT']);"
      ],
      "metadata": {
        "colab": {
          "base_uri": "https://localhost:8080/",
          "height": 265
        },
        "id": "BZ4s37cezXos",
        "outputId": "5b63e80b-0c31-4c0f-ca72-01dfe112ec93"
      },
      "execution_count": null,
      "outputs": [
        {
          "output_type": "display_data",
          "data": {
            "text/plain": [
              "<Figure size 432x288 with 1 Axes>"
            ],
            "image/png": "[encoded data removed]"
          },
          "metadata": {
            "needs_background": "light"
          }
        }
      ]
    },
    {
      "cell_type": "markdown",
      "source": [
        "We can get statistics again on real data."
      ],
      "metadata": {
        "id": "VZr0c3RYzjZm"
      }
    },
    {
      "cell_type": "code",
      "source": [
        "np.mean(X)"
      ],
      "metadata": {
        "colab": {
          "base_uri": "https://localhost:8080/"
        },
        "id": "ASfWLfzbzkF2",
        "outputId": "87222388-8c04-4f36-a1bf-40a1158179e0"
      },
      "execution_count": null,
      "outputs": [
        {
          "output_type": "execute_result",
          "data": {
            "text/plain": [
              "44.37371862364013"
            ]
          },
          "metadata": {},
          "execution_count": 50
        }
      ]
    },
    {
      "cell_type": "code",
      "source": [
        "np.std(X)"
      ],
      "metadata": {
        "colab": {
          "base_uri": "https://localhost:8080/"
        },
        "id": "rubnIB6czl3G",
        "outputId": "2a35190d-a12c-420a-b8a4-c8770c9ac10d"
      },
      "execution_count": null,
      "outputs": [
        {
          "output_type": "execute_result",
          "data": {
            "text/plain": [
              "64.83150896595653"
            ]
          },
          "metadata": {},
          "execution_count": 51
        }
      ]
    },
    {
      "cell_type": "markdown",
      "source": [
        "#Getting Returns from Prices\n",
        "We can use the `pct_change` function to get returns. Notice how we drop the first element after doing this, as it will be NaN (nothing -> something results in a NaN percent change).\n",
        "\n"
      ],
      "metadata": {
        "id": "oQNm_pzuzqW3"
      }
    },
    {
      "cell_type": "code",
      "source": [
        "R = X.pct_change()[1:]"
      ],
      "metadata": {
        "id": "wM5ZvI0qzq5n"
      },
      "execution_count": null,
      "outputs": []
    },
    {
      "cell_type": "markdown",
      "source": [
        "We can plot the returns distribution as a histogram."
      ],
      "metadata": {
        "id": "xGdrAg6Cz0AS"
      }
    },
    {
      "cell_type": "code",
      "source": [
        "plt.hist(R, bins=20)\n",
        "plt.xlabel('Return')\n",
        "plt.ylabel('Frequency')\n",
        "plt.legend(['MSFT Returns']);"
      ],
      "metadata": {
        "colab": {
          "base_uri": "https://localhost:8080/",
          "height": 279
        },
        "id": "qk_YCQH4z0sr",
        "outputId": "75458477-89ef-4202-99e7-68316b80ee8b"
      },
      "execution_count": null,
      "outputs": [
        {
          "output_type": "display_data",
          "data": {
            "text/plain": [
              "<Figure size 432x288 with 1 Axes>"
            ],
            "image/png": "[encoded data removed]"
          },
          "metadata": {
            "needs_background": "light"
          }
        }
      ]
    },
    {
      "cell_type": "markdown",
      "source": [
        "Get statistics again."
      ],
      "metadata": {
        "id": "nGYP0W7Tz267"
      }
    },
    {
      "cell_type": "code",
      "source": [
        "np.mean(R)"
      ],
      "metadata": {
        "colab": {
          "base_uri": "https://localhost:8080/"
        },
        "id": "tKJhjAbiz52S",
        "outputId": "91fa56c0-65b0-4c32-e510-b0c4e71102bb"
      },
      "execution_count": null,
      "outputs": [
        {
          "output_type": "execute_result",
          "data": {
            "text/plain": [
              "0.0010318237473638508"
            ]
          },
          "metadata": {},
          "execution_count": 54
        }
      ]
    },
    {
      "cell_type": "code",
      "source": [
        "np.std(R)"
      ],
      "metadata": {
        "colab": {
          "base_uri": "https://localhost:8080/"
        },
        "id": "iE2t-2ktz8VV",
        "outputId": "232e8541-8d68-45eb-efff-3355ebbc5dd7"
      },
      "execution_count": null,
      "outputs": [
        {
          "output_type": "execute_result",
          "data": {
            "text/plain": [
              "0.018203008266516576"
            ]
          },
          "metadata": {},
          "execution_count": 55
        }
      ]
    },
    {
      "cell_type": "markdown",
      "source": [
        "Now let's go backwards and generate data out of a normal distribution using the statistics we estimated from Microsoft's returns. We'll see that we have good reason to suspect Microsoft's returns may not be normal, as the resulting normal distribution looks far different."
      ],
      "metadata": {
        "id": "xirm0NHtz_rh"
      }
    },
    {
      "cell_type": "code",
      "source": [
        "plt.hist(np.random.normal(np.mean(R), np.std(R), 10000), bins=20)\n",
        "plt.xlabel('Return')\n",
        "plt.ylabel('Frequency')\n",
        "plt.legend(['Normally Distributed Returns']);"
      ],
      "metadata": {
        "colab": {
          "base_uri": "https://localhost:8080/",
          "height": 279
        },
        "id": "yfy0Bgyj0D31",
        "outputId": "ccb51b36-2db4-405a-e863-338bc22c8b81"
      },
      "execution_count": null,
      "outputs": [
        {
          "output_type": "display_data",
          "data": {
            "text/plain": [
              "<Figure size 432x288 with 1 Axes>"
            ],
            "image/png": "[encoded data removed]"
          },
          "metadata": {
            "needs_background": "light"
          }
        }
      ]
    },
    {
      "cell_type": "markdown",
      "source": [
        "#Generating a Moving Average\n",
        "`pandas` has some nice tools to allow us to generate rolling statistics. Here's an example. Notice how there's no moving average for the first 60 days, as we don't have 60 days of data on which to generate the statistic."
      ],
      "metadata": {
        "id": "conuugte0Gs7"
      }
    },
    {
      "cell_type": "code",
      "source": [
        "# Take the average of the last 60 days at each timepoint.\n",
        "MAVG = X.rolling(4).mean()\n",
        "plt.plot(X.index, X.values)\n",
        "plt.plot(MAVG.index, MAVG.values)\n",
        "plt.ylabel('Price')\n",
        "plt.legend(['MSFT', '60-day MAVG']);"
      ],
      "metadata": {
        "colab": {
          "base_uri": "https://localhost:8080/",
          "height": 265
        },
        "id": "tLcDXLrz0MIX",
        "outputId": "39935ed8-6c91-4438-9dd7-a4913688f8a0"
      },
      "execution_count": null,
      "outputs": [
        {
          "output_type": "display_data",
          "data": {
            "text/plain": [
              "<Figure size 432x288 with 1 Axes>"
            ],
            "image/png": "[encoded data removed]"
          },
          "metadata": {
            "needs_background": "light"
          }
        }
      ]
    },
    {
      "cell_type": "markdown",
      "source": [
        "#INTRODUCTION TO PYTHON\n",
        "All of the coding that you will do on the Quantopian platform will be in Python. It is also just a good, jack-of-all-trades language to know! Here we will provide you with the basics so that you can feel confident going through our other lectures and understanding what is happening."
      ],
      "metadata": {
        "id": "QQqnoBcz0ks2"
      }
    },
    {
      "cell_type": "markdown",
      "source": [
        "#Code Comments\n",
        "A comment is a note made by a programmer in the source code of a program. Its purpose is to clarify the source code and make it easier for people to follow along with what is happening. Anything in a comment is generally ignored when the code is actually run, making comments useful for including explanations and reasoning as well as removing specific lines of code that you may be unsure about. Comments in Python are created by using the pound symbol (# Insert Text Here). Including a # in a line of code will comment out anything that follows it."
      ],
      "metadata": {
        "id": "PNO8gt230vYb"
      }
    },
    {
      "cell_type": "code",
      "source": [
        "# This is a comment\n",
        "# These lines of code will not change any values\n",
        "# Anything following the first # is not run as code"
      ],
      "metadata": {
        "id": "4ykkdopB0y1s"
      },
      "execution_count": null,
      "outputs": []
    },
    {
      "cell_type": "markdown",
      "source": [
        "**My own example 1**"
      ],
      "metadata": {
        "id": "qpQHjIz601n0"
      }
    },
    {
      "cell_type": "code",
      "source": [
        "# Información relevante\n",
        "# Metodos Numericos UN 2022-II"
      ],
      "metadata": {
        "id": "Ul8ZCuVo05jr"
      },
      "execution_count": null,
      "outputs": []
    },
    {
      "cell_type": "markdown",
      "source": [
        "You may hear text enclosed in triple quotes (`\"\"\" Insert Text Here \"\"\"`) referred to as multi-line comments, but this is not entirely accurate. This is a special type of `string` (a data type we will cover), called a `docstring`, used to explain the purpose of a function."
      ],
      "metadata": {
        "id": "jAi7eNpc1CA5"
      }
    },
    {
      "cell_type": "code",
      "source": [
        "\"\"\" This is a special string \"\"\""
      ],
      "metadata": {
        "colab": {
          "base_uri": "https://localhost:8080/",
          "height": 35
        },
        "id": "dqRTvdnE1NNE",
        "outputId": "d7d39079-ccfc-4bd9-c532-6ef3e9e8495a"
      },
      "execution_count": null,
      "outputs": [
        {
          "output_type": "execute_result",
          "data": {
            "text/plain": [
              "' This is a special string '"
            ],
            "application/vnd.google.colaboratory.intrinsic+json": {
              "type": "string"
            }
          },
          "metadata": {},
          "execution_count": 63
        }
      ]
    },
    {
      "cell_type": "markdown",
      "source": [
        "Make sure you read the comments within each code cell (if they are there). They will provide more real-time explanations of what is going on as you look at each line of code."
      ],
      "metadata": {
        "id": "ZOA32KOx1Sq_"
      }
    },
    {
      "cell_type": "markdown",
      "source": [
        "#Variables\n",
        "Variables provide names for values in programming. If you want to save a value for later or repeated use, you give the value a name, storing the contents in a variable. Variables in programming work in a fundamentally similar way to variables in algebra, but in Python they can take on various different data types.\n",
        "\n",
        "The basic variable types that we will cover in this section are `integers`, `floating point numbers`, `booleans`, and `strings`.\n",
        "\n",
        "An `integer` in programming is the same as in mathematics, a round number with no values after the decimal point. We use the built-in print function here to display the values of our variables as well as their types!"
      ],
      "metadata": {
        "id": "C6dE7-gu1U-7"
      }
    },
    {
      "cell_type": "code",
      "source": [
        "my_integer = 50\n",
        "print(my_integer), type(my_integer)"
      ],
      "metadata": {
        "colab": {
          "base_uri": "https://localhost:8080/"
        },
        "id": "piIJXe-R1gYq",
        "outputId": "c79fd558-808a-4d9e-a95a-60ed1f42b330"
      },
      "execution_count": null,
      "outputs": [
        {
          "output_type": "stream",
          "name": "stdout",
          "text": [
            "50\n"
          ]
        },
        {
          "output_type": "execute_result",
          "data": {
            "text/plain": [
              "(None, int)"
            ]
          },
          "metadata": {},
          "execution_count": 65
        }
      ]
    },
    {
      "cell_type": "markdown",
      "source": [
        "**My own example 2**"
      ],
      "metadata": {
        "id": "16I7VB5-1u55"
      }
    },
    {
      "cell_type": "code",
      "source": [
        "my_inte = 256\n",
        "print(my_inte), type(my_inte)"
      ],
      "metadata": {
        "colab": {
          "base_uri": "https://localhost:8080/"
        },
        "id": "hRCc7g711xx2",
        "outputId": "45deb917-06cc-4527-fa72-601598b44521"
      },
      "execution_count": null,
      "outputs": [
        {
          "output_type": "stream",
          "name": "stdout",
          "text": [
            "256\n"
          ]
        },
        {
          "output_type": "execute_result",
          "data": {
            "text/plain": [
              "(None, int)"
            ]
          },
          "metadata": {},
          "execution_count": 66
        }
      ]
    },
    {
      "cell_type": "markdown",
      "source": [
        "Variables, regardless of type, are assigned by using a single equals sign (=). Variables are case-sensitive so any changes in variation in the capitals of a variable name will reference a different variable entirely."
      ],
      "metadata": {
        "id": "w6uunDFK14Oq"
      }
    },
    {
      "cell_type": "code",
      "source": [
        "one = 1\n",
        "print(One)"
      ],
      "metadata": {
        "colab": {
          "base_uri": "https://localhost:8080/",
          "height": 183
        },
        "id": "g4PeL3r618gR",
        "outputId": "2c37f166-49ed-4a5b-9a24-ec52605ebcb5"
      },
      "execution_count": null,
      "outputs": [
        {
          "output_type": "error",
          "ename": "NameError",
          "evalue": "ignored",
          "traceback": [
            "\u001b[0;31m---------------------------------------------------------------------------\u001b[0m",
            "\u001b[0;31mNameError\u001b[0m                                 Traceback (most recent call last)",
            "\u001b[0;32m<ipython-input-68-6b74af782f90>\u001b[0m in \u001b[0;36m<module>\u001b[0;34m\u001b[0m\n\u001b[1;32m      1\u001b[0m \u001b[0mone\u001b[0m \u001b[0;34m=\u001b[0m \u001b[0;36m1\u001b[0m\u001b[0;34m\u001b[0m\u001b[0;34m\u001b[0m\u001b[0m\n\u001b[0;32m----> 2\u001b[0;31m \u001b[0mprint\u001b[0m\u001b[0;34m(\u001b[0m\u001b[0mOne\u001b[0m\u001b[0;34m)\u001b[0m\u001b[0;34m\u001b[0m\u001b[0;34m\u001b[0m\u001b[0m\n\u001b[0m",
            "\u001b[0;31mNameError\u001b[0m: name 'One' is not defined"
          ]
        }
      ]
    },
    {
      "cell_type": "markdown",
      "source": [
        "**My own example 3**"
      ],
      "metadata": {
        "id": "O4uNlZHX2EaK"
      }
    },
    {
      "cell_type": "code",
      "source": [
        "tea = 3\n",
        "print (tEa)"
      ],
      "metadata": {
        "colab": {
          "base_uri": "https://localhost:8080/",
          "height": 183
        },
        "id": "biMwvn-S2Gvv",
        "outputId": "f45b1235-1d49-40ea-f177-e8f1d2efa88c"
      },
      "execution_count": null,
      "outputs": [
        {
          "output_type": "error",
          "ename": "NameError",
          "evalue": "ignored",
          "traceback": [
            "\u001b[0;31m---------------------------------------------------------------------------\u001b[0m",
            "\u001b[0;31mNameError\u001b[0m                                 Traceback (most recent call last)",
            "\u001b[0;32m<ipython-input-69-e4b40feaaac6>\u001b[0m in \u001b[0;36m<module>\u001b[0;34m\u001b[0m\n\u001b[1;32m      1\u001b[0m \u001b[0mtea\u001b[0m \u001b[0;34m=\u001b[0m \u001b[0;36m3\u001b[0m\u001b[0;34m\u001b[0m\u001b[0;34m\u001b[0m\u001b[0m\n\u001b[0;32m----> 2\u001b[0;31m \u001b[0mprint\u001b[0m \u001b[0;34m(\u001b[0m\u001b[0mtEa\u001b[0m\u001b[0;34m)\u001b[0m\u001b[0;34m\u001b[0m\u001b[0;34m\u001b[0m\u001b[0m\n\u001b[0m",
            "\u001b[0;31mNameError\u001b[0m: name 'tEa' is not defined"
          ]
        }
      ]
    },
    {
      "cell_type": "markdown",
      "source": [
        "A floating point number, or a float is a fancy name for a real number (again as in mathematics). To define a float, we need to either include a decimal point or specify that the value is a float."
      ],
      "metadata": {
        "id": "EJxsWBcB2K4K"
      }
    },
    {
      "cell_type": "code",
      "source": [
        "my_float = 1.0\n",
        "print (my_float), type(my_float)\n",
        "my_float = float(1)\n",
        "print (my_float), type(my_float)"
      ],
      "metadata": {
        "colab": {
          "base_uri": "https://localhost:8080/"
        },
        "id": "35gIZkQr2QoG",
        "outputId": "930b7810-4303-4357-8f67-8f45ad9c88c5"
      },
      "execution_count": null,
      "outputs": [
        {
          "output_type": "stream",
          "name": "stdout",
          "text": [
            "1.0\n",
            "1.0\n"
          ]
        },
        {
          "output_type": "execute_result",
          "data": {
            "text/plain": [
              "(None, float)"
            ]
          },
          "metadata": {},
          "execution_count": 71
        }
      ]
    },
    {
      "cell_type": "markdown",
      "source": [
        "**My own example 4**"
      ],
      "metadata": {
        "id": "W-YrBJtM2Y9k"
      }
    },
    {
      "cell_type": "code",
      "source": [
        "myflo = 2.56\n",
        "print (myflo), type(myflo)\n",
        "myflo = float(2.56)\n",
        "print (myflo), type(myflo)"
      ],
      "metadata": {
        "colab": {
          "base_uri": "https://localhost:8080/"
        },
        "id": "zb9i0SAh2bri",
        "outputId": "97ce3b55-8520-43af-b6fc-d3faf59c91e4"
      },
      "execution_count": null,
      "outputs": [
        {
          "output_type": "stream",
          "name": "stdout",
          "text": [
            "2.56\n",
            "2.56\n"
          ]
        },
        {
          "output_type": "execute_result",
          "data": {
            "text/plain": [
              "(None, float)"
            ]
          },
          "metadata": {},
          "execution_count": 72
        }
      ]
    },
    {
      "cell_type": "markdown",
      "source": [
        "A variable of type `float` will not round the number that you store in it, while a variable of type `integer` will. This makes `floats` more suitable for mathematical calculations where you want more than just integers.\n",
        "\n",
        "Note that as we used the `float()` function to force an number to be considered a `float`, we can use the `int()` function to force a number to be considered an `int`."
      ],
      "metadata": {
        "id": "m2gjFgGP2qwp"
      }
    },
    {
      "cell_type": "code",
      "source": [
        "my_int = int(3.14159)\n",
        "print (my_int), type(my_int)"
      ],
      "metadata": {
        "colab": {
          "base_uri": "https://localhost:8080/"
        },
        "id": "sJMLwW5D26uz",
        "outputId": "ad25ed33-e76e-4dff-f9b7-2621b893b81b"
      },
      "execution_count": null,
      "outputs": [
        {
          "output_type": "stream",
          "name": "stdout",
          "text": [
            "3\n"
          ]
        },
        {
          "output_type": "execute_result",
          "data": {
            "text/plain": [
              "(None, int)"
            ]
          },
          "metadata": {},
          "execution_count": 74
        }
      ]
    },
    {
      "cell_type": "markdown",
      "source": [
        "**My own example 5**"
      ],
      "metadata": {
        "id": "A2hAOOg33FAD"
      }
    },
    {
      "cell_type": "code",
      "source": [
        "myinte = int(4.676)\n",
        "print(myinte), type(myinte)"
      ],
      "metadata": {
        "colab": {
          "base_uri": "https://localhost:8080/"
        },
        "id": "Z1EXHVGY3H4O",
        "outputId": "50f155b7-00cb-4780-ac3e-782d551ac4b6"
      },
      "execution_count": null,
      "outputs": [
        {
          "output_type": "stream",
          "name": "stdout",
          "text": [
            "4\n"
          ]
        },
        {
          "output_type": "execute_result",
          "data": {
            "text/plain": [
              "(None, int)"
            ]
          },
          "metadata": {},
          "execution_count": 76
        }
      ]
    },
    {
      "cell_type": "markdown",
      "source": [
        "The `int()` function will also truncate any digits that a number may have after the decimal point!\n",
        "\n",
        "Strings allow you to include text as a variable to operate on. They are defined using either single quotes ('') or double quotes (\"\")."
      ],
      "metadata": {
        "id": "uPBZ_p2y3VXJ"
      }
    },
    {
      "cell_type": "code",
      "source": [
        "my_string = 'This is a string with single quotes'\n",
        "print (my_string)\n",
        "my_string = \"This is a string with double quotes\"\n",
        "print (my_string)"
      ],
      "metadata": {
        "colab": {
          "base_uri": "https://localhost:8080/"
        },
        "id": "rMkCLV3E3ZS_",
        "outputId": "156a4b5a-25cb-44fb-c53b-7df1ac94bfcf"
      },
      "execution_count": null,
      "outputs": [
        {
          "output_type": "stream",
          "name": "stdout",
          "text": [
            "This is a string with single quotes\n",
            "This is a string with double quotes\n"
          ]
        }
      ]
    },
    {
      "cell_type": "markdown",
      "source": [
        "**My own example 6**"
      ],
      "metadata": {
        "id": "RAp70B9L3lkW"
      }
    },
    {
      "cell_type": "code",
      "source": [
        "mystr = 'This is a code line'\n",
        "print (mystr)\n",
        "mystr = \"This is a double quotes code line\"\n",
        "print (mystr)"
      ],
      "metadata": {
        "colab": {
          "base_uri": "https://localhost:8080/"
        },
        "id": "w5GDunpz3pK4",
        "outputId": "90dcfe7d-d21b-421d-df4c-8004dd92b809"
      },
      "execution_count": null,
      "outputs": [
        {
          "output_type": "stream",
          "name": "stdout",
          "text": [
            "This is a code line\n",
            "This is a double quotes code line\n"
          ]
        }
      ]
    },
    {
      "cell_type": "markdown",
      "source": [
        "Both are allowed so that we can include apostrophes or quotation marks in a string if we so choose."
      ],
      "metadata": {
        "id": "yT1MbXeq34SE"
      }
    },
    {
      "cell_type": "code",
      "source": [
        "my_string = '\"Jabberwocky\", by Lewis Carroll'\n",
        "print (my_string)\n",
        "my_string = \"'Twas brillig, and the slithy toves / Did gyre and gimble in the wabe;\"\n",
        "print (my_string)"
      ],
      "metadata": {
        "colab": {
          "base_uri": "https://localhost:8080/"
        },
        "id": "IzFK_lwL36Ia",
        "outputId": "e578510c-24da-4225-d762-c4f10e6b67e6"
      },
      "execution_count": null,
      "outputs": [
        {
          "output_type": "stream",
          "name": "stdout",
          "text": [
            "\"Jabberwocky\", by Lewis Carroll\n",
            "'Twas brillig, and the slithy toves / Did gyre and gimble in the wabe;\n"
          ]
        }
      ]
    },
    {
      "cell_type": "markdown",
      "source": [
        "**My own example 7**"
      ],
      "metadata": {
        "id": "dfrrueJz4Mvh"
      }
    },
    {
      "cell_type": "code",
      "source": [
        "mystr = '\"Cien años de soledad\", by Gabriel García Marquez'\n",
        "print (mystr)\n",
        "mystr = \"'A quote before the line\"\n",
        "print (mystr)"
      ],
      "metadata": {
        "colab": {
          "base_uri": "https://localhost:8080/"
        },
        "id": "IwYUkdgN4PRK",
        "outputId": "60ae310e-e6a3-403e-fc20-229375ed5cf8"
      },
      "execution_count": null,
      "outputs": [
        {
          "output_type": "stream",
          "name": "stdout",
          "text": [
            "\"Cien años de soledad\", by Gabriel García Marquez\n",
            "'A quote before the line\n"
          ]
        }
      ]
    },
    {
      "cell_type": "markdown",
      "source": [
        "Booleans, or `bools` are binary variable types. A `bool` can only take on one of two values, these being `True` or `False`. There is much more to this idea of truth values when it comes to programming, which we cover later in the [Logical Operators](https://github.com/quantopian/research_public/blob/e183ecd093efbebce9b0febdc7d0253159c04061/notebooks/lectures/Introduction_to_Python/#id-section5) of this notebook."
      ],
      "metadata": {
        "id": "YjYkteKC4v3X"
      }
    },
    {
      "cell_type": "code",
      "source": [
        "my_bool = True\n",
        "print (my_bool), type(my_bool)"
      ],
      "metadata": {
        "colab": {
          "base_uri": "https://localhost:8080/"
        },
        "id": "jM9I7dvk46pf",
        "outputId": "6d4e388e-2950-464d-ea49-671d0fea5d1f"
      },
      "execution_count": null,
      "outputs": [
        {
          "output_type": "stream",
          "name": "stdout",
          "text": [
            "True\n"
          ]
        },
        {
          "output_type": "execute_result",
          "data": {
            "text/plain": [
              "(None, bool)"
            ]
          },
          "metadata": {},
          "execution_count": 88
        }
      ]
    },
    {
      "cell_type": "markdown",
      "source": [
        "**My own example 8**"
      ],
      "metadata": {
        "id": "qE9Ih86i4_NW"
      }
    },
    {
      "cell_type": "code",
      "source": [
        "myboolean = False\n",
        "print (myboolean), type(myboolean)"
      ],
      "metadata": {
        "colab": {
          "base_uri": "https://localhost:8080/"
        },
        "id": "4X7r7sYB5BmA",
        "outputId": "2007a5d2-ab68-465e-dcfa-6d20d50b0ead"
      },
      "execution_count": null,
      "outputs": [
        {
          "output_type": "stream",
          "name": "stdout",
          "text": [
            "False\n"
          ]
        },
        {
          "output_type": "execute_result",
          "data": {
            "text/plain": [
              "(None, bool)"
            ]
          },
          "metadata": {},
          "execution_count": 89
        }
      ]
    },
    {
      "cell_type": "markdown",
      "source": [
        "There are many more data types that you can assign as variables in Python, but these are the basic ones! We will cover a few more later as we move through this tutorial."
      ],
      "metadata": {
        "id": "lq9yeZre5Gqv"
      }
    },
    {
      "cell_type": "markdown",
      "source": [
        "#Basic Math\n",
        "Python has a number of built-in math functions. These can be extended even further by importing the math package or by including any number of other calculation-based packages.\n",
        "\n",
        "All of the basic arithmetic operations are supported: `+`, `-`, `/`, and` *`. You can create exponents by using `**` and modular arithmetic is introduced with the mod operator, `%`."
      ],
      "metadata": {
        "id": "rhPl-ewi5I-E"
      }
    },
    {
      "cell_type": "code",
      "source": [
        "print ('Addition: ', 2 + 2)\n",
        "print ('Subtraction: ', 7 - 4)\n",
        "print ('Multiplication: ', 2 * 5)\n",
        "print ('Division: ', 10 / 2)\n",
        "print ('Exponentiation: ', 3**2)"
      ],
      "metadata": {
        "colab": {
          "base_uri": "https://localhost:8080/"
        },
        "id": "-Va656M75kGq",
        "outputId": "ff6a4d74-2429-4ade-85e7-8d8d509d796d"
      },
      "execution_count": null,
      "outputs": [
        {
          "output_type": "stream",
          "name": "stdout",
          "text": [
            "Addition:  4\n",
            "Subtraction:  3\n",
            "Multiplication:  10\n",
            "Division:  5.0\n",
            "Exponentiation:  9\n"
          ]
        }
      ]
    },
    {
      "cell_type": "markdown",
      "source": [
        "**My own example 9**"
      ],
      "metadata": {
        "id": "lrjJbgxK507y"
      }
    },
    {
      "cell_type": "code",
      "source": [
        "print ('Addition: ', 3+5)\n",
        "print ('Subtraction: ', 8 - 1)\n",
        "print ('Multiplication: ', 3 * 4)\n",
        "print ('Division: ', 5 / 2)\n",
        "print ('Exponentiation: ', 6**2)"
      ],
      "metadata": {
        "colab": {
          "base_uri": "https://localhost:8080/"
        },
        "id": "IgEiC5IF564O",
        "outputId": "5787faa7-f938-4c53-a81b-f238d8d7ff02"
      },
      "execution_count": null,
      "outputs": [
        {
          "output_type": "stream",
          "name": "stdout",
          "text": [
            "Addition:  8\n",
            "Subtraction:  7\n",
            "Multiplication:  12\n",
            "Division:  2.5\n",
            "Exponentiation:  36\n"
          ]
        }
      ]
    },
    {
      "cell_type": "markdown",
      "source": [
        "If you are not familiar with the the mod operator, it operates like a remainder function. If we type **15%4** , it will return the remainder after dividing 15 by 4."
      ],
      "metadata": {
        "id": "phkLMfBy6Jgn"
      }
    },
    {
      "cell_type": "code",
      "source": [
        "print ('Modulo', 15%4)"
      ],
      "metadata": {
        "colab": {
          "base_uri": "https://localhost:8080/"
        },
        "id": "uox_8Hw26QO4",
        "outputId": "b3ea8642-f6d0-4ffc-fe0c-27c55bde1c67"
      },
      "execution_count": null,
      "outputs": [
        {
          "output_type": "stream",
          "name": "stdout",
          "text": [
            "Modulo 3\n"
          ]
        }
      ]
    },
    {
      "cell_type": "markdown",
      "source": [
        "**My own example 10**"
      ],
      "metadata": {
        "id": "xpMmqDKe6YmB"
      }
    },
    {
      "cell_type": "code",
      "source": [
        "print ('Modulo', 22%6)"
      ],
      "metadata": {
        "colab": {
          "base_uri": "https://localhost:8080/"
        },
        "id": "tbZhvJW16bXZ",
        "outputId": "93cc18b0-d6b0-4e45-f5b1-475620f5f2f8"
      },
      "execution_count": null,
      "outputs": [
        {
          "output_type": "stream",
          "name": "stdout",
          "text": [
            "Modulo 4\n"
          ]
        }
      ]
    },
    {
      "cell_type": "markdown",
      "source": [
        "Mathematical functions also work on variables!"
      ],
      "metadata": {
        "id": "Jy8BHd0I6k29"
      }
    },
    {
      "cell_type": "code",
      "source": [
        "first_integer = 4\n",
        "second_integer = 5\n",
        "print (first_integer * second_integer)"
      ],
      "metadata": {
        "colab": {
          "base_uri": "https://localhost:8080/"
        },
        "id": "-swIm0Bf6lnQ",
        "outputId": "ff31cc57-ec04-4ffa-ce07-1428af5e1a80"
      },
      "execution_count": null,
      "outputs": [
        {
          "output_type": "stream",
          "name": "stdout",
          "text": [
            "20\n"
          ]
        }
      ]
    },
    {
      "cell_type": "markdown",
      "source": [
        "**My own example 11**"
      ],
      "metadata": {
        "id": "zDCx137l6pXt"
      }
    },
    {
      "cell_type": "code",
      "source": [
        "firstone = 3\n",
        "secondone = 9\n",
        "print (secondone - firstone)"
      ],
      "metadata": {
        "colab": {
          "base_uri": "https://localhost:8080/"
        },
        "id": "H9Dqua-R6rxr",
        "outputId": "ec27b427-7ee3-4be0-ad29-a11a446151c9"
      },
      "execution_count": null,
      "outputs": [
        {
          "output_type": "stream",
          "name": "stdout",
          "text": [
            "6\n"
          ]
        }
      ]
    },
    {
      "cell_type": "markdown",
      "source": [
        "Make sure that your variables are floats if you want to have decimal points in your answer. If you perform math exclusively with integers, you get an integer. Including any float in the calculation will make the result a float."
      ],
      "metadata": {
        "id": "lkPe6PZP6y4q"
      }
    },
    {
      "cell_type": "code",
      "source": [
        "first_integer = 11\n",
        "second_integer = 3\n",
        "print (first_integer/second_integer)"
      ],
      "metadata": {
        "colab": {
          "base_uri": "https://localhost:8080/"
        },
        "id": "AAdcUDy_65vG",
        "outputId": "52f0550c-ae41-4aad-9713-19297ebc74b4"
      },
      "execution_count": null,
      "outputs": [
        {
          "output_type": "stream",
          "name": "stdout",
          "text": [
            "3.6666666666666665\n"
          ]
        }
      ]
    },
    {
      "cell_type": "code",
      "source": [
        "first_number = 11.0\n",
        "second_number = 3.0\n",
        "print (first_number / second_number)"
      ],
      "metadata": {
        "colab": {
          "base_uri": "https://localhost:8080/"
        },
        "id": "BD2QJ_tF68xb",
        "outputId": "30a97f7d-fcdc-41d5-8185-0fc1ff799b2b"
      },
      "execution_count": null,
      "outputs": [
        {
          "output_type": "stream",
          "name": "stdout",
          "text": [
            "3.6666666666666665\n"
          ]
        }
      ]
    },
    {
      "cell_type": "markdown",
      "source": [
        "Python has a few built-in math functions. The most notable of these are:\n",
        "\n",
        "*   `abs()`\n",
        "*   `round()`\n",
        "*   `max()`\n",
        "*   `min()`\n",
        "*   `sum()`\n",
        "\n",
        "These functions all act as you would expect, given their names. Calling `abs()` on a number will return its absolute value. The `round()` function will round a number to a specified number of the decimal points (the default is ). Calling `max()` or `min()` on a collection of numbers will return, respectively, the maximum or minimum value in the collection. Calling `sum()` on a collection of numbers will add them all up. If you're not familiar with how collections of values in Python work, don't worry! We will cover collections in-depth in the next section.\n",
        "\n",
        "Additional math functionality can be added in with the math package."
      ],
      "metadata": {
        "id": "AsPP7owx7XFs"
      }
    },
    {
      "cell_type": "code",
      "source": [
        "import math"
      ],
      "metadata": {
        "id": "5Oyae8pz72eq"
      },
      "execution_count": null,
      "outputs": []
    },
    {
      "cell_type": "markdown",
      "source": [
        "The math library adds a long list of new mathematical functions to Python. Feel free to check out the [documentation](https://docs.python.org/2/library/math.html) for the full list and details. It concludes some mathematical constants"
      ],
      "metadata": {
        "id": "fX4wBXER778R"
      }
    },
    {
      "cell_type": "code",
      "source": [
        "print ('Pi: ', math.pi)\n",
        "print (\"Euler's Constant: \", math.e)"
      ],
      "metadata": {
        "colab": {
          "base_uri": "https://localhost:8080/"
        },
        "id": "Ml31tBz278x5",
        "outputId": "6c271ebb-c109-4fdc-ff5b-1d6a0eec7c24"
      },
      "execution_count": null,
      "outputs": [
        {
          "output_type": "stream",
          "name": "stdout",
          "text": [
            "Pi:  3.141592653589793\n",
            "Euler's Constant:  2.718281828459045\n"
          ]
        }
      ]
    },
    {
      "cell_type": "markdown",
      "source": [
        "As well as some commonly used math functions"
      ],
      "metadata": {
        "id": "EsRK3TOD8JrK"
      }
    },
    {
      "cell_type": "code",
      "source": [
        "print ('Cosine of pi: ', math.cos(math.pi))"
      ],
      "metadata": {
        "colab": {
          "base_uri": "https://localhost:8080/"
        },
        "id": "mcFBg39Q8LpC",
        "outputId": "a7341b46-010d-4de9-9324-04e36da5c607"
      },
      "execution_count": null,
      "outputs": [
        {
          "output_type": "stream",
          "name": "stdout",
          "text": [
            "Cosine of pi:  -1.0\n"
          ]
        }
      ]
    },
    {
      "cell_type": "markdown",
      "source": [
        "**My own example 12**"
      ],
      "metadata": {
        "id": "4bhZ6TY78QI9"
      }
    },
    {
      "cell_type": "code",
      "source": [
        "print ('Sine of pi: ', math.sin(math.pi))"
      ],
      "metadata": {
        "colab": {
          "base_uri": "https://localhost:8080/"
        },
        "id": "I6l2OO1L8SAn",
        "outputId": "f796550d-44b1-4121-9d3e-4bad0e498640"
      },
      "execution_count": null,
      "outputs": [
        {
          "output_type": "stream",
          "name": "stdout",
          "text": [
            "Sine of pi:  1.2246467991473532e-16\n"
          ]
        }
      ]
    },
    {
      "cell_type": "markdown",
      "source": [
        "#Collections\n",
        "###Lists\n",
        "A list in Python is an ordered collection of objects that can contain any data type. We define a list using brackets ([])."
      ],
      "metadata": {
        "id": "JzoGTVpF8lWT"
      }
    },
    {
      "cell_type": "code",
      "source": [
        "my_list = [1, 2, 3]\n",
        "print (my_list)"
      ],
      "metadata": {
        "colab": {
          "base_uri": "https://localhost:8080/"
        },
        "id": "VggmuM4u8s6E",
        "outputId": "6b4f804a-29c4-4406-eb73-d834ae49f9ed"
      },
      "execution_count": null,
      "outputs": [
        {
          "output_type": "stream",
          "name": "stdout",
          "text": [
            "[1, 2, 3]\n"
          ]
        }
      ]
    },
    {
      "cell_type": "markdown",
      "source": [
        "**My own example 13**"
      ],
      "metadata": {
        "id": "lMeAopKg8wn0"
      }
    },
    {
      "cell_type": "code",
      "source": [
        "milista = [4,8,10,34]\n",
        "print (milista)"
      ],
      "metadata": {
        "colab": {
          "base_uri": "https://localhost:8080/"
        },
        "id": "7mvGDG198yYy",
        "outputId": "a027bdd7-f0bd-47fc-a3e2-1b7d3779eeff"
      },
      "execution_count": null,
      "outputs": [
        {
          "output_type": "stream",
          "name": "stdout",
          "text": [
            "[4, 8, 10, 34]\n"
          ]
        }
      ]
    },
    {
      "cell_type": "markdown",
      "source": [
        "We can access and index the list by using brackets as well. In order to select an individual element, simply type the list name followed by the index of the item you are looking for in braces."
      ],
      "metadata": {
        "id": "WBxVQLz784P9"
      }
    },
    {
      "cell_type": "code",
      "source": [
        "print (my_list[0])\n",
        "print (my_list[2])"
      ],
      "metadata": {
        "colab": {
          "base_uri": "https://localhost:8080/"
        },
        "id": "0SdoY62386KD",
        "outputId": "27a0e9f6-df59-4694-a8bb-27dbcfc77e31"
      },
      "execution_count": null,
      "outputs": [
        {
          "output_type": "stream",
          "name": "stdout",
          "text": [
            "1\n",
            "3\n"
          ]
        }
      ]
    },
    {
      "cell_type": "markdown",
      "source": [
        "**My own example 14**"
      ],
      "metadata": {
        "id": "e9JMwBNO8--v"
      }
    },
    {
      "cell_type": "code",
      "source": [
        "print (milista[1])\n",
        "print (milista[3])"
      ],
      "metadata": {
        "colab": {
          "base_uri": "https://localhost:8080/"
        },
        "id": "tlYwMjcI9A8o",
        "outputId": "decdf465-ce66-43e6-8c0e-da7d36f421ec"
      },
      "execution_count": null,
      "outputs": [
        {
          "output_type": "stream",
          "name": "stdout",
          "text": [
            "8\n",
            "34\n"
          ]
        }
      ]
    },
    {
      "cell_type": "markdown",
      "source": [
        "Indexing in Python starts from **0**. If you have a list of length **n**, the first element of the list is at index **0**, the second element is at index **1**, and so on and so forth. The final element of the list will be at index **n-1**. Be careful! Trying to access a non-existent index will cause an error."
      ],
      "metadata": {
        "id": "mdc9NYjo9MEK"
      }
    },
    {
      "cell_type": "code",
      "source": [
        "print ('The first, second, and third list elements: ', my_list[0], my_list[1], my_list[2])\n",
        "print ('Accessing outside the list bounds causes an error: ', my_list[3])"
      ],
      "metadata": {
        "colab": {
          "base_uri": "https://localhost:8080/",
          "height": 200
        },
        "id": "3QHLzdTZ9cM8",
        "outputId": "be0a2a93-452a-4d0f-c39e-cfc8932f0288"
      },
      "execution_count": null,
      "outputs": [
        {
          "output_type": "stream",
          "name": "stdout",
          "text": [
            "The first, second, and third list elements:  1 2 3\n"
          ]
        },
        {
          "output_type": "error",
          "ename": "IndexError",
          "evalue": "ignored",
          "traceback": [
            "\u001b[0;31m---------------------------------------------------------------------------\u001b[0m",
            "\u001b[0;31mIndexError\u001b[0m                                Traceback (most recent call last)",
            "\u001b[0;32m<ipython-input-124-71889cb02960>\u001b[0m in \u001b[0;36m<module>\u001b[0;34m\u001b[0m\n\u001b[1;32m      1\u001b[0m \u001b[0mprint\u001b[0m \u001b[0;34m(\u001b[0m\u001b[0;34m'The first, second, and third list elements: '\u001b[0m\u001b[0;34m,\u001b[0m \u001b[0mmy_list\u001b[0m\u001b[0;34m[\u001b[0m\u001b[0;36m0\u001b[0m\u001b[0;34m]\u001b[0m\u001b[0;34m,\u001b[0m \u001b[0mmy_list\u001b[0m\u001b[0;34m[\u001b[0m\u001b[0;36m1\u001b[0m\u001b[0;34m]\u001b[0m\u001b[0;34m,\u001b[0m \u001b[0mmy_list\u001b[0m\u001b[0;34m[\u001b[0m\u001b[0;36m2\u001b[0m\u001b[0;34m]\u001b[0m\u001b[0;34m)\u001b[0m\u001b[0;34m\u001b[0m\u001b[0;34m\u001b[0m\u001b[0m\n\u001b[0;32m----> 2\u001b[0;31m \u001b[0mprint\u001b[0m \u001b[0;34m(\u001b[0m\u001b[0;34m'Accessing outside the list bounds causes an error: '\u001b[0m\u001b[0;34m,\u001b[0m \u001b[0mmy_list\u001b[0m\u001b[0;34m[\u001b[0m\u001b[0;36m3\u001b[0m\u001b[0;34m]\u001b[0m\u001b[0;34m)\u001b[0m\u001b[0;34m\u001b[0m\u001b[0;34m\u001b[0m\u001b[0m\n\u001b[0m",
            "\u001b[0;31mIndexError\u001b[0m: list index out of range"
          ]
        }
      ]
    },
    {
      "cell_type": "markdown",
      "source": [
        "**My own example 15**"
      ],
      "metadata": {
        "id": "0bbYGxGW9hoT"
      }
    },
    {
      "cell_type": "code",
      "source": [
        "print ('first, second, third and fourth list elements', milista[0], milista[1], milista[2], milista[3])\n",
        "print ('Accessing outside the list bounds causes an error: ', milista[4])"
      ],
      "metadata": {
        "colab": {
          "base_uri": "https://localhost:8080/",
          "height": 200
        },
        "id": "A25OSJTg9ke7",
        "outputId": "6c3259b8-ab42-4c69-9293-d8962dcad327"
      },
      "execution_count": null,
      "outputs": [
        {
          "output_type": "stream",
          "name": "stdout",
          "text": [
            "first, second, third and fourth list elements 4 8 10 34\n"
          ]
        },
        {
          "output_type": "error",
          "ename": "IndexError",
          "evalue": "ignored",
          "traceback": [
            "\u001b[0;31m---------------------------------------------------------------------------\u001b[0m",
            "\u001b[0;31mIndexError\u001b[0m                                Traceback (most recent call last)",
            "\u001b[0;32m<ipython-input-125-20ac99e3ed16>\u001b[0m in \u001b[0;36m<module>\u001b[0;34m\u001b[0m\n\u001b[1;32m      1\u001b[0m \u001b[0mprint\u001b[0m \u001b[0;34m(\u001b[0m\u001b[0;34m'first, second, third and fourth list elements'\u001b[0m\u001b[0;34m,\u001b[0m \u001b[0mmilista\u001b[0m\u001b[0;34m[\u001b[0m\u001b[0;36m0\u001b[0m\u001b[0;34m]\u001b[0m\u001b[0;34m,\u001b[0m \u001b[0mmilista\u001b[0m\u001b[0;34m[\u001b[0m\u001b[0;36m1\u001b[0m\u001b[0;34m]\u001b[0m\u001b[0;34m,\u001b[0m \u001b[0mmilista\u001b[0m\u001b[0;34m[\u001b[0m\u001b[0;36m2\u001b[0m\u001b[0;34m]\u001b[0m\u001b[0;34m,\u001b[0m \u001b[0mmilista\u001b[0m\u001b[0;34m[\u001b[0m\u001b[0;36m3\u001b[0m\u001b[0;34m]\u001b[0m\u001b[0;34m)\u001b[0m\u001b[0;34m\u001b[0m\u001b[0;34m\u001b[0m\u001b[0m\n\u001b[0;32m----> 2\u001b[0;31m \u001b[0mprint\u001b[0m \u001b[0;34m(\u001b[0m\u001b[0;34m'Accessing outside the list bounds causes an error: '\u001b[0m\u001b[0;34m,\u001b[0m \u001b[0mmilista\u001b[0m\u001b[0;34m[\u001b[0m\u001b[0;36m4\u001b[0m\u001b[0;34m]\u001b[0m\u001b[0;34m)\u001b[0m\u001b[0;34m\u001b[0m\u001b[0;34m\u001b[0m\u001b[0m\n\u001b[0m",
            "\u001b[0;31mIndexError\u001b[0m: list index out of range"
          ]
        }
      ]
    },
    {
      "cell_type": "markdown",
      "source": [
        "We can see the number of elements in a list by calling the `len()` function."
      ],
      "metadata": {
        "id": "x5oG4RnV96rt"
      }
    },
    {
      "cell_type": "code",
      "source": [
        "print (len(my_list))"
      ],
      "metadata": {
        "colab": {
          "base_uri": "https://localhost:8080/"
        },
        "id": "-0GecOMy991X",
        "outputId": "e4ab3aab-7216-4058-a116-ba790ff3eacb"
      },
      "execution_count": null,
      "outputs": [
        {
          "output_type": "stream",
          "name": "stdout",
          "text": [
            "3\n"
          ]
        }
      ]
    },
    {
      "cell_type": "markdown",
      "source": [
        "**My own example 16**"
      ],
      "metadata": {
        "id": "XMdF1Co8-CtJ"
      }
    },
    {
      "cell_type": "code",
      "source": [
        "print (len(milista))"
      ],
      "metadata": {
        "colab": {
          "base_uri": "https://localhost:8080/"
        },
        "id": "7NbzjB6W-Fia",
        "outputId": "174ef2c1-f68c-4f2b-ed9f-3e1aa5370d41"
      },
      "execution_count": null,
      "outputs": [
        {
          "output_type": "stream",
          "name": "stdout",
          "text": [
            "4\n"
          ]
        }
      ]
    },
    {
      "cell_type": "markdown",
      "source": [
        "We can update and change a list by accessing an index and assigning new value."
      ],
      "metadata": {
        "id": "XfHw-I3_-Jrq"
      }
    },
    {
      "cell_type": "code",
      "source": [
        "print (my_list)\n",
        "my_list[0] = 42\n",
        "print (my_list)\n"
      ],
      "metadata": {
        "colab": {
          "base_uri": "https://localhost:8080/"
        },
        "id": "d5Kqt25o-KfZ",
        "outputId": "a1a7f756-f395-407b-df89-554aed7b91de"
      },
      "execution_count": null,
      "outputs": [
        {
          "output_type": "stream",
          "name": "stdout",
          "text": [
            "[1, 2, 3]\n",
            "[42, 2, 3]\n"
          ]
        }
      ]
    },
    {
      "cell_type": "markdown",
      "source": [
        "**My own example 17**"
      ],
      "metadata": {
        "id": "6nDnkE92-Pr8"
      }
    },
    {
      "cell_type": "code",
      "source": [
        "print (milista)\n",
        "milista[1]=16\n",
        "print(milista)"
      ],
      "metadata": {
        "colab": {
          "base_uri": "https://localhost:8080/"
        },
        "id": "QEI21w2V-SCg",
        "outputId": "bec91f58-a06b-4081-f876-33b189d671d5"
      },
      "execution_count": null,
      "outputs": [
        {
          "output_type": "stream",
          "name": "stdout",
          "text": [
            "[4, 8, 10, 34]\n",
            "[4, 16, 10, 34]\n"
          ]
        }
      ]
    },
    {
      "cell_type": "markdown",
      "source": [
        "This is fundamentally different from how strings are handled. A `list` is mutable, meaning that you can change a `list`'s elements without changing the list itself. Some data types, like `strings`, are immutable, meaning you cannot change them at all. Once a `string` or other immutable data type has been created, it cannot be directly modified without creating an entirely new object."
      ],
      "metadata": {
        "id": "k6MryEQ9-ZZZ"
      }
    },
    {
      "cell_type": "code",
      "source": [
        "my_string = \"Strings never change\"\n",
        "my_string[0] = 'Z'"
      ],
      "metadata": {
        "colab": {
          "base_uri": "https://localhost:8080/",
          "height": 183
        },
        "id": "DuuVcuux-jjq",
        "outputId": "e1563df8-bcb5-4adf-d39e-cfb0e1be0a3e"
      },
      "execution_count": null,
      "outputs": [
        {
          "output_type": "error",
          "ename": "TypeError",
          "evalue": "ignored",
          "traceback": [
            "\u001b[0;31m---------------------------------------------------------------------------\u001b[0m",
            "\u001b[0;31mTypeError\u001b[0m                                 Traceback (most recent call last)",
            "\u001b[0;32m<ipython-input-130-85065ecd61ab>\u001b[0m in \u001b[0;36m<module>\u001b[0;34m\u001b[0m\n\u001b[1;32m      1\u001b[0m \u001b[0mmy_string\u001b[0m \u001b[0;34m=\u001b[0m \u001b[0;34m\"Strings never change\"\u001b[0m\u001b[0;34m\u001b[0m\u001b[0;34m\u001b[0m\u001b[0m\n\u001b[0;32m----> 2\u001b[0;31m \u001b[0mmy_string\u001b[0m\u001b[0;34m[\u001b[0m\u001b[0;36m0\u001b[0m\u001b[0;34m]\u001b[0m \u001b[0;34m=\u001b[0m \u001b[0;34m'Z'\u001b[0m\u001b[0;34m\u001b[0m\u001b[0;34m\u001b[0m\u001b[0m\n\u001b[0m",
            "\u001b[0;31mTypeError\u001b[0m: 'str' object does not support item assignment"
          ]
        }
      ]
    },
    {
      "cell_type": "markdown",
      "source": [
        "**My own example 18**"
      ],
      "metadata": {
        "id": "yoXO1Es8-pqy"
      }
    },
    {
      "cell_type": "code",
      "source": [
        "mystr = 'Las cadenas nunca cambian'\n",
        "mystr[1] = 'X'"
      ],
      "metadata": {
        "colab": {
          "base_uri": "https://localhost:8080/",
          "height": 183
        },
        "id": "FSxALh_5-r4T",
        "outputId": "97131f82-7192-4dfe-9177-832ceed35eb8"
      },
      "execution_count": null,
      "outputs": [
        {
          "output_type": "error",
          "ename": "TypeError",
          "evalue": "ignored",
          "traceback": [
            "\u001b[0;31m---------------------------------------------------------------------------\u001b[0m",
            "\u001b[0;31mTypeError\u001b[0m                                 Traceback (most recent call last)",
            "\u001b[0;32m<ipython-input-131-02b071e825b3>\u001b[0m in \u001b[0;36m<module>\u001b[0;34m\u001b[0m\n\u001b[1;32m      1\u001b[0m \u001b[0mmystr\u001b[0m \u001b[0;34m=\u001b[0m \u001b[0;34m'Las cadenas nunca cambian'\u001b[0m\u001b[0;34m\u001b[0m\u001b[0;34m\u001b[0m\u001b[0m\n\u001b[0;32m----> 2\u001b[0;31m \u001b[0mmystr\u001b[0m\u001b[0;34m[\u001b[0m\u001b[0;36m1\u001b[0m\u001b[0;34m]\u001b[0m \u001b[0;34m=\u001b[0m \u001b[0;34m'X'\u001b[0m\u001b[0;34m\u001b[0m\u001b[0;34m\u001b[0m\u001b[0m\n\u001b[0m",
            "\u001b[0;31mTypeError\u001b[0m: 'str' object does not support item assignment"
          ]
        }
      ]
    },
    {
      "cell_type": "markdown",
      "source": [
        "As we stated before, a list can contain any data type. Thus, lists can also contain strings."
      ],
      "metadata": {
        "id": "bezSBz3T-z1w"
      }
    },
    {
      "cell_type": "code",
      "source": [
        "my_list_2 = ['one', 'two', 'three']\n",
        "print (my_list_2)"
      ],
      "metadata": {
        "colab": {
          "base_uri": "https://localhost:8080/"
        },
        "id": "x3E-a4Xl-3MU",
        "outputId": "30d0eab2-c8cd-49df-b985-6c123200043a"
      },
      "execution_count": null,
      "outputs": [
        {
          "output_type": "stream",
          "name": "stdout",
          "text": [
            "['one', 'two', 'three']\n"
          ]
        }
      ]
    },
    {
      "cell_type": "markdown",
      "source": [
        "**My own example 19**"
      ],
      "metadata": {
        "id": "nw33KKw9-6df"
      }
    },
    {
      "cell_type": "code",
      "source": [
        "milista2 = ['uno','dos','tres']\n",
        "print(milista2)"
      ],
      "metadata": {
        "colab": {
          "base_uri": "https://localhost:8080/"
        },
        "id": "nEguqUTd-8dK",
        "outputId": "c9c5fabc-16b9-48c3-ea6f-1e902a1eb3c8"
      },
      "execution_count": null,
      "outputs": [
        {
          "output_type": "stream",
          "name": "stdout",
          "text": [
            "['uno', 'dos', 'tres']\n"
          ]
        }
      ]
    },
    {
      "cell_type": "markdown",
      "source": [
        "Lists can also contain multiple different data types at once!"
      ],
      "metadata": {
        "id": "DTaSRZAE_ID9"
      }
    },
    {
      "cell_type": "code",
      "source": [
        "my_list_3 = [True, 'False', 42]\n",
        "my_list_3"
      ],
      "metadata": {
        "colab": {
          "base_uri": "https://localhost:8080/"
        },
        "id": "TUA-JMqV_I20",
        "outputId": "c57e6184-40e2-4fb3-ab3d-ad1c036e1918"
      },
      "execution_count": null,
      "outputs": [
        {
          "output_type": "execute_result",
          "data": {
            "text/plain": [
              "[True, 'False', 42]"
            ]
          },
          "metadata": {},
          "execution_count": 135
        }
      ]
    },
    {
      "cell_type": "markdown",
      "source": [
        "**My own example 20**"
      ],
      "metadata": {
        "id": "NviMc9oI_NnO"
      }
    },
    {
      "cell_type": "code",
      "source": [
        "milista3 = [False, 'abcd', 67, 89.5]\n",
        "milista3"
      ],
      "metadata": {
        "colab": {
          "base_uri": "https://localhost:8080/"
        },
        "id": "HzQaHv8k_PuO",
        "outputId": "0990a52c-0e9d-474e-d9a2-feabd34bf488"
      },
      "execution_count": null,
      "outputs": [
        {
          "output_type": "execute_result",
          "data": {
            "text/plain": [
              "[False, 'abcd', 67, 89.5]"
            ]
          },
          "metadata": {},
          "execution_count": 136
        }
      ]
    },
    {
      "cell_type": "markdown",
      "source": [
        "If you want to put two lists together, they can be combined with a + symbol."
      ],
      "metadata": {
        "id": "7ft9Ha9h_YOp"
      }
    },
    {
      "cell_type": "code",
      "source": [
        "my_list_4 = my_list + my_list_2 + my_list_3\n",
        "print (my_list_4)"
      ],
      "metadata": {
        "colab": {
          "base_uri": "https://localhost:8080/"
        },
        "id": "XkqowUfB_ae8",
        "outputId": "088fa6ca-b18b-4504-ad6f-15450f725e72"
      },
      "execution_count": null,
      "outputs": [
        {
          "output_type": "stream",
          "name": "stdout",
          "text": [
            "[42, 2, 3, 'one', 'two', 'three', True, 'False', 42]\n"
          ]
        }
      ]
    },
    {
      "cell_type": "markdown",
      "source": [
        "**My own example 21**"
      ],
      "metadata": {
        "id": "AaEUk6Qz_cuY"
      }
    },
    {
      "cell_type": "code",
      "source": [
        "milista4 = milista + milista2 + milista3\n",
        "print(milista4)"
      ],
      "metadata": {
        "colab": {
          "base_uri": "https://localhost:8080/"
        },
        "id": "vrHi9YgR_fEL",
        "outputId": "36bae77f-6474-4833-eb83-fef71b0725c0"
      },
      "execution_count": null,
      "outputs": [
        {
          "output_type": "stream",
          "name": "stdout",
          "text": [
            "[4, 16, 10, 34, 'uno', 'dos', 'tres', False, 'abcd', 67, 89.5]\n"
          ]
        }
      ]
    },
    {
      "cell_type": "markdown",
      "source": [
        "In addition to accessing individual elements of a list, we can access groups of elements through slicing."
      ],
      "metadata": {
        "id": "P4vcKulO_mOr"
      }
    },
    {
      "cell_type": "code",
      "source": [
        "my_list = ['friends', 'romans', 'countrymen', 'lend', 'me', 'your', 'ears']"
      ],
      "metadata": {
        "id": "m-D8_Gnm_ybZ"
      },
      "execution_count": null,
      "outputs": []
    },
    {
      "cell_type": "markdown",
      "source": [
        "#Slicing\n",
        "We use the colon (:) to slice lists."
      ],
      "metadata": {
        "id": "4j0MY6Dp_1CC"
      }
    },
    {
      "cell_type": "code",
      "source": [
        "print (my_list[2:4])"
      ],
      "metadata": {
        "colab": {
          "base_uri": "https://localhost:8080/"
        },
        "id": "eTV7RWFK_4pz",
        "outputId": "fffafc2d-301e-4316-9eac-dd11339ccca2"
      },
      "execution_count": null,
      "outputs": [
        {
          "output_type": "stream",
          "name": "stdout",
          "text": [
            "['countrymen', 'lend']\n"
          ]
        }
      ]
    },
    {
      "cell_type": "markdown",
      "source": [
        "**My own example 22**"
      ],
      "metadata": {
        "id": "wjpzIivQAGqu"
      }
    },
    {
      "cell_type": "code",
      "source": [
        "print (milista4[3:6])"
      ],
      "metadata": {
        "colab": {
          "base_uri": "https://localhost:8080/"
        },
        "id": "zc8aef8SAJqK",
        "outputId": "a4d740a2-5ab6-4d13-ad7d-e324bcbdbb42"
      },
      "execution_count": null,
      "outputs": [
        {
          "output_type": "stream",
          "name": "stdout",
          "text": [
            "[34, 'uno', 'dos']\n"
          ]
        }
      ]
    },
    {
      "cell_type": "markdown",
      "source": [
        "Using : we can select a group of elements in the list starting from the first element indicated and going up to (but not including) the last element indicated.\n",
        "\n",
        "We can also select everything after a certain point"
      ],
      "metadata": {
        "id": "DJv6t0oo__rk"
      }
    },
    {
      "cell_type": "code",
      "source": [
        "print (my_list[1:])"
      ],
      "metadata": {
        "colab": {
          "base_uri": "https://localhost:8080/"
        },
        "id": "EwCwFK54ASa8",
        "outputId": "9f4482fe-d1ec-414c-b4be-6de4bfda13c3"
      },
      "execution_count": null,
      "outputs": [
        {
          "output_type": "stream",
          "name": "stdout",
          "text": [
            "['romans', 'countrymen', 'lend', 'me', 'your', 'ears']\n"
          ]
        }
      ]
    },
    {
      "cell_type": "markdown",
      "source": [
        "**My own example 23**"
      ],
      "metadata": {
        "id": "czxt0le7AWxv"
      }
    },
    {
      "cell_type": "code",
      "source": [
        "print (milista4[2:])"
      ],
      "metadata": {
        "colab": {
          "base_uri": "https://localhost:8080/"
        },
        "id": "UI4SPm8MAaMB",
        "outputId": "15a749d2-ac8d-4a14-9f5c-bca02778dadf"
      },
      "execution_count": null,
      "outputs": [
        {
          "output_type": "stream",
          "name": "stdout",
          "text": [
            "[10, 34, 'uno', 'dos', 'tres', False, 'abcd', 67, 89.5]\n"
          ]
        }
      ]
    },
    {
      "cell_type": "markdown",
      "source": [
        "And everything before a certain point"
      ],
      "metadata": {
        "id": "NUWQAY18AeEM"
      }
    },
    {
      "cell_type": "code",
      "source": [
        "print (my_list[:4])"
      ],
      "metadata": {
        "colab": {
          "base_uri": "https://localhost:8080/"
        },
        "id": "hxP8VO1JAgoK",
        "outputId": "0c2b25c3-1a47-4cab-bf0e-dc038a8c8b82"
      },
      "execution_count": null,
      "outputs": [
        {
          "output_type": "stream",
          "name": "stdout",
          "text": [
            "['friends', 'romans', 'countrymen', 'lend']\n"
          ]
        }
      ]
    },
    {
      "cell_type": "markdown",
      "source": [
        "**My own example 24**"
      ],
      "metadata": {
        "id": "x3Z0811FAjc4"
      }
    },
    {
      "cell_type": "code",
      "source": [
        "print (milista4[:7])"
      ],
      "metadata": {
        "colab": {
          "base_uri": "https://localhost:8080/"
        },
        "id": "84EEQvbBAlO3",
        "outputId": "f03201e9-b2f2-4d27-dbe8-392813efe595"
      },
      "execution_count": null,
      "outputs": [
        {
          "output_type": "stream",
          "name": "stdout",
          "text": [
            "[4, 16, 10, 34, 'uno', 'dos', 'tres']\n"
          ]
        }
      ]
    },
    {
      "cell_type": "markdown",
      "source": [
        "Using negative numbers will count from the end of the indices instead of from the beginning. For example, an index of -1 indicates the last element of the list."
      ],
      "metadata": {
        "id": "fopIA4EuAp9P"
      }
    },
    {
      "cell_type": "code",
      "source": [
        "print (my_list[-1])\n"
      ],
      "metadata": {
        "colab": {
          "base_uri": "https://localhost:8080/"
        },
        "id": "6cw4tC9PAuvs",
        "outputId": "3ffc75b0-b569-4c7c-f467-9abad34643ad"
      },
      "execution_count": null,
      "outputs": [
        {
          "output_type": "stream",
          "name": "stdout",
          "text": [
            "ears\n"
          ]
        }
      ]
    },
    {
      "cell_type": "markdown",
      "source": [
        "**My own example 25**"
      ],
      "metadata": {
        "id": "BQ606gOaAyvP"
      }
    },
    {
      "cell_type": "code",
      "source": [
        "print (milista4[-2])"
      ],
      "metadata": {
        "colab": {
          "base_uri": "https://localhost:8080/"
        },
        "id": "j8IhwAUpA0mh",
        "outputId": "b4feafb9-1431-4941-9248-b8c1f244e6ee"
      },
      "execution_count": null,
      "outputs": [
        {
          "output_type": "stream",
          "name": "stdout",
          "text": [
            "67\n"
          ]
        }
      ]
    },
    {
      "cell_type": "markdown",
      "source": [
        "You can also add a third component to slicing. Instead of simply indicating the first and final parts of your slice, you can specify the step size that you want to take. So instead of taking every single element, you can take every other element."
      ],
      "metadata": {
        "id": "dx1sdTEvA6pW"
      }
    },
    {
      "cell_type": "code",
      "source": [
        "print (my_list[0:7:2])"
      ],
      "metadata": {
        "colab": {
          "base_uri": "https://localhost:8080/"
        },
        "id": "eWnHffENA9jw",
        "outputId": "f414d44b-f508-4859-ac3a-c08db51efeb1"
      },
      "execution_count": null,
      "outputs": [
        {
          "output_type": "stream",
          "name": "stdout",
          "text": [
            "['friends', 'countrymen', 'me', 'ears']\n"
          ]
        }
      ]
    },
    {
      "cell_type": "markdown",
      "source": [
        "**My own example 26**"
      ],
      "metadata": {
        "id": "UkY2LkQ7BAbM"
      }
    },
    {
      "cell_type": "code",
      "source": [
        "print (milista4[1:5:1])"
      ],
      "metadata": {
        "colab": {
          "base_uri": "https://localhost:8080/"
        },
        "id": "d7UUC-v_BCM0",
        "outputId": "698560af-b9d3-4988-8620-692c7719e175"
      },
      "execution_count": null,
      "outputs": [
        {
          "output_type": "stream",
          "name": "stdout",
          "text": [
            "[16, 10, 34, 'uno']\n"
          ]
        }
      ]
    },
    {
      "cell_type": "markdown",
      "source": [
        "Here we have selected the entire list (because 0:7 will yield elements 0 through 6) and we have selected a step size of 2. So this will spit out element 0 , element 2, element 4, and so on through the list element selected. We can skip indicated the beginning and end of our slice, only indicating the step, if we like."
      ],
      "metadata": {
        "id": "45J7jJBsBdn8"
      }
    },
    {
      "cell_type": "code",
      "source": [
        "print (my_list[::2])"
      ],
      "metadata": {
        "colab": {
          "base_uri": "https://localhost:8080/"
        },
        "id": "BQJkPEy-BlDL",
        "outputId": "351f291d-9ada-4a4a-e762-a20be900eb91"
      },
      "execution_count": null,
      "outputs": [
        {
          "output_type": "stream",
          "name": "stdout",
          "text": [
            "['friends', 'countrymen', 'me', 'ears']\n"
          ]
        }
      ]
    },
    {
      "cell_type": "markdown",
      "source": [
        "**My own example 27**"
      ],
      "metadata": {
        "id": "5LoVTAcVBqoU"
      }
    },
    {
      "cell_type": "code",
      "source": [
        "print (milista4[::3])"
      ],
      "metadata": {
        "colab": {
          "base_uri": "https://localhost:8080/"
        },
        "id": "NtNWSHptBscG",
        "outputId": "c7b8d7ca-795f-4333-f45f-e58d5d53bae7"
      },
      "execution_count": null,
      "outputs": [
        {
          "output_type": "stream",
          "name": "stdout",
          "text": [
            "[4, 34, 'tres', 67]\n"
          ]
        }
      ]
    },
    {
      "cell_type": "markdown",
      "source": [
        "Lists implictly select the beginning and end of the list when not otherwise specified."
      ],
      "metadata": {
        "id": "kA7NesAaBws6"
      }
    },
    {
      "cell_type": "code",
      "source": [
        "print (my_list[:])"
      ],
      "metadata": {
        "colab": {
          "base_uri": "https://localhost:8080/"
        },
        "id": "TTGHnAwxByto",
        "outputId": "b4e71633-0a22-4bd7-d768-4a4c6c1742ac"
      },
      "execution_count": null,
      "outputs": [
        {
          "output_type": "stream",
          "name": "stdout",
          "text": [
            "['friends', 'romans', 'countrymen', 'lend', 'me', 'your', 'ears']\n"
          ]
        }
      ]
    },
    {
      "cell_type": "markdown",
      "source": [
        "**My own example 28**"
      ],
      "metadata": {
        "id": "OcvvIZvcB2tX"
      }
    },
    {
      "cell_type": "code",
      "source": [
        "print (milista4[:])"
      ],
      "metadata": {
        "colab": {
          "base_uri": "https://localhost:8080/"
        },
        "id": "LaoBSWKoB4hm",
        "outputId": "79a63cfd-c8d0-41ec-ccc2-551a374f108a"
      },
      "execution_count": null,
      "outputs": [
        {
          "output_type": "stream",
          "name": "stdout",
          "text": [
            "[4, 16, 10, 34, 'uno', 'dos', 'tres', False, 'abcd', 67, 89.5]\n"
          ]
        }
      ]
    },
    {
      "cell_type": "markdown",
      "source": [
        "With a negative step size we can even reverse the list!"
      ],
      "metadata": {
        "id": "sB9wWJWxB7dh"
      }
    },
    {
      "cell_type": "code",
      "source": [
        "print (my_list[::-1])"
      ],
      "metadata": {
        "colab": {
          "base_uri": "https://localhost:8080/"
        },
        "id": "gQcZk_9LB9lw",
        "outputId": "75967e60-b8da-4871-b9bb-d5bbde09f956"
      },
      "execution_count": null,
      "outputs": [
        {
          "output_type": "stream",
          "name": "stdout",
          "text": [
            "['ears', 'your', 'me', 'lend', 'countrymen', 'romans', 'friends']\n"
          ]
        }
      ]
    },
    {
      "cell_type": "markdown",
      "source": [
        "**My own example 29**"
      ],
      "metadata": {
        "id": "xe-Os2_vCCf2"
      }
    },
    {
      "cell_type": "code",
      "source": [
        "print (milista4[::-2])"
      ],
      "metadata": {
        "colab": {
          "base_uri": "https://localhost:8080/"
        },
        "id": "Rorlbyx2CEu-",
        "outputId": "3e9c1ad2-30fe-4b36-ee31-a8d836fb6f6f"
      },
      "execution_count": null,
      "outputs": [
        {
          "output_type": "stream",
          "name": "stdout",
          "text": [
            "[89.5, 'abcd', 'tres', 'uno', 10, 4]\n"
          ]
        }
      ]
    },
    {
      "cell_type": "markdown",
      "source": [
        "Python does not have native matrices, but with lists we can produce a working fascimile. Other packages, such as numpy, add matrices as a separate data type, but in base Python the best way to create a matrix is to use a list of lists.\n",
        "\n",
        "We can also use built-in functions to generate lists. In particular we will look at range() (because we will be using it later!). Range can take several different inputs and will return a list."
      ],
      "metadata": {
        "id": "5mGUj8mPCLiP"
      }
    },
    {
      "cell_type": "code",
      "source": [
        "b = 10\n",
        "my_list = range(b)\n",
        "print (my_list)"
      ],
      "metadata": {
        "colab": {
          "base_uri": "https://localhost:8080/"
        },
        "id": "i7y05Gz5CTXR",
        "outputId": "acb11757-eefc-48ec-a34b-6f9d0c72530e"
      },
      "execution_count": null,
      "outputs": [
        {
          "output_type": "stream",
          "name": "stdout",
          "text": [
            "range(0, 10)\n"
          ]
        }
      ]
    },
    {
      "cell_type": "markdown",
      "source": [
        "**My own example 30**"
      ],
      "metadata": {
        "id": "YNGx6sWVCauc"
      }
    },
    {
      "cell_type": "code",
      "source": [
        "c = 21\n",
        "milist=range(c)\n",
        "print(milist)"
      ],
      "metadata": {
        "colab": {
          "base_uri": "https://localhost:8080/"
        },
        "id": "EKuizD5aCdAs",
        "outputId": "3435f6ea-594e-436c-f441-d61918a23e5c"
      },
      "execution_count": null,
      "outputs": [
        {
          "output_type": "stream",
          "name": "stdout",
          "text": [
            "range(0, 21)\n"
          ]
        }
      ]
    },
    {
      "cell_type": "markdown",
      "source": [
        "Similar to our list-slicing methods from before, we can define both a start and an end for our range. This will return a list that is includes the start and excludes the end, just like a slice.\n",
        "\n"
      ],
      "metadata": {
        "id": "zK4NiGbdCjTx"
      }
    },
    {
      "cell_type": "code",
      "source": [
        "a = 0\n",
        "b = 10\n",
        "my_list = range(a, b)\n",
        "print (my_list)"
      ],
      "metadata": {
        "colab": {
          "base_uri": "https://localhost:8080/"
        },
        "id": "MC5OVLf8CnAS",
        "outputId": "63279026-9608-4485-9317-2a353d4f3c20"
      },
      "execution_count": null,
      "outputs": [
        {
          "output_type": "stream",
          "name": "stdout",
          "text": [
            "range(0, 10)\n"
          ]
        }
      ]
    },
    {
      "cell_type": "markdown",
      "source": [
        "**My own example 31**"
      ],
      "metadata": {
        "id": "Al5smKCmCp3L"
      }
    },
    {
      "cell_type": "code",
      "source": [
        "d = 15\n",
        "c = 21\n",
        "milist = range (d,c)\n",
        "print (milist)"
      ],
      "metadata": {
        "colab": {
          "base_uri": "https://localhost:8080/"
        },
        "id": "AqfYUDfhCruO",
        "outputId": "48f9badb-bdc4-42df-840e-7fc9b580f0fe"
      },
      "execution_count": null,
      "outputs": [
        {
          "output_type": "stream",
          "name": "stdout",
          "text": [
            "range(15, 21)\n"
          ]
        }
      ]
    },
    {
      "cell_type": "markdown",
      "source": [
        "We can also specify a step size. This again has the same behavior as a slice."
      ],
      "metadata": {
        "id": "WFzjLQMhCzlA"
      }
    },
    {
      "cell_type": "code",
      "source": [
        "a = 0\n",
        "b = 10\n",
        "step = 2\n",
        "my_list = range(a, b, step)\n",
        "print (my_list)"
      ],
      "metadata": {
        "colab": {
          "base_uri": "https://localhost:8080/"
        },
        "id": "tmU5qEoAC1lw",
        "outputId": "6ab10d87-dc9f-4d7c-eada-d7f522c415ca"
      },
      "execution_count": null,
      "outputs": [
        {
          "output_type": "stream",
          "name": "stdout",
          "text": [
            "range(0, 10, 2)\n"
          ]
        }
      ]
    },
    {
      "cell_type": "markdown",
      "source": [
        "**My own example 32**"
      ],
      "metadata": {
        "id": "jqAsnSm8C48e"
      }
    },
    {
      "cell_type": "code",
      "source": [
        "d = 15\n",
        "c = 21\n",
        "step = 3\n",
        "milist = range (d,c,step)\n",
        "print (milist)"
      ],
      "metadata": {
        "colab": {
          "base_uri": "https://localhost:8080/"
        },
        "id": "hGI7hZ0tC7Ie",
        "outputId": "ed67c77f-28e6-4e4c-d485-8f21e54e3bae"
      },
      "execution_count": null,
      "outputs": [
        {
          "output_type": "stream",
          "name": "stdout",
          "text": [
            "range(15, 21, 3)\n"
          ]
        }
      ]
    },
    {
      "cell_type": "markdown",
      "source": [
        "#Tuples\n",
        "A `tuple` is a data type similar to a list in that it can hold different kinds of data types. The key difference here is that a `tuple` is immutable. We define a `tuple` by separating the elements we want to include by commas. It is conventional to surround a `tuple` with parentheses."
      ],
      "metadata": {
        "id": "QIUhERUfDBAo"
      }
    },
    {
      "cell_type": "code",
      "source": [
        "my_tuple = 'I', 'have', 30, 'cats'\n",
        "print (my_tuple)"
      ],
      "metadata": {
        "colab": {
          "base_uri": "https://localhost:8080/"
        },
        "id": "lgE8PuM3DFsq",
        "outputId": "19e15d87-36a7-4406-a220-a21d1ee55a24"
      },
      "execution_count": null,
      "outputs": [
        {
          "output_type": "stream",
          "name": "stdout",
          "text": [
            "('I', 'have', 30, 'cats')\n"
          ]
        }
      ]
    },
    {
      "cell_type": "code",
      "source": [
        "my_tuple = ('I', 'have', 30, 'cats')\n",
        "print (my_tuple)"
      ],
      "metadata": {
        "colab": {
          "base_uri": "https://localhost:8080/"
        },
        "id": "6Cf7P2yUDImf",
        "outputId": "274e5998-3a69-479a-d8ae-83cacb38aa0e"
      },
      "execution_count": null,
      "outputs": [
        {
          "output_type": "stream",
          "name": "stdout",
          "text": [
            "('I', 'have', 30, 'cats')\n"
          ]
        }
      ]
    },
    {
      "cell_type": "markdown",
      "source": [
        "**My own example 33**"
      ],
      "metadata": {
        "id": "Fnc4sjZmDQ9l"
      }
    },
    {
      "cell_type": "code",
      "source": [
        "mitupla = 'A', 15, 'year','old', 'Cat'\n",
        "print (mitupla)"
      ],
      "metadata": {
        "colab": {
          "base_uri": "https://localhost:8080/"
        },
        "id": "XZv-_OtWDTYA",
        "outputId": "4b29307d-6ac8-4c93-a6df-1e26da5c7a8d"
      },
      "execution_count": null,
      "outputs": [
        {
          "output_type": "stream",
          "name": "stdout",
          "text": [
            "('A', 15, 'year', 'old', 'Cat')\n"
          ]
        }
      ]
    },
    {
      "cell_type": "code",
      "source": [
        "mitupla = ('A', 15, 'year','old', 'Cat')\n",
        "print (mitupla)"
      ],
      "metadata": {
        "colab": {
          "base_uri": "https://localhost:8080/"
        },
        "id": "TkZFWrNQDfy8",
        "outputId": "5072d7c5-bd4e-43ec-aac1-3b51dc7c5488"
      },
      "execution_count": null,
      "outputs": [
        {
          "output_type": "stream",
          "name": "stdout",
          "text": [
            "('A', 15, 'year', 'old', 'Cat')\n"
          ]
        }
      ]
    },
    {
      "cell_type": "markdown",
      "source": [
        "As mentioned before, tuples are immutable. You can't change any part of them without defining a new tuple."
      ],
      "metadata": {
        "id": "PRMqw8W6DkVz"
      }
    },
    {
      "cell_type": "code",
      "source": [
        "my_tuple[3] = 'dogs' # Attempts to change the 'cats' value stored in the the tuple to 'dogs'"
      ],
      "metadata": {
        "colab": {
          "base_uri": "https://localhost:8080/",
          "height": 165
        },
        "id": "yXLLXPb_DnOE",
        "outputId": "50173161-2c4c-4361-cab5-25364d3cd0f3"
      },
      "execution_count": null,
      "outputs": [
        {
          "output_type": "error",
          "ename": "TypeError",
          "evalue": "ignored",
          "traceback": [
            "\u001b[0;31m---------------------------------------------------------------------------\u001b[0m",
            "\u001b[0;31mTypeError\u001b[0m                                 Traceback (most recent call last)",
            "\u001b[0;32m<ipython-input-177-c821a6bdb1a6>\u001b[0m in \u001b[0;36m<module>\u001b[0;34m\u001b[0m\n\u001b[0;32m----> 1\u001b[0;31m \u001b[0mmy_tuple\u001b[0m\u001b[0;34m[\u001b[0m\u001b[0;36m3\u001b[0m\u001b[0;34m]\u001b[0m \u001b[0;34m=\u001b[0m \u001b[0;34m'dogs'\u001b[0m \u001b[0;31m# Attempts to change the 'cats' value stored in the the tuple to 'dogs'\u001b[0m\u001b[0;34m\u001b[0m\u001b[0;34m\u001b[0m\u001b[0m\n\u001b[0m",
            "\u001b[0;31mTypeError\u001b[0m: 'tuple' object does not support item assignment"
          ]
        }
      ]
    },
    {
      "cell_type": "markdown",
      "source": [
        "You can slice tuples the same way that you slice lists!"
      ],
      "metadata": {
        "id": "7e7-Pow3DtW_"
      }
    },
    {
      "cell_type": "code",
      "source": [
        "print (my_tuple[1:3])"
      ],
      "metadata": {
        "colab": {
          "base_uri": "https://localhost:8080/"
        },
        "id": "KV1IOGItDuGJ",
        "outputId": "67c4222c-7e39-4583-a467-f0444344cc8c"
      },
      "execution_count": null,
      "outputs": [
        {
          "output_type": "stream",
          "name": "stdout",
          "text": [
            "('have', 30)\n"
          ]
        }
      ]
    },
    {
      "cell_type": "markdown",
      "source": [
        "**My own example 34**"
      ],
      "metadata": {
        "id": "2QU4OXlHDxU7"
      }
    },
    {
      "cell_type": "code",
      "source": [
        "print (mitupla[1:4])"
      ],
      "metadata": {
        "colab": {
          "base_uri": "https://localhost:8080/"
        },
        "id": "sr4qI3lKDzGB",
        "outputId": "7e1c5522-45e5-4ae3-ba7e-3fcb744020c7"
      },
      "execution_count": null,
      "outputs": [
        {
          "output_type": "stream",
          "name": "stdout",
          "text": [
            "(15, 'year', 'old')\n"
          ]
        }
      ]
    },
    {
      "cell_type": "markdown",
      "source": [
        "And concatenate them the way that you would with strings!"
      ],
      "metadata": {
        "id": "zJxWarwKD5-4"
      }
    },
    {
      "cell_type": "code",
      "source": [
        "my_other_tuple = ('make', 'that', 50)\n",
        "print (my_tuple + my_other_tuple)"
      ],
      "metadata": {
        "colab": {
          "base_uri": "https://localhost:8080/"
        },
        "id": "-U9F9WPiD7Di",
        "outputId": "cf4e81ab-5aa8-4745-962b-2601069a7f9e"
      },
      "execution_count": null,
      "outputs": [
        {
          "output_type": "stream",
          "name": "stdout",
          "text": [
            "('I', 'have', 30, 'cats', 'make', 'that', 50)\n"
          ]
        }
      ]
    },
    {
      "cell_type": "markdown",
      "source": [
        "**My own example 35**"
      ],
      "metadata": {
        "id": "vGFn2ytPD-Ke"
      }
    },
    {
      "cell_type": "code",
      "source": [
        "mi_otra_tupla = ('Do', 'it', 'real', 45)\n",
        "print (mitupla+mi_otra_tupla)"
      ],
      "metadata": {
        "colab": {
          "base_uri": "https://localhost:8080/"
        },
        "id": "ydBbBFSPEAEs",
        "outputId": "541aa654-87da-4418-cf5a-97446875e44a"
      },
      "execution_count": null,
      "outputs": [
        {
          "output_type": "stream",
          "name": "stdout",
          "text": [
            "('A', 15, 'year', 'old', 'Cat', 'Do', 'it', 'real', 45)\n"
          ]
        }
      ]
    },
    {
      "cell_type": "markdown",
      "source": [
        "We can 'pack' values together, creating a tuple (as above), or we can 'unpack' values from a tuple, taking them out."
      ],
      "metadata": {
        "id": "9yCh65G5EN9j"
      }
    },
    {
      "cell_type": "code",
      "source": [
        "str_1, str_2, int_1 = my_other_tuple\n",
        "print (str_1, str_2, int_1)"
      ],
      "metadata": {
        "colab": {
          "base_uri": "https://localhost:8080/"
        },
        "id": "whZz13MDEPn_",
        "outputId": "01129e55-99e2-4319-fcf7-539306d8e9e8"
      },
      "execution_count": null,
      "outputs": [
        {
          "output_type": "stream",
          "name": "stdout",
          "text": [
            "make that 50\n"
          ]
        }
      ]
    },
    {
      "cell_type": "markdown",
      "source": [
        "**My own example 36**"
      ],
      "metadata": {
        "id": "4ZtlDNS4EV0o"
      }
    },
    {
      "cell_type": "code",
      "source": [
        "stri_1, stri_2, stri_3, inte_1 = mi_otra_tupla\n",
        "print (stri_1, stri_2, stri_3, inte_1)"
      ],
      "metadata": {
        "colab": {
          "base_uri": "https://localhost:8080/"
        },
        "id": "EBxC0vvIEX2X",
        "outputId": "f1c8150c-416f-48ec-d668-03d8b2d2b1fc"
      },
      "execution_count": null,
      "outputs": [
        {
          "output_type": "stream",
          "name": "stdout",
          "text": [
            "Do it real 45\n"
          ]
        }
      ]
    },
    {
      "cell_type": "markdown",
      "source": [
        "Unpacking assigns each value of the tuple in order to each variable on the left hand side of the equals sign. Some functions, including user-defined functions, may return tuples, so we can use this to directly unpack them and access the values that we want."
      ],
      "metadata": {
        "id": "hDpUwFKcEixX"
      }
    },
    {
      "cell_type": "markdown",
      "source": [
        "#Sets\n",
        "A `set` is a collection of unordered, unique elements. It works almost exactly as you would expect a normal set of things in mathematics to work and is defined using braces (`{}`)."
      ],
      "metadata": {
        "id": "iZs1IiLIEkk2"
      }
    },
    {
      "cell_type": "code",
      "source": [
        "things_i_like = {'dogs', 7, 'the number 4', 4, 4, 4, 42, 'lizards', 'man I just LOVE the number 4'}\n",
        "print (things_i_like, type(things_i_like))"
      ],
      "metadata": {
        "colab": {
          "base_uri": "https://localhost:8080/"
        },
        "id": "CZHowSG0EsVN",
        "outputId": "dac26701-f882-407d-fdf2-8c55849b14b3"
      },
      "execution_count": null,
      "outputs": [
        {
          "output_type": "stream",
          "name": "stdout",
          "text": [
            "{'man I just LOVE the number 4', 4, 7, 'the number 4', 42, 'lizards', 'dogs'} <class 'set'>\n"
          ]
        }
      ]
    },
    {
      "cell_type": "markdown",
      "source": [
        "**My own example 37**"
      ],
      "metadata": {
        "id": "AKHF8vqwExDn"
      }
    },
    {
      "cell_type": "code",
      "source": [
        "cosas_que_amo = {'perros', 'dormir', 21,'cebolla', 8, 90}\n",
        "print (cosas_que_amo, type(cosas_que_amo))"
      ],
      "metadata": {
        "colab": {
          "base_uri": "https://localhost:8080/"
        },
        "id": "lrpeE9gbEzZ4",
        "outputId": "14d2ed62-7557-45d9-8c84-93a17bb58c16"
      },
      "execution_count": null,
      "outputs": [
        {
          "output_type": "stream",
          "name": "stdout",
          "text": [
            "{'cebolla', 8, 'perros', 21, 'dormir', 90} <class 'set'>\n"
          ]
        }
      ]
    },
    {
      "cell_type": "markdown",
      "source": [
        "Note how any extra instances of the same item are removed in the final set. We can also create a `set` from a list, using the `set()` function."
      ],
      "metadata": {
        "id": "D_sMfHBcFCEy"
      }
    },
    {
      "cell_type": "code",
      "source": [
        "animal_list = ['cats', 'dogs', 'dogs', 'dogs', 'lizards', 'sponges', 'cows', 'bats', 'sponges']\n",
        "animal_set = set(animal_list)\n",
        "print (animal_set) # Removes all extra instances from the list"
      ],
      "metadata": {
        "colab": {
          "base_uri": "https://localhost:8080/"
        },
        "id": "GLS2s1TfFG12",
        "outputId": "c7d7a3d9-f94f-4b38-82bd-963c2863bb59"
      },
      "execution_count": null,
      "outputs": [
        {
          "output_type": "stream",
          "name": "stdout",
          "text": [
            "{'bats', 'lizards', 'cows', 'cats', 'dogs', 'sponges'}\n"
          ]
        }
      ]
    },
    {
      "cell_type": "markdown",
      "source": [
        "**My own example 38**"
      ],
      "metadata": {
        "id": "N8RThUcxFOG5"
      }
    },
    {
      "cell_type": "code",
      "source": [
        "lista_vegetal = ['tomate', 'cebolla', 'pimiento', 'tomate', 'espinacas','espinacas','espinacas']\n",
        "vegetal_set = set(lista_vegetal)\n",
        "print (vegetal_set) "
      ],
      "metadata": {
        "colab": {
          "base_uri": "https://localhost:8080/"
        },
        "id": "NOs0H7dnFQSG",
        "outputId": "b2d13bc3-efc9-4d64-901b-86f9bc43bb20"
      },
      "execution_count": null,
      "outputs": [
        {
          "output_type": "stream",
          "name": "stdout",
          "text": [
            "{'tomate', 'cebolla', 'pimiento', 'espinacas'}\n"
          ]
        }
      ]
    },
    {
      "cell_type": "markdown",
      "source": [
        "Calling `len()` on a set will tell you how many elements are in it."
      ],
      "metadata": {
        "id": "2jSispV8FpW4"
      }
    },
    {
      "cell_type": "code",
      "source": [
        "print (len(animal_set))"
      ],
      "metadata": {
        "colab": {
          "base_uri": "https://localhost:8080/"
        },
        "id": "ldmdsnu-FtWM",
        "outputId": "2b873d10-b198-4833-d4e3-e7eb3d34cf88"
      },
      "execution_count": null,
      "outputs": [
        {
          "output_type": "stream",
          "name": "stdout",
          "text": [
            "6\n"
          ]
        }
      ]
    },
    {
      "cell_type": "markdown",
      "source": [
        "**My own example 39**"
      ],
      "metadata": {
        "id": "LEDWEVPrFwxF"
      }
    },
    {
      "cell_type": "code",
      "source": [
        "print (len(vegetal_set))"
      ],
      "metadata": {
        "colab": {
          "base_uri": "https://localhost:8080/"
        },
        "id": "-jFIjsW1FzP8",
        "outputId": "73c97ca1-753d-4e86-ee74-f5efc2e56bae"
      },
      "execution_count": null,
      "outputs": [
        {
          "output_type": "stream",
          "name": "stdout",
          "text": [
            "4\n"
          ]
        }
      ]
    },
    {
      "cell_type": "markdown",
      "source": [
        "Because a `set` is unordered, we can't access individual elements using an index. We can, however, easily check for membership (to see if something is contained in a set) and take the unions and intersections of sets by using the built-in set functions."
      ],
      "metadata": {
        "id": "lRIozL1lF3L1"
      }
    },
    {
      "cell_type": "code",
      "source": [
        "'cats' in animal_set # Here we check for membership using the `in` keyword."
      ],
      "metadata": {
        "colab": {
          "base_uri": "https://localhost:8080/"
        },
        "id": "1HwnLTf9Ggka",
        "outputId": "2b1e4d7c-f56b-4ab0-ffac-00023a5f05a6"
      },
      "execution_count": null,
      "outputs": [
        {
          "output_type": "execute_result",
          "data": {
            "text/plain": [
              "True"
            ]
          },
          "metadata": {},
          "execution_count": 191
        }
      ]
    },
    {
      "cell_type": "markdown",
      "source": [
        "**My own example 40**"
      ],
      "metadata": {
        "id": "8h69dfiKGjUk"
      }
    },
    {
      "cell_type": "code",
      "source": [
        "'tomate' in vegetal_set"
      ],
      "metadata": {
        "colab": {
          "base_uri": "https://localhost:8080/"
        },
        "id": "XvvDj9gTGlc2",
        "outputId": "e4282dd6-360b-4dae-cbde-5a29259e0548"
      },
      "execution_count": null,
      "outputs": [
        {
          "output_type": "execute_result",
          "data": {
            "text/plain": [
              "True"
            ]
          },
          "metadata": {},
          "execution_count": 195
        }
      ]
    },
    {
      "cell_type": "code",
      "source": [
        "'manzana' in vegetal_set"
      ],
      "metadata": {
        "colab": {
          "base_uri": "https://localhost:8080/"
        },
        "id": "dgV5_fa6HK98",
        "outputId": "a816a07d-6181-4bc5-f3e5-f3d90b09c273"
      },
      "execution_count": null,
      "outputs": [
        {
          "output_type": "execute_result",
          "data": {
            "text/plain": [
              "False"
            ]
          },
          "metadata": {},
          "execution_count": 194
        }
      ]
    },
    {
      "cell_type": "markdown",
      "source": [
        "Here we checked to see whether the string 'cats' was contained within our `animal_set` and it returned `True`, telling us that it is indeed in our set.\n",
        "\n",
        "We can connect sets by using typical mathematical set operators, namely `|`, for union, and `&`, for intersection. Using `|` or `&` will return exactly what you would expect if you are familiar with sets in mathematics."
      ],
      "metadata": {
        "id": "FZbXwMxfHNQE"
      }
    },
    {
      "cell_type": "code",
      "source": [
        "print (animal_set | things_i_like) # You can also write things_i_like | animal_set with no difference"
      ],
      "metadata": {
        "colab": {
          "base_uri": "https://localhost:8080/"
        },
        "id": "02S7AOKcHXuf",
        "outputId": "ae42f24e-d17f-4910-b23e-076ec71e43dd"
      },
      "execution_count": null,
      "outputs": [
        {
          "output_type": "stream",
          "name": "stdout",
          "text": [
            "{'man I just LOVE the number 4', 4, 7, 'the number 4', 42, 'bats', 'lizards', 'cows', 'cats', 'dogs', 'sponges'}\n"
          ]
        }
      ]
    },
    {
      "cell_type": "markdown",
      "source": [
        "**My own example 41**"
      ],
      "metadata": {
        "id": "xqtrQyR_HdJr"
      }
    },
    {
      "cell_type": "code",
      "source": [
        "print (vegetal_set | cosas_que_amo)"
      ],
      "metadata": {
        "colab": {
          "base_uri": "https://localhost:8080/"
        },
        "id": "ChBhHwbjHfRk",
        "outputId": "78ab2654-b96f-4295-f2e1-834ec4379327"
      },
      "execution_count": null,
      "outputs": [
        {
          "output_type": "stream",
          "name": "stdout",
          "text": [
            "{'cebolla', 8, 'perros', 'tomate', 'pimiento', 21, 'dormir', 90, 'espinacas'}\n"
          ]
        }
      ]
    },
    {
      "cell_type": "markdown",
      "source": [
        "Pairing two sets together with `|` combines the sets, removing any repetitions to make every set element unique."
      ],
      "metadata": {
        "id": "oyelUeYCHnjh"
      }
    },
    {
      "cell_type": "code",
      "source": [
        "print (animal_set & things_i_like) # You can also write things_i_like & animal_set with no difference"
      ],
      "metadata": {
        "colab": {
          "base_uri": "https://localhost:8080/"
        },
        "id": "mk1uXlUMHs-h",
        "outputId": "0686231a-0f06-4fab-ca3b-cddd3bdbeef5"
      },
      "execution_count": null,
      "outputs": [
        {
          "output_type": "stream",
          "name": "stdout",
          "text": [
            "{'lizards', 'dogs'}\n"
          ]
        }
      ]
    },
    {
      "cell_type": "markdown",
      "source": [
        "**My own example 42**"
      ],
      "metadata": {
        "id": "6u8JGr5-HxF5"
      }
    },
    {
      "cell_type": "code",
      "source": [
        "print (vegetal_set & cosas_que_amo)"
      ],
      "metadata": {
        "colab": {
          "base_uri": "https://localhost:8080/"
        },
        "id": "2tIA1QaTHy4y",
        "outputId": "2c3d1ac2-fae7-4f8a-c439-b2de2fe5f4e0"
      },
      "execution_count": null,
      "outputs": [
        {
          "output_type": "stream",
          "name": "stdout",
          "text": [
            "{'cebolla'}\n"
          ]
        }
      ]
    },
    {
      "cell_type": "markdown",
      "source": [
        "Pairing two sets together with `&` will calculate the intersection of both sets, returning a set that only contains what they have in common.\n",
        "\n",
        "If you are interested in learning more about the built-in functions for sets, feel free to check out the [documentation](https://docs.python.org/2/library/sets.html)."
      ],
      "metadata": {
        "id": "ta_2aFFGIBz2"
      }
    },
    {
      "cell_type": "markdown",
      "source": [
        "#Dictionaries\n",
        "Another essential data structure in Python is the dictionary. Dictionaries are defined with a combination of curly braces (`{}`) and colons (`:`). The braces define the beginning and end of a dictionary and the colons indicate key-value pairs. A dictionary is essentially a set of key-value pairs. The key of any entry must be an immutable data type. This makes both strings and tuples candidates. Keys can be both added and deleted.\n",
        "\n",
        "In the following example, we have a dictionary composed of key-value pairs where the key is a genre of fiction (`string`) and the value is a list of books (`list`) within that genre. Since a collection is still considered a single entity, we can use one to collect multiple variables or values into one key-value pair."
      ],
      "metadata": {
        "id": "HqzGZ2SRIKYU"
      }
    },
    {
      "cell_type": "code",
      "source": [
        "my_dict = {\"High Fantasy\": [\"Wheel of Time\", \"Lord of the Rings\"], \n",
        "           \"Sci-fi\": [\"Book of the New Sun\", \"Neuromancer\", \"Snow Crash\"],\n",
        "           \"Weird Fiction\": [\"At the Mountains of Madness\", \"The House on the Borderland\"]}"
      ],
      "metadata": {
        "id": "YNwDJfnkIWl6"
      },
      "execution_count": null,
      "outputs": []
    },
    {
      "cell_type": "markdown",
      "source": [
        "**My own example 43**"
      ],
      "metadata": {
        "id": "9GFus62tIb28"
      }
    },
    {
      "cell_type": "code",
      "source": [
        "mi_dicc={\"Carros\":[\"BMW\", \"Audi\", \"Ferrari\"], \"Motos\":[\"Suzuki\", \"Kawasaki\", \"Yamaha\"]}"
      ],
      "metadata": {
        "id": "Iy-RYEeTIdp3"
      },
      "execution_count": null,
      "outputs": []
    },
    {
      "cell_type": "markdown",
      "source": [
        "After defining a dictionary, we can access any individual value by indicating its key in brackets."
      ],
      "metadata": {
        "id": "UdvKmH--IzeM"
      }
    },
    {
      "cell_type": "code",
      "source": [
        "print (my_dict[\"Sci-fi\"])"
      ],
      "metadata": {
        "colab": {
          "base_uri": "https://localhost:8080/"
        },
        "id": "Ja6uBibVI2WS",
        "outputId": "c69e1181-1e17-49c1-f58b-044e852ad7b7"
      },
      "execution_count": null,
      "outputs": [
        {
          "output_type": "stream",
          "name": "stdout",
          "text": [
            "['Book of the New Sun', 'Neuromancer', 'Snow Crash']\n"
          ]
        }
      ]
    },
    {
      "cell_type": "markdown",
      "source": [
        "**My own example 44**"
      ],
      "metadata": {
        "id": "F7O18rAiI5Rt"
      }
    },
    {
      "cell_type": "code",
      "source": [
        "print (mi_dicc['Motos'])"
      ],
      "metadata": {
        "colab": {
          "base_uri": "https://localhost:8080/"
        },
        "id": "raIqUiaAI7cE",
        "outputId": "8c9c54a9-2b11-4bde-e91e-e3bf638279f6"
      },
      "execution_count": null,
      "outputs": [
        {
          "output_type": "stream",
          "name": "stdout",
          "text": [
            "['Suzuki', 'Kawasaki', 'Yamaha']\n"
          ]
        }
      ]
    },
    {
      "cell_type": "markdown",
      "source": [
        "We can also change the value associated with a given key"
      ],
      "metadata": {
        "id": "MyoJn6t2JBMg"
      }
    },
    {
      "cell_type": "code",
      "source": [
        "my_dict[\"Sci-fi\"] = \"I can't read\"\n",
        "print (my_dict[\"Sci-fi\"])"
      ],
      "metadata": {
        "colab": {
          "base_uri": "https://localhost:8080/"
        },
        "id": "XX9a_X0gJDUb",
        "outputId": "a35e9205-8c3f-4e72-9dda-058fa1850460"
      },
      "execution_count": null,
      "outputs": [
        {
          "output_type": "stream",
          "name": "stdout",
          "text": [
            "I can't read\n"
          ]
        }
      ]
    },
    {
      "cell_type": "markdown",
      "source": [
        "**My own example 45**"
      ],
      "metadata": {
        "id": "LKV1IwKoJIAC"
      }
    },
    {
      "cell_type": "code",
      "source": [
        "mi_dicc['Motos'] = \"Maneje con precaución\"\n",
        "print (mi_dicc['Motos'])"
      ],
      "metadata": {
        "colab": {
          "base_uri": "https://localhost:8080/"
        },
        "id": "auEBt-b-JKKd",
        "outputId": "21bf6f15-2206-48b3-de3d-39cbacd85e52"
      },
      "execution_count": null,
      "outputs": [
        {
          "output_type": "stream",
          "name": "stdout",
          "text": [
            "Maneje con precaución\n"
          ]
        }
      ]
    },
    {
      "cell_type": "markdown",
      "source": [
        "\n",
        "Adding a new key-value pair is as simple as defining it."
      ],
      "metadata": {
        "id": "z4E5dNjEJehD"
      }
    },
    {
      "cell_type": "code",
      "source": [
        "my_dict[\"Historical Fiction\"] = [\"Pillars of the Earth\"]\n",
        "print (my_dict[\"Historical Fiction\"])"
      ],
      "metadata": {
        "colab": {
          "base_uri": "https://localhost:8080/"
        },
        "id": "o8w1diseJfVH",
        "outputId": "a10bea8e-b114-42d3-faec-0a00be73d2fa"
      },
      "execution_count": null,
      "outputs": [
        {
          "output_type": "stream",
          "name": "stdout",
          "text": [
            "['Pillars of the Earth']\n"
          ]
        }
      ]
    },
    {
      "cell_type": "code",
      "source": [
        "print(my_dict)"
      ],
      "metadata": {
        "colab": {
          "base_uri": "https://localhost:8080/"
        },
        "id": "Qb-GJWFUJnUE",
        "outputId": "a9a3d72b-a2e2-496e-ef7c-2f038b5fbde2"
      },
      "execution_count": null,
      "outputs": [
        {
          "output_type": "stream",
          "name": "stdout",
          "text": [
            "{'High Fantasy': ['Wheel of Time', 'Lord of the Rings'], 'Sci-fi': \"I can't read\", 'Weird Fiction': ['At the Mountains of Madness', 'The House on the Borderland'], 'Historical Fiction': ['Pillars of the Earth']}\n"
          ]
        }
      ]
    },
    {
      "cell_type": "markdown",
      "source": [
        "**My own example 46**"
      ],
      "metadata": {
        "id": "9wzYoavJJiQA"
      }
    },
    {
      "cell_type": "code",
      "source": [
        "mi_dicc['Carros'] = [\"Mototaxis\"]\n",
        "print (mi_dicc['Carros'])"
      ],
      "metadata": {
        "colab": {
          "base_uri": "https://localhost:8080/"
        },
        "id": "sjcIS16CJryh",
        "outputId": "33ce9709-bfb4-45f5-f161-5fd0faac45c5"
      },
      "execution_count": null,
      "outputs": [
        {
          "output_type": "stream",
          "name": "stdout",
          "text": [
            "['Mototaxis']\n"
          ]
        }
      ]
    },
    {
      "cell_type": "code",
      "source": [
        "print (mi_dicc)"
      ],
      "metadata": {
        "colab": {
          "base_uri": "https://localhost:8080/"
        },
        "id": "tbZgy3WzKceX",
        "outputId": "fbf8a3ab-6f6c-4394-e925-0790699ead94"
      },
      "execution_count": null,
      "outputs": [
        {
          "output_type": "stream",
          "name": "stdout",
          "text": [
            "{'Carros': ['Mototaxis'], 'Motos': 'Maneje con precaución'}\n"
          ]
        }
      ]
    },
    {
      "cell_type": "markdown",
      "source": [
        "#String Shenanigans\n",
        "We already know that strings are generally used for text. We can used built-in operations to combine, split, and format strings easily, depending on our needs.\n",
        "\n",
        "The `+` symbol indicates concatenation in string language. It will combine two strings into a longer string."
      ],
      "metadata": {
        "id": "z0b_mS6AJ2Lt"
      }
    },
    {
      "cell_type": "code",
      "source": [
        "first_string = '\"Beware the Jabberwock, my son! /The jaws that bite, the claws that catch! /'\n",
        "second_string = 'Beware the Jubjub bird, and shun /The frumious Bandersnatch!\"/'\n",
        "third_string = first_string + second_string\n",
        "print (third_string)"
      ],
      "metadata": {
        "colab": {
          "base_uri": "https://localhost:8080/"
        },
        "id": "J-z4k0kwJ5tN",
        "outputId": "1faef29f-04a1-4a63-ad73-09b052e208fc"
      },
      "execution_count": null,
      "outputs": [
        {
          "output_type": "stream",
          "name": "stdout",
          "text": [
            "\"Beware the Jabberwock, my son! /The jaws that bite, the claws that catch! /Beware the Jubjub bird, and shun /The frumious Bandersnatch!\"/\n"
          ]
        }
      ]
    },
    {
      "cell_type": "markdown",
      "source": [
        "**My own example 47**"
      ],
      "metadata": {
        "id": "MW6vphhBKXQT"
      }
    },
    {
      "cell_type": "code",
      "source": [
        "cadena1 = 'Cuidado con los parciales, '\n",
        "cadena2 = 'son mas peligrosos de lo que parecene'\n",
        "cadena3 = cadena1 + cadena2\n",
        "print (cadena3)"
      ],
      "metadata": {
        "colab": {
          "base_uri": "https://localhost:8080/"
        },
        "id": "g1OcQRDzKiCw",
        "outputId": "4fb1bbb1-76f9-4864-afa9-3b31b423385a"
      },
      "execution_count": null,
      "outputs": [
        {
          "output_type": "stream",
          "name": "stdout",
          "text": [
            "Cuidado con los parciales, son mas peligrosos de lo que parecene\n"
          ]
        }
      ]
    },
    {
      "cell_type": "markdown",
      "source": [
        "Strings are also indexed much in the same way that lists are."
      ],
      "metadata": {
        "id": "pgM6omR9K74f"
      }
    },
    {
      "cell_type": "code",
      "source": [
        "my_string = 'Supercalifragilisticexpialidocious'\n",
        "print ('The first letter is: ', my_string[0]) # Uppercase S\n",
        "print ('The last letter is: ', my_string[-1]) # lowercase s\n",
        "print ('The second to last letter is: ', my_string[-2]) # lowercase u\n",
        "print ('The first five characters are: ', my_string[0:5]) # Remember: slicing doesn't include the final element!\n",
        "print ('Reverse it!: ', my_string[::-1])"
      ],
      "metadata": {
        "colab": {
          "base_uri": "https://localhost:8080/"
        },
        "id": "sO2TxbjDK97I",
        "outputId": "dc90c9d9-2280-494c-cc95-1d000b1b65e8"
      },
      "execution_count": null,
      "outputs": [
        {
          "output_type": "stream",
          "name": "stdout",
          "text": [
            "The first letter is:  S\n",
            "The last letter is:  s\n",
            "The second to last letter is:  u\n",
            "The first five characters are:  Super\n",
            "Reverse it!:  suoicodilaipxecitsiligarfilacrepuS\n"
          ]
        }
      ]
    },
    {
      "cell_type": "markdown",
      "source": [
        "**My own example 48**"
      ],
      "metadata": {
        "id": "_oXlzhnJLIxX"
      }
    },
    {
      "cell_type": "code",
      "source": [
        "micadena = 'Metodosnumericos'\n",
        "print ('la primera letra es: ', micadena[0])\n",
        "print ('la ultima letra es: ', micadena[-1])\n",
        "print ('las primeras 4 letras son: ', micadena[0:4])\n",
        "print ('la cadena al revés se ve de la forma: ', micadena[::-1])"
      ],
      "metadata": {
        "colab": {
          "base_uri": "https://localhost:8080/"
        },
        "id": "ELIxAeJSLK8s",
        "outputId": "cad6cc8e-8aaf-4550-f239-db7073756242"
      },
      "execution_count": null,
      "outputs": [
        {
          "output_type": "stream",
          "name": "stdout",
          "text": [
            "la primera letra es:  M\n",
            "la ultima letra es:  s\n",
            "las primeras 4 letras son:  Meto\n",
            "la cadena al revés se ve de la forma:  sociremunsodoteM\n"
          ]
        }
      ]
    },
    {
      "cell_type": "markdown",
      "source": [
        "Built-in objects and classes often have special functions associated with them that are called methods. We access these methods by using a period ('.'). We will cover objects and their associated methods more in another lecture!\n",
        "\n",
        "Using string methods we can count instances of a character or group of characters."
      ],
      "metadata": {
        "id": "1k76H7fPLvBM"
      }
    },
    {
      "cell_type": "code",
      "source": [
        "print ('Count of the letter i in Supercalifragilisticexpialidocious: ', my_string.count('i'))\n",
        "print ('Count of \"li\" in the same word: ', my_string.count('li'))"
      ],
      "metadata": {
        "colab": {
          "base_uri": "https://localhost:8080/"
        },
        "id": "H0zt12PYMDCb",
        "outputId": "ae620560-ad72-4b61-ac99-33763ef9da5e"
      },
      "execution_count": null,
      "outputs": [
        {
          "output_type": "stream",
          "name": "stdout",
          "text": [
            "Count of the letter i in Supercalifragilisticexpialidocious:  7\n",
            "Count of \"li\" in the same word:  3\n"
          ]
        }
      ]
    },
    {
      "cell_type": "markdown",
      "source": [
        "**My own example 49**"
      ],
      "metadata": {
        "id": "N2xw0BtHMKzH"
      }
    },
    {
      "cell_type": "code",
      "source": [
        "print ('Numero de veces de la letra s en Metodosnumericos: ', micadena.count('s'))\n",
        "print ('Número de veces de la palabra co en Metodosnumericos: ', micadena.count('co'))"
      ],
      "metadata": {
        "colab": {
          "base_uri": "https://localhost:8080/"
        },
        "id": "ds2WXuN6MM32",
        "outputId": "0f8724e5-f296-451a-aa5c-b912a8786944"
      },
      "execution_count": null,
      "outputs": [
        {
          "output_type": "stream",
          "name": "stdout",
          "text": [
            "Numero de veces de la letra s en Metodosnumericos:  2\n",
            "Número de veces de la palabra co en Metodosnumericos:  1\n"
          ]
        }
      ]
    },
    {
      "cell_type": "markdown",
      "source": [
        "We can also find the first instance of a character or group of characters in a string."
      ],
      "metadata": {
        "id": "0DyZGjm2Mreb"
      }
    },
    {
      "cell_type": "code",
      "source": [
        "print ('The first time i appears is at index: ', my_string.find('i'))"
      ],
      "metadata": {
        "colab": {
          "base_uri": "https://localhost:8080/"
        },
        "id": "nctILEuGMtj-",
        "outputId": "e355ef9b-f241-4053-b904-dbcd6e21a0ca"
      },
      "execution_count": null,
      "outputs": [
        {
          "output_type": "stream",
          "name": "stdout",
          "text": [
            "The first time i appears is at index:  8\n"
          ]
        }
      ]
    },
    {
      "cell_type": "markdown",
      "source": [
        "**My own example 50**"
      ],
      "metadata": {
        "id": "5jxk0afaMyIE"
      }
    },
    {
      "cell_type": "code",
      "source": [
        "print ('la primera vez que s aparece es en la posición: ', micadena.find('s'))"
      ],
      "metadata": {
        "colab": {
          "base_uri": "https://localhost:8080/"
        },
        "id": "AenMJ4n0M0Qs",
        "outputId": "a126bc10-cb45-42fc-a387-8e2a63d39d57"
      },
      "execution_count": null,
      "outputs": [
        {
          "output_type": "stream",
          "name": "stdout",
          "text": [
            "la primera vez que s aparece es en la posición:  6\n"
          ]
        }
      ]
    },
    {
      "cell_type": "markdown",
      "source": [
        "As well as replace characters in a string."
      ],
      "metadata": {
        "id": "Fp5Cj5B3M81h"
      }
    },
    {
      "cell_type": "code",
      "source": [
        "print (\"All i's are now a's: \", my_string.replace('i', 'a'))"
      ],
      "metadata": {
        "colab": {
          "base_uri": "https://localhost:8080/"
        },
        "id": "uzHk0lLgM-Xz",
        "outputId": "52101b76-1d12-473c-93f7-667d5e0152c4"
      },
      "execution_count": null,
      "outputs": [
        {
          "output_type": "stream",
          "name": "stdout",
          "text": [
            "All i's are now a's:  Supercalafragalastacexpaaladocaous\n"
          ]
        }
      ]
    },
    {
      "cell_type": "markdown",
      "source": [
        "**My own example 51**"
      ],
      "metadata": {
        "id": "01y2rMtmNDP0"
      }
    },
    {
      "cell_type": "code",
      "source": [
        "print (\"Todas las e's son n's ahora: \", micadena.replace('e', 'n'))"
      ],
      "metadata": {
        "colab": {
          "base_uri": "https://localhost:8080/"
        },
        "id": "uKDxN62xNE5y",
        "outputId": "d3b4d2e8-a9a6-49b7-e452-b7c029ad8867"
      },
      "execution_count": null,
      "outputs": [
        {
          "output_type": "stream",
          "name": "stdout",
          "text": [
            "Todas las e's son n's ahora:  Mntodosnumnricos\n"
          ]
        }
      ]
    },
    {
      "cell_type": "markdown",
      "source": [
        "There are also some methods that are unique to strings. The function `upper()` will convert all characters in a string to uppercase, while `lower()` will convert all characters in a string to lowercase!"
      ],
      "metadata": {
        "id": "9JuiY9YXNdWP"
      }
    },
    {
      "cell_type": "code",
      "source": [
        "my_string = \"I can't hear you\"\n",
        "print (my_string.upper())\n",
        "my_string = \"I said HELLO\"\n",
        "print (my_string.lower())"
      ],
      "metadata": {
        "colab": {
          "base_uri": "https://localhost:8080/"
        },
        "id": "jp-EeGIyNigz",
        "outputId": "af101d9c-c2f2-4e06-9690-8b3b509aadf3"
      },
      "execution_count": null,
      "outputs": [
        {
          "output_type": "stream",
          "name": "stdout",
          "text": [
            "I CAN'T HEAR YOU\n",
            "i said hello\n"
          ]
        }
      ]
    },
    {
      "cell_type": "markdown",
      "source": [
        "**My own example 52**"
      ],
      "metadata": {
        "id": "LkkWg3GoNogZ"
      }
    },
    {
      "cell_type": "code",
      "source": [
        "micadena = \"how it be\"\n",
        "print (micadena.upper())\n",
        "micadena = \"HOW IT would BE\"\n",
        "print (micadena.lower())"
      ],
      "metadata": {
        "colab": {
          "base_uri": "https://localhost:8080/"
        },
        "id": "MiMJPSBON5DR",
        "outputId": "d109f952-4fb6-4e17-fef2-ad41f7589cc3"
      },
      "execution_count": null,
      "outputs": [
        {
          "output_type": "stream",
          "name": "stdout",
          "text": [
            "HOW IT BE\n",
            "how it would be\n"
          ]
        }
      ]
    },
    {
      "cell_type": "markdown",
      "source": [
        "#String Formatting\n",
        "Using the `format()` method we can add in variable values and generally format our strings."
      ],
      "metadata": {
        "id": "ldGumKR9OIzP"
      }
    },
    {
      "cell_type": "code",
      "source": [
        "my_string = \"{0} {1}\".format('Marco', 'Polo')\n",
        "print (my_string)"
      ],
      "metadata": {
        "colab": {
          "base_uri": "https://localhost:8080/"
        },
        "id": "cZhBdnICOOda",
        "outputId": "4aba104e-847b-4d90-81c9-5c342370984c"
      },
      "execution_count": null,
      "outputs": [
        {
          "output_type": "stream",
          "name": "stdout",
          "text": [
            "Marco Polo\n"
          ]
        }
      ]
    },
    {
      "cell_type": "code",
      "source": [
        "my_string = \"{1} {0}\".format('Marco', 'Polo')\n",
        "print (my_string)"
      ],
      "metadata": {
        "colab": {
          "base_uri": "https://localhost:8080/"
        },
        "id": "uKQvrffAO0HQ",
        "outputId": "8ad7e856-e81d-43b5-fcd7-4af2f764493d"
      },
      "execution_count": null,
      "outputs": [
        {
          "output_type": "stream",
          "name": "stdout",
          "text": [
            "Polo Marco\n"
          ]
        }
      ]
    },
    {
      "cell_type": "markdown",
      "source": [
        "**My own example 53**"
      ],
      "metadata": {
        "id": "g-vh2WzrOQ7m"
      }
    },
    {
      "cell_type": "code",
      "source": [
        "micadena = \"{0} {1}\".format('Arepa', 'Maíz')\n",
        "print (micadena)"
      ],
      "metadata": {
        "colab": {
          "base_uri": "https://localhost:8080/"
        },
        "id": "a86X3BD0OSyP",
        "outputId": "90e03573-cc9c-40c1-da4c-8f630ba1a45d"
      },
      "execution_count": null,
      "outputs": [
        {
          "output_type": "stream",
          "name": "stdout",
          "text": [
            "Arepa Maíz\n"
          ]
        }
      ]
    },
    {
      "cell_type": "code",
      "source": [
        "micadena = \"{1} {0}\".format('Arepa', 'Maíz')\n",
        "print (micadena)"
      ],
      "metadata": {
        "colab": {
          "base_uri": "https://localhost:8080/"
        },
        "id": "_krzd_6AO2lK",
        "outputId": "643ab3f3-9e3d-439c-e67b-d0c6cfe731c6"
      },
      "execution_count": null,
      "outputs": [
        {
          "output_type": "stream",
          "name": "stdout",
          "text": [
            "Maíz Arepa\n"
          ]
        }
      ]
    },
    {
      "cell_type": "markdown",
      "source": [
        "We use braces (`{}`) to indicate parts of the string that will be filled in later and we use the arguments of the `format()` function to provide the values to substitute. The numbers within the braces indicate the index of the value in the `format()` arguments.\n",
        "\n",
        "See the `format()` [documentation](https://docs.python.org/2/library/string.html#format-examples) for additional examples.\n",
        "\n",
        "If you need some quick and dirty formatting, you can instead use the % symbol, called the string formatting operator."
      ],
      "metadata": {
        "id": "Uz_KqlB_O5C-"
      }
    },
    {
      "cell_type": "code",
      "source": [
        "print ('insert %s here' % 'value')"
      ],
      "metadata": {
        "colab": {
          "base_uri": "https://localhost:8080/"
        },
        "id": "HG7sNhuIPnQN",
        "outputId": "4939dab7-e779-4f53-f66c-65ce0f551572"
      },
      "execution_count": null,
      "outputs": [
        {
          "output_type": "stream",
          "name": "stdout",
          "text": [
            "insert value here\n"
          ]
        }
      ]
    },
    {
      "cell_type": "markdown",
      "source": [
        "**My own example 54**"
      ],
      "metadata": {
        "id": "vvfz16HGPyB3"
      }
    },
    {
      "cell_type": "code",
      "source": [
        "print ('Inserte %s aquí' % 'edad')"
      ],
      "metadata": {
        "colab": {
          "base_uri": "https://localhost:8080/"
        },
        "id": "3gXmDP1LPzxX",
        "outputId": "31bf3496-2ae2-4f4e-c019-0b7b8daca68a"
      },
      "execution_count": null,
      "outputs": [
        {
          "output_type": "stream",
          "name": "stdout",
          "text": [
            "Inserte edad aquí\n"
          ]
        }
      ]
    },
    {
      "cell_type": "markdown",
      "source": [
        "The `%` symbol basically cues Python to create a placeholder. Whatever character follows the `%` (in the string) indicates what sort of type the value put into the placeholder will have. This character is called a conversion type. Once the string has been closed, we need another `%` that will be followed by the values to insert. In the case of one value, you can just put it there. If you are inserting more than one value, they must be enclosed in a tuple."
      ],
      "metadata": {
        "id": "JVgmLwPXQGna"
      }
    },
    {
      "cell_type": "code",
      "source": [
        "print ('There are %s cats in my %s' % (13, 'apartment'))"
      ],
      "metadata": {
        "colab": {
          "base_uri": "https://localhost:8080/"
        },
        "id": "ygDfXPmhQMON",
        "outputId": "93b55a81-6ecf-4714-9d27-bf3a730fa10f"
      },
      "execution_count": null,
      "outputs": [
        {
          "output_type": "stream",
          "name": "stdout",
          "text": [
            "There are 13 cats in my apartment\n"
          ]
        }
      ]
    },
    {
      "cell_type": "markdown",
      "source": [
        "**My own example 55**"
      ],
      "metadata": {
        "id": "M5-0ryJfQO_e"
      }
    },
    {
      "cell_type": "code",
      "source": [
        "print ('Hay mas de %s animales en el %s de al lado' % (124, 'parque'))"
      ],
      "metadata": {
        "colab": {
          "base_uri": "https://localhost:8080/"
        },
        "id": "p0ZLCBCaQQ_r",
        "outputId": "67bdc24a-7890-437e-b8a7-3d65076429d9"
      },
      "execution_count": null,
      "outputs": [
        {
          "output_type": "stream",
          "name": "stdout",
          "text": [
            "Hay mas de 124 animales en el parque de al lado\n"
          ]
        }
      ]
    },
    {
      "cell_type": "markdown",
      "source": [
        "In these examples, the `%s` indicates that Python should convert the values into strings. There are multiple conversion types that you can use to get more specific with the the formatting. See the string formatting [documentation](https://docs.python.org/2/library/stdtypes.html#string-formatting) for additional examples and more complete details on use."
      ],
      "metadata": {
        "id": "hqwcXKWrQb0e"
      }
    },
    {
      "cell_type": "markdown",
      "source": [
        "#Logical Operators\n",
        "##Basic Logic\n",
        "Logical operators deal with `boolean` values, as we briefly covered before. If you recall, a `bool` takes on one of two values, `True` or `False` (or  or ). The basic logical statements that we can make are defined using the built-in comparators. These are `==` (equal), `!=` (not equal), `<` (less than), `>` (greater than), `<=` (less than or equal to), and `>=` (greater than or equal to)."
      ],
      "metadata": {
        "id": "KNskO-b-QlWe"
      }
    },
    {
      "cell_type": "code",
      "source": [
        "print (5 == 5)"
      ],
      "metadata": {
        "colab": {
          "base_uri": "https://localhost:8080/"
        },
        "id": "n665rZ0_Qxfb",
        "outputId": "12bf03e0-6c2c-4e9c-d229-d41078228049"
      },
      "execution_count": null,
      "outputs": [
        {
          "output_type": "stream",
          "name": "stdout",
          "text": [
            "True\n"
          ]
        }
      ]
    },
    {
      "cell_type": "code",
      "source": [
        "print (5 > 5)"
      ],
      "metadata": {
        "colab": {
          "base_uri": "https://localhost:8080/"
        },
        "id": "l4Kvxm4ZQ0Vw",
        "outputId": "2690e8d8-a3e6-495a-84c7-50911dc93677"
      },
      "execution_count": null,
      "outputs": [
        {
          "output_type": "stream",
          "name": "stdout",
          "text": [
            "False\n"
          ]
        }
      ]
    },
    {
      "cell_type": "markdown",
      "source": [
        "**My own example 56**"
      ],
      "metadata": {
        "id": "VG66sWwaQ6Pf"
      }
    },
    {
      "cell_type": "code",
      "source": [
        "print (8 == 9)"
      ],
      "metadata": {
        "colab": {
          "base_uri": "https://localhost:8080/"
        },
        "id": "qOzUbUUKQ8SW",
        "outputId": "e97dd9d7-ad87-4619-8591-195242aba870"
      },
      "execution_count": null,
      "outputs": [
        {
          "output_type": "stream",
          "name": "stdout",
          "text": [
            "False\n"
          ]
        }
      ]
    },
    {
      "cell_type": "code",
      "source": [
        "print (56<57)"
      ],
      "metadata": {
        "colab": {
          "base_uri": "https://localhost:8080/"
        },
        "id": "R7HJoCbyQ_Ev",
        "outputId": "11625878-e119-4ea0-c570-5734bdc8737e"
      },
      "execution_count": null,
      "outputs": [
        {
          "output_type": "stream",
          "name": "stdout",
          "text": [
            "True\n"
          ]
        }
      ]
    },
    {
      "cell_type": "markdown",
      "source": [
        "These comparators also work in conjunction with variables."
      ],
      "metadata": {
        "id": "VQDnKNHARCU3"
      }
    },
    {
      "cell_type": "code",
      "source": [
        "m = 2\n",
        "n = 23\n",
        "print (m < n)"
      ],
      "metadata": {
        "colab": {
          "base_uri": "https://localhost:8080/"
        },
        "id": "p2aB-tExREw2",
        "outputId": "8dff4ab8-86c3-4610-c325-3896a02ca62e"
      },
      "execution_count": null,
      "outputs": [
        {
          "output_type": "stream",
          "name": "stdout",
          "text": [
            "True\n"
          ]
        }
      ]
    },
    {
      "cell_type": "markdown",
      "source": [
        "**My own example 57**"
      ],
      "metadata": {
        "id": "JsRfNer8RG6f"
      }
    },
    {
      "cell_type": "code",
      "source": [
        "a = 67\n",
        "b = 32\n",
        "print (b<=a)"
      ],
      "metadata": {
        "colab": {
          "base_uri": "https://localhost:8080/"
        },
        "id": "R4l-4m-mRJIS",
        "outputId": "d47e62eb-8543-4638-c3e9-a806ba2a17cc"
      },
      "execution_count": null,
      "outputs": [
        {
          "output_type": "stream",
          "name": "stdout",
          "text": [
            "True\n"
          ]
        }
      ]
    },
    {
      "cell_type": "markdown",
      "source": [
        "We can string these comparators together to make more complex logical statements using the logical operators `or`, `and`, and `not`."
      ],
      "metadata": {
        "id": "48el9UbSRPef"
      }
    },
    {
      "cell_type": "code",
      "source": [
        "statement_1 = 10 > 2\n",
        "statement_2 = 4 <= 6\n",
        "print (\"Statement 1 truth value: {0}\".format(statement_1))\n",
        "print (\"Statement 2 truth value: {0}\".format(statement_2))\n",
        "print (\"Statement 1 and Statement 2: {0}\".format(statement_1 and statement_2))"
      ],
      "metadata": {
        "colab": {
          "base_uri": "https://localhost:8080/"
        },
        "id": "4CNAXYbGRWE6",
        "outputId": "1b614bfe-3007-4950-cb00-5865db9ac41f"
      },
      "execution_count": null,
      "outputs": [
        {
          "output_type": "stream",
          "name": "stdout",
          "text": [
            "Statement 1 truth value: True\n",
            "Statement 2 truth value: True\n",
            "Statement 1 and Statement 2: True\n"
          ]
        }
      ]
    },
    {
      "cell_type": "markdown",
      "source": [
        "**My own example 58**"
      ],
      "metadata": {
        "id": "7QO4kPNaRdyF"
      }
    },
    {
      "cell_type": "code",
      "source": [
        "estado1 = 25<2\n",
        "estado2 = 4>=3\n",
        "print (\"Valor de verdad estado 1: {0}\".format(estado1))\n",
        "print (\"Valor de verdad estado 2: {0}\".format(estado2))\n",
        "print (\"Estado 1 y estado 2: {0}\".format(estado1 and estado2))"
      ],
      "metadata": {
        "colab": {
          "base_uri": "https://localhost:8080/"
        },
        "id": "Iqq6ehLaRgZt",
        "outputId": "55b2fba3-5564-4619-bbd1-e356eabb5951"
      },
      "execution_count": null,
      "outputs": [
        {
          "output_type": "stream",
          "name": "stdout",
          "text": [
            "Valor de verdad estado 1: False\n",
            "Valor de verdad estado 2: True\n",
            "Estado 1 y estado 2: False\n"
          ]
        }
      ]
    },
    {
      "cell_type": "markdown",
      "source": [
        "The `or` operator performs a logical `or` calculation. This is an inclusive `or`, so if either component paired together by `or` is `True`, the whole statement will be `True`. The `and` statement only outputs `True` if all components that are `and`ed together are True. Otherwise it will output `False`. The `not` statement simply inverts the truth value of whichever statement follows it. So a `True` statement will be evaluated as `False` when a `not` is placed in front of it. Similarly, a `False` statement will become `True` when a `not` is in front of it.\n",
        "\n",
        "Say that we have two logical statements, or assertions, ***P*** and ***Q***. The truth table for the basic logical operators is as follows:\n",
        "\n"
      ],
      "metadata": {
        "id": "3eThOnNPR5gp"
      }
    },
    {
      "cell_type": "markdown",
      "source": [
        "![image.png](data:image/png;base64,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)\n",
        "\n",
        "We can string multiple logical statements together using the logical operators."
      ],
      "metadata": {
        "id": "kpsmVVcTTIb_"
      }
    },
    {
      "cell_type": "code",
      "source": [
        "print (((2 < 3) and (3 > 0)) or ((5 > 6) and not (4 < 2)))"
      ],
      "metadata": {
        "colab": {
          "base_uri": "https://localhost:8080/"
        },
        "id": "3P9LzRITTQns",
        "outputId": "60508710-b943-44d5-9b0b-7e53f12f750f"
      },
      "execution_count": null,
      "outputs": [
        {
          "output_type": "stream",
          "name": "stdout",
          "text": [
            "True\n"
          ]
        }
      ]
    },
    {
      "cell_type": "markdown",
      "source": [
        "**My own example 59**"
      ],
      "metadata": {
        "id": "j8GKLD83T0-E"
      }
    },
    {
      "cell_type": "code",
      "source": [
        "print (((5<9) and (4>5)) or ((7<=7) and not (6<5)))"
      ],
      "metadata": {
        "colab": {
          "base_uri": "https://localhost:8080/"
        },
        "id": "TWiUrxqOT3jg",
        "outputId": "358b8cbe-b53e-433b-e052-dcff156b7b1c"
      },
      "execution_count": null,
      "outputs": [
        {
          "output_type": "stream",
          "name": "stdout",
          "text": [
            "True\n"
          ]
        }
      ]
    },
    {
      "cell_type": "markdown",
      "source": [
        "Logical statements can be as simple or complex as we like, depending on what we need to express. Evaluating the above logical statement step by step we see that we are evaluating (`True and True`) `or` (`False and not False`). This becomes `True or (False and True)`, subsequently becoming `True or False`, ultimately being evaluated as `True`."
      ],
      "metadata": {
        "id": "y_-TAvQ_UJL-"
      }
    },
    {
      "cell_type": "markdown",
      "source": [
        "#Truthiness\n",
        "Data types in Python have a fun characteristic called truthiness. What this means is that most built-in types will evaluate as either `True` or `False` when a boolean value is needed (such as with an if-statement). As a general rule, containers like strings, tuples, dictionaries, lists, and sets, will return `True` if they contain anything at all and `False` if they contain nothing."
      ],
      "metadata": {
        "id": "Ju9K1ahkUYuO"
      }
    },
    {
      "cell_type": "code",
      "source": [
        "# Similar to how float() and int() work, bool() forces a value to be considered a boolean!\n",
        "print (bool(''))"
      ],
      "metadata": {
        "colab": {
          "base_uri": "https://localhost:8080/"
        },
        "id": "Gz1KziJiUgor",
        "outputId": "e609001a-2c46-4198-8cba-a84a623fe7d2"
      },
      "execution_count": null,
      "outputs": [
        {
          "output_type": "stream",
          "name": "stdout",
          "text": [
            "False\n"
          ]
        }
      ]
    },
    {
      "cell_type": "code",
      "source": [
        "print (bool('I have character!'))"
      ],
      "metadata": {
        "colab": {
          "base_uri": "https://localhost:8080/"
        },
        "id": "OYXNFNy4UmLF",
        "outputId": "d413d4f7-1977-4b7d-f9b1-3f9f2ea0ef25"
      },
      "execution_count": null,
      "outputs": [
        {
          "output_type": "stream",
          "name": "stdout",
          "text": [
            "True\n"
          ]
        }
      ]
    },
    {
      "cell_type": "code",
      "source": [
        "print (bool([]))"
      ],
      "metadata": {
        "colab": {
          "base_uri": "https://localhost:8080/"
        },
        "id": "aOGEBxGFUo1R",
        "outputId": "2fe6fd34-04f4-47de-ff35-711fa2e315ce"
      },
      "execution_count": null,
      "outputs": [
        {
          "output_type": "stream",
          "name": "stdout",
          "text": [
            "False\n"
          ]
        }
      ]
    },
    {
      "cell_type": "code",
      "source": [
        "print (bool([1, 2, 3]))"
      ],
      "metadata": {
        "colab": {
          "base_uri": "https://localhost:8080/"
        },
        "id": "eO8vPS3KUrD9",
        "outputId": "9c79c2ee-9294-4f29-9964-f305fb51e353"
      },
      "execution_count": null,
      "outputs": [
        {
          "output_type": "stream",
          "name": "stdout",
          "text": [
            "True\n"
          ]
        }
      ]
    },
    {
      "cell_type": "markdown",
      "source": [
        "**My own example 60**"
      ],
      "metadata": {
        "id": "ZeKlh7iPUt7e"
      }
    },
    {
      "cell_type": "code",
      "source": [
        "print (bool('Tech'))"
      ],
      "metadata": {
        "colab": {
          "base_uri": "https://localhost:8080/"
        },
        "id": "0B-7dPa6UwJ9",
        "outputId": "623924c9-1743-4d4f-c714-6d0d02aa27cd"
      },
      "execution_count": null,
      "outputs": [
        {
          "output_type": "stream",
          "name": "stdout",
          "text": [
            "True\n"
          ]
        }
      ]
    },
    {
      "cell_type": "code",
      "source": [
        "print (bool(''))"
      ],
      "metadata": {
        "colab": {
          "base_uri": "https://localhost:8080/"
        },
        "id": "-TKTpXIFU18L",
        "outputId": "af36bce5-9bbb-41c4-e90e-3df4c2ebc768"
      },
      "execution_count": null,
      "outputs": [
        {
          "output_type": "stream",
          "name": "stdout",
          "text": [
            "False\n"
          ]
        }
      ]
    },
    {
      "cell_type": "markdown",
      "source": [
        "And so on, for the other collections and containers. `None` also evaluates as `False`. The number `1` is equivalent to `True` and the number `0` is equivalent to `False` as well, in a boolean context."
      ],
      "metadata": {
        "id": "XvrXr3vLU4r5"
      }
    },
    {
      "cell_type": "markdown",
      "source": [
        "#If-statements\n",
        "We can create segments of code that only execute if a set of conditions is met. We use if-statements in conjunction with logical statements in order to create branches in our code.\n",
        "\n",
        "An `if` block gets entered when the condition is considered to be `True`. If condition is evaluated as `False`, the `if` block will simply be skipped unless there is an `else` block to accompany it. Conditions are made using either logical operators or by using the truthiness of values in Python. An if-statement is defined with a colon and a block of indented text."
      ],
      "metadata": {
        "id": "zDTvSKKDVGqP"
      }
    },
    {
      "cell_type": "code",
      "source": [
        "# This is the basic format of an if statement. This is a vacuous example. \n",
        "# The string \"Condition\" will always evaluated as True because it is a\n",
        "# non-empty string. he purpose of this code is to show the formatting of\n",
        "# an if-statement.\n",
        "if \"Condition\": \n",
        "    # This block of code will execute because the string is non-empty\n",
        "    # Everything on these indented lines\n",
        "    print (True)\n",
        "else:\n",
        "    # So if the condition that we examined with if is in fact False\n",
        "    # This block of code will execute INSTEAD of the first block of code\n",
        "    # Everything on these indented lines\n",
        "    print (False)\n",
        "# The else block here will never execute because \"Condition\" is a non-empty string."
      ],
      "metadata": {
        "colab": {
          "base_uri": "https://localhost:8080/"
        },
        "id": "WVP_2qFiVWrV",
        "outputId": "37eeda54-1979-4d09-efa2-4f69250f48a7"
      },
      "execution_count": null,
      "outputs": [
        {
          "output_type": "stream",
          "name": "stdout",
          "text": [
            "True\n"
          ]
        }
      ]
    },
    {
      "cell_type": "code",
      "source": [
        "i = 4\n",
        "if i == 5:\n",
        "    print ('The variable i has a value of 5')"
      ],
      "metadata": {
        "id": "rnlvGR3lVefe"
      },
      "execution_count": null,
      "outputs": []
    },
    {
      "cell_type": "markdown",
      "source": [
        "Because in this example `i = 4` and the if-statement is only looking for whether `i` is equal to `5`, the print statement will never be executed. We can add in an `else` statement to create a contingency block of code in case the condition in the if-statement is not evaluated as `True`."
      ],
      "metadata": {
        "id": "G-HODFfmVpLe"
      }
    },
    {
      "cell_type": "code",
      "source": [
        "i = 4\n",
        "if i == 5:\n",
        "    print (\"All lines in this indented block are part of this block\")\n",
        "    print ('The variable i has a value of 5')\n",
        "else:\n",
        "    print (\"All lines in this indented block are part of this block\")\n",
        "    print ('The variable i is not equal to 5')"
      ],
      "metadata": {
        "colab": {
          "base_uri": "https://localhost:8080/"
        },
        "id": "-PuD-09gVz1o",
        "outputId": "12a3789a-6e57-434b-ce31-d87da6a5891c"
      },
      "execution_count": null,
      "outputs": [
        {
          "output_type": "stream",
          "name": "stdout",
          "text": [
            "All lines in this indented block are part of this block\n",
            "The variable i is not equal to 5\n"
          ]
        }
      ]
    },
    {
      "cell_type": "markdown",
      "source": [
        "**My own example 61**"
      ],
      "metadata": {
        "id": "nt5evkH7V_LD"
      }
    },
    {
      "cell_type": "code",
      "source": [
        "i = 7\n",
        "if i == 7:\n",
        "  print ('La variable i es igual a 7')\n",
        "else:\n",
        "  print ('La variable i NO es igual a 7')"
      ],
      "metadata": {
        "colab": {
          "base_uri": "https://localhost:8080/"
        },
        "id": "U9JgD4KAWDeM",
        "outputId": "1dd89731-6faf-4aec-98b8-b6de17589140"
      },
      "execution_count": null,
      "outputs": [
        {
          "output_type": "stream",
          "name": "stdout",
          "text": [
            "La variable i es igual a 7\n"
          ]
        }
      ]
    },
    {
      "cell_type": "markdown",
      "source": [
        "We can implement other branches off of the same if-statement by using `elif`, an abbreviation of \"else if\". We can include as many `elifs` as we like until we have exhausted all the logical branches of a condition."
      ],
      "metadata": {
        "id": "ftIDsrOUWQeY"
      }
    },
    {
      "cell_type": "code",
      "source": [
        "i = 1\n",
        "if i == 1:\n",
        "    print ('The variable i has a value of 1')\n",
        "elif i == 2:\n",
        "    print ('The variable i has a value of 2')\n",
        "elif i == 3:\n",
        "    print ('The variable i has a value of 3')\n",
        "else:\n",
        "    print (\"I don't care what i is\")"
      ],
      "metadata": {
        "colab": {
          "base_uri": "https://localhost:8080/"
        },
        "id": "K5kftWToWYTd",
        "outputId": "fd16e11a-9db4-493e-d110-89a6e6a141fa"
      },
      "execution_count": null,
      "outputs": [
        {
          "output_type": "stream",
          "name": "stdout",
          "text": [
            "The variable i has a value of 1\n"
          ]
        }
      ]
    },
    {
      "cell_type": "markdown",
      "source": [
        "**My own example 62**"
      ],
      "metadata": {
        "id": "xgDn2ND6WdlB"
      }
    },
    {
      "cell_type": "code",
      "source": [
        "i = 5\n",
        "if i == 2:\n",
        "    print ('The variable i has a value of 2')\n",
        "elif i == 4:\n",
        "    print ('The variable i has a value of 4')\n",
        "elif i == 5:\n",
        "    print ('The variable i has a value of 5')\n",
        "else:\n",
        "    print (\"I don't care what i is\")"
      ],
      "metadata": {
        "colab": {
          "base_uri": "https://localhost:8080/"
        },
        "id": "bJPH6kalWfgW",
        "outputId": "97e8c8eb-024b-4778-8379-eb645c866111"
      },
      "execution_count": null,
      "outputs": [
        {
          "output_type": "stream",
          "name": "stdout",
          "text": [
            "The variable i has a value of 5\n"
          ]
        }
      ]
    },
    {
      "cell_type": "markdown",
      "source": [
        "You can also nest if-statements within if-statements to check for further conditions."
      ],
      "metadata": {
        "id": "3vqqt7D7Wnqw"
      }
    },
    {
      "cell_type": "code",
      "source": [
        "i = 10\n",
        "if i % 2 == 0:\n",
        "    if i % 3 == 0:\n",
        "        print ('i is divisible by both 2 and 3! Wow!')\n",
        "    elif i % 5 == 0:\n",
        "        print ('i is divisible by both 2 and 5! Wow!')\n",
        "    else:\n",
        "        print ('i is divisible by 2, but not 3 or 5. Meh.')\n",
        "else:\n",
        "    print ('I guess that i is an odd number. Boring.')"
      ],
      "metadata": {
        "colab": {
          "base_uri": "https://localhost:8080/"
        },
        "id": "tbhL3KGaW4Gs",
        "outputId": "53490f0b-ea00-4f12-f824-3ff25534350d"
      },
      "execution_count": null,
      "outputs": [
        {
          "output_type": "stream",
          "name": "stdout",
          "text": [
            "i is divisible by both 2 and 5! Wow!\n"
          ]
        }
      ]
    },
    {
      "cell_type": "markdown",
      "source": [
        "**My own example 63**"
      ],
      "metadata": {
        "id": "8HhBuHPdXAnx"
      }
    },
    {
      "cell_type": "code",
      "source": [
        "i = 4\n",
        "if i % 2 == 0:\n",
        "  if i % 3 ==0:\n",
        "    print('i es divisible por 2 y por 3')\n",
        "  elif i%5 ==0:\n",
        "    print('i es divisible por 2 y por 5')\n",
        "  else:\n",
        "    print ('i es divisible por 2 pero no por 3 o 5')\n",
        "else:\n",
        "  print (\"i es un número impar\")"
      ],
      "metadata": {
        "colab": {
          "base_uri": "https://localhost:8080/"
        },
        "id": "z8OxKx-yXCtG",
        "outputId": "95b512c1-fce1-47b9-b45f-261b7829f4b0"
      },
      "execution_count": null,
      "outputs": [
        {
          "output_type": "stream",
          "name": "stdout",
          "text": [
            "i es divisible por 2 pero no por 3 o 5\n"
          ]
        }
      ]
    },
    {
      "cell_type": "markdown",
      "source": [
        "Remember that we can group multiple conditions together by using the logical operators!"
      ],
      "metadata": {
        "id": "s2wrTAcPXoH2"
      }
    },
    {
      "cell_type": "code",
      "source": [
        "i = 5\n",
        "j = 12\n",
        "if i < 10 and j > 11:\n",
        "    print ('{0} is less than 10 and {1} is greater than 11! How novel and interesting!'.format(i, j))"
      ],
      "metadata": {
        "colab": {
          "base_uri": "https://localhost:8080/"
        },
        "id": "VIMRICxVXquZ",
        "outputId": "81fa0995-7986-493a-a1d7-849569a4bae0"
      },
      "execution_count": null,
      "outputs": [
        {
          "output_type": "stream",
          "name": "stdout",
          "text": [
            "5 is less than 10 and 12 is greater than 11! How novel and interesting!\n"
          ]
        }
      ]
    },
    {
      "cell_type": "markdown",
      "source": [
        "**My own example 64**"
      ],
      "metadata": {
        "id": "3HcrlfYIX0ZV"
      }
    },
    {
      "cell_type": "code",
      "source": [
        "i = 20\n",
        "j = 2\n",
        "if i>10 and j>1:\n",
        "  print ('{0} es menor que 10 y {1} es mayor que 1!'.format(i,j))"
      ],
      "metadata": {
        "colab": {
          "base_uri": "https://localhost:8080/"
        },
        "id": "obpmSceAX2LJ",
        "outputId": "b7096697-22ac-42a3-dba5-c017f51cb63f"
      },
      "execution_count": null,
      "outputs": [
        {
          "output_type": "stream",
          "name": "stdout",
          "text": [
            "20 es menor que 10 y 2 es mayor que 1!\n"
          ]
        }
      ]
    },
    {
      "cell_type": "markdown",
      "source": [
        "You can use the logical comparators to compare strings!"
      ],
      "metadata": {
        "id": "nSX95EggYG4P"
      }
    },
    {
      "cell_type": "code",
      "source": [
        "my_string = \"Carthago delenda est\"\n",
        "if my_string == \"Carthago delenda est\":\n",
        "    print ('And so it was! For the glory of Rome!')\n",
        "else:\n",
        "    print ('War elephants are TERRIFYING. I am staying home.')"
      ],
      "metadata": {
        "colab": {
          "base_uri": "https://localhost:8080/"
        },
        "id": "UVmeGHqtYPac",
        "outputId": "dc665fe7-c664-449f-bda0-83820b99a13a"
      },
      "execution_count": null,
      "outputs": [
        {
          "output_type": "stream",
          "name": "stdout",
          "text": [
            "And so it was! For the glory of Rome!\n"
          ]
        }
      ]
    },
    {
      "cell_type": "markdown",
      "source": [
        "**My own example 65**"
      ],
      "metadata": {
        "id": "PrboT5uZYUQ_"
      }
    },
    {
      "cell_type": "code",
      "source": [
        "micadena = \"Marco\"\n",
        "if micadena == \"Marco\":\n",
        "  print (\"Polo\")\n",
        "else:\n",
        "  print (\"it doesn´t matter\")"
      ],
      "metadata": {
        "colab": {
          "base_uri": "https://localhost:8080/"
        },
        "id": "K5JbVsCgYWal",
        "outputId": "f84d7265-58d4-4889-a846-ff2b39e8afc9"
      },
      "execution_count": null,
      "outputs": [
        {
          "output_type": "stream",
          "name": "stdout",
          "text": [
            "Polo\n"
          ]
        }
      ]
    },
    {
      "cell_type": "markdown",
      "source": [
        "As with other data types, `==` will check for whether the two things on either side of it have the same value. In this case, we compare whether the value of the strings are the same. Using `>` or `<` or any of the other comparators is not quite so intuitive, however, so we will stay from using comparators with strings in this lecture. Comparators will examine the [lexicographical order](https://en.wikipedia.org/wiki/Lexicographical_order) of the strings, which might be a bit more in-depth than you might like.\n",
        "\n",
        "Some built-in functions return a boolean value, so they can be used as conditions in an if-statement. User-defined functions can also be constructed so that they return a boolean value. This will be covered later with function definition!\n",
        "\n",
        "The `in` keyword is generally used to check membership of a value within another value. We can check memebership in the context of an if-statement and use it to output a truth value."
      ],
      "metadata": {
        "id": "3lZEVztIYpud"
      }
    },
    {
      "cell_type": "code",
      "source": [
        "if 'a' in my_string or 'e' in my_string:\n",
        "    print ('Those are my favorite vowels!')"
      ],
      "metadata": {
        "colab": {
          "base_uri": "https://localhost:8080/"
        },
        "id": "uENMwfbUY3O7",
        "outputId": "df0100c5-1b23-4b5a-d606-30b104b96cba"
      },
      "execution_count": null,
      "outputs": [
        {
          "output_type": "stream",
          "name": "stdout",
          "text": [
            "Those are my favorite vowels!\n"
          ]
        }
      ]
    },
    {
      "cell_type": "markdown",
      "source": [
        "**My own example 66**"
      ],
      "metadata": {
        "id": "nzRwvITSY661"
      }
    },
    {
      "cell_type": "code",
      "source": [
        "if 'a' in micadena or 'i' in micadena:\n",
        "  print ('Esas son mis vocales favoritas')"
      ],
      "metadata": {
        "colab": {
          "base_uri": "https://localhost:8080/"
        },
        "id": "JHGilK_mY9Us",
        "outputId": "b6c1269e-b4a5-43f4-9692-8bcf507f3064"
      },
      "execution_count": null,
      "outputs": [
        {
          "output_type": "stream",
          "name": "stdout",
          "text": [
            "Esas son mis vocales favoritas\n"
          ]
        }
      ]
    },
    {
      "cell_type": "markdown",
      "source": [
        "Here we use `in` to check whether the variable `my_string` contains any particular letters. We will later use `in` to iterate through lists!"
      ],
      "metadata": {
        "id": "RVJOms76ZNpe"
      }
    },
    {
      "cell_type": "markdown",
      "source": [
        "#Loop Structures\n",
        "Loop structures are one of the most important parts of programming. The `for` loop and the `while` loop provide a way to repeatedly run a block of code repeatedly. A `while` loop will iterate until a certain condition has been met. If at any point after an iteration that condition is no longer satisfied, the loop terminates. A `for` loop will iterate over a sequence of values and terminate when the sequence has ended. You can instead include conditions within the `for` loop to decide whether it should terminate early or you could simply let it run its course."
      ],
      "metadata": {
        "id": "KeYT0GqKZUK1"
      }
    },
    {
      "cell_type": "code",
      "source": [
        "i = 5\n",
        "while i > 0: # We can write this as 'while i:' because 0 is False!\n",
        "    i -= 1\n",
        "    print ('I am looping! {0} more to go!'.format(i))"
      ],
      "metadata": {
        "colab": {
          "base_uri": "https://localhost:8080/"
        },
        "id": "QkwysE5vZbe4",
        "outputId": "bdc56baa-dede-44d5-d5c3-ce5ffe1b7ff5"
      },
      "execution_count": null,
      "outputs": [
        {
          "output_type": "stream",
          "name": "stdout",
          "text": [
            "I am looping! 4 more to go!\n",
            "I am looping! 3 more to go!\n",
            "I am looping! 2 more to go!\n",
            "I am looping! 1 more to go!\n",
            "I am looping! 0 more to go!\n"
          ]
        }
      ]
    },
    {
      "cell_type": "markdown",
      "source": [
        "**My own example 67**"
      ],
      "metadata": {
        "id": "Oth-LNZsZszE"
      }
    },
    {
      "cell_type": "code",
      "source": [
        "i = 7\n",
        "while i>0:\n",
        "  i-=1\n",
        "  print ('I need {0} more cookies'.format(i))"
      ],
      "metadata": {
        "colab": {
          "base_uri": "https://localhost:8080/"
        },
        "id": "_m0lIiaFZumG",
        "outputId": "35633e24-002a-4f4e-930f-e82050a27718"
      },
      "execution_count": null,
      "outputs": [
        {
          "output_type": "stream",
          "name": "stdout",
          "text": [
            "I need 6 more cookies\n",
            "I need 5 more cookies\n",
            "I need 4 more cookies\n",
            "I need 3 more cookies\n",
            "I need 2 more cookies\n",
            "I need 1 more cookies\n",
            "I need 0 more cookies\n"
          ]
        }
      ]
    },
    {
      "cell_type": "markdown",
      "source": [
        "With `while` loops we need to make sure that something actually changes from iteration to iteration so that that the loop actually terminates. In this case, we use the shorthand `i -= 1` (short for `i = i - 1`) so that the value of `i` gets smaller with each iteration. Eventually `i` will be reduced to `0`, rendering the condition `False` and exiting the loop.\n",
        "\n",
        "A `for` loop iterates a set number of times, determined when you state the entry into the loop. In this case we are iterating over the list returned from `range()`. The `for` loop selects a value from the list, in order, and temporarily assigns the value of `i` to it so that operations can be performed with the value."
      ],
      "metadata": {
        "id": "VkZuvGttaFVC"
      }
    },
    {
      "cell_type": "code",
      "source": [
        "for i in range(5):\n",
        "    print ('I am looping! I have looped {0} times!'.format(i + 1))"
      ],
      "metadata": {
        "colab": {
          "base_uri": "https://localhost:8080/"
        },
        "id": "H-LD3o9XaaOM",
        "outputId": "ca90fc69-7458-4c54-ae3d-bda649b420c3"
      },
      "execution_count": null,
      "outputs": [
        {
          "output_type": "stream",
          "name": "stdout",
          "text": [
            "I am looping! I have looped 1 times!\n",
            "I am looping! I have looped 2 times!\n",
            "I am looping! I have looped 3 times!\n",
            "I am looping! I have looped 4 times!\n",
            "I am looping! I have looped 5 times!\n"
          ]
        }
      ]
    },
    {
      "cell_type": "markdown",
      "source": [
        "**My own example 68**"
      ],
      "metadata": {
        "id": "NcN2fqPoap5x"
      }
    },
    {
      "cell_type": "code",
      "source": [
        "for i in range(4):\n",
        "  print('I´ve eaten {0} cookies'.format(i+1))"
      ],
      "metadata": {
        "colab": {
          "base_uri": "https://localhost:8080/"
        },
        "id": "IUZumXVDar8C",
        "outputId": "eb698073-9b09-4573-9a0c-90ca045f079e"
      },
      "execution_count": null,
      "outputs": [
        {
          "output_type": "stream",
          "name": "stdout",
          "text": [
            "I´ve eaten 1 cookies\n",
            "I´ve eaten 2 cookies\n",
            "I´ve eaten 3 cookies\n",
            "I´ve eaten 4 cookies\n"
          ]
        }
      ]
    },
    {
      "cell_type": "markdown",
      "source": [
        "Note that in this `for` loop we use the `in` keyword. Use of the `in` keyword is not limited to checking for membership as in the if-statement example. You can iterate over any collection with a `for` loop by using the `in` keyword.\n",
        "\n",
        "In this next example, we will iterate over a `set` because we want to check for containment and add to a new set."
      ],
      "metadata": {
        "id": "5755mKIta32U"
      }
    },
    {
      "cell_type": "code",
      "source": [
        "my_list = {'cats', 'dogs', 'lizards', 'cows', 'bats', 'sponges', 'humans'} # Lists all the animals in the world\n",
        "mammal_list = {'cats', 'dogs', 'cows', 'bats', 'humans'} # Lists all the mammals in the world\n",
        "my_new_list = set()\n",
        "for animal in my_list:\n",
        "    if animal in mammal_list:\n",
        "        # This adds any animal that is both in my_list and mammal_list to my_new_list\n",
        "        my_new_list.add(animal)\n",
        "        \n",
        "print (my_new_list)"
      ],
      "metadata": {
        "colab": {
          "base_uri": "https://localhost:8080/"
        },
        "id": "2t9G_dQCbEDV",
        "outputId": "104bf4bc-2bc5-4faf-be6a-3f3d27dfd4ef"
      },
      "execution_count": null,
      "outputs": [
        {
          "output_type": "stream",
          "name": "stdout",
          "text": [
            "{'bats', 'humans', 'cows', 'cats', 'dogs'}\n"
          ]
        }
      ]
    },
    {
      "cell_type": "markdown",
      "source": [
        "**My own example 69**"
      ],
      "metadata": {
        "id": "7Pr88X3mbPuD"
      }
    },
    {
      "cell_type": "code",
      "source": [
        "milista = {'perro', 'tomate', 'anillo', 'gato', 'vaca'}\n",
        "animal_list = {'perro', 'gato', 'elefante', 'vaca', 'sapo'}\n",
        "nueva_lista = set()\n",
        "for animal in milista:\n",
        "  if animal in animal_list:\n",
        "    nueva_lista.add(animal)\n",
        "print(nueva_lista)"
      ],
      "metadata": {
        "colab": {
          "base_uri": "https://localhost:8080/"
        },
        "id": "6FNS2kb4bSYT",
        "outputId": "b90aba28-560b-4ea7-94a1-43c85c936f25"
      },
      "execution_count": null,
      "outputs": [
        {
          "output_type": "stream",
          "name": "stdout",
          "text": [
            "{'gato', 'perro', 'vaca'}\n"
          ]
        }
      ]
    },
    {
      "cell_type": "markdown",
      "source": [
        "There are two statements that are very helpful in dealing with both `for` and `while` loops. These are` break `and `continue`. If `break` is encountered at any point while a loop is executing, the loop will immediately end."
      ],
      "metadata": {
        "id": "pdlJdfZXb58M"
      }
    },
    {
      "cell_type": "code",
      "source": [
        "i = 10\n",
        "while True:\n",
        "    if i == 14:\n",
        "        break\n",
        "    i += 1 # This is shorthand for i = i + 1. It increments i with each iteration.\n",
        "    print (i)"
      ],
      "metadata": {
        "colab": {
          "base_uri": "https://localhost:8080/"
        },
        "id": "EqlLO1nwcC0U",
        "outputId": "82adf37e-656d-470b-ea11-60e48bfad018"
      },
      "execution_count": null,
      "outputs": [
        {
          "output_type": "stream",
          "name": "stdout",
          "text": [
            "11\n",
            "12\n",
            "13\n",
            "14\n"
          ]
        }
      ]
    },
    {
      "cell_type": "code",
      "source": [
        "for i in range(5):\n",
        "    if i == 2:\n",
        "        break\n",
        "    print (i)"
      ],
      "metadata": {
        "colab": {
          "base_uri": "https://localhost:8080/"
        },
        "id": "U3y8rUzIcccS",
        "outputId": "7c051fba-39b7-4739-fe91-d90db840cfb5"
      },
      "execution_count": null,
      "outputs": [
        {
          "output_type": "stream",
          "name": "stdout",
          "text": [
            "0\n",
            "1\n"
          ]
        }
      ]
    },
    {
      "cell_type": "markdown",
      "source": [
        "**My own example 70**"
      ],
      "metadata": {
        "id": "rx2seC7ecIBD"
      }
    },
    {
      "cell_type": "code",
      "source": [
        "i = 9 \n",
        "while True:\n",
        "  if i == 13:\n",
        "    break\n",
        "  i +=0.5\n",
        "  print (i)"
      ],
      "metadata": {
        "colab": {
          "base_uri": "https://localhost:8080/"
        },
        "id": "-7oNDSV2cNAX",
        "outputId": "c65c39f7-5abe-47d8-bc58-a1faf2cbb528"
      },
      "execution_count": null,
      "outputs": [
        {
          "output_type": "stream",
          "name": "stdout",
          "text": [
            "9.5\n",
            "10.0\n",
            "10.5\n",
            "11.0\n",
            "11.5\n",
            "12.0\n",
            "12.5\n",
            "13.0\n"
          ]
        }
      ]
    },
    {
      "cell_type": "code",
      "source": [
        "i = 3\n",
        "for i in range(6):\n",
        "  if i == 5:\n",
        "    break\n",
        "  i += 1\n",
        "  print (i)"
      ],
      "metadata": {
        "colab": {
          "base_uri": "https://localhost:8080/"
        },
        "id": "nzfyWoBUchz7",
        "outputId": "7f114c1b-6d59-4c8d-d546-c575b985fef7"
      },
      "execution_count": null,
      "outputs": [
        {
          "output_type": "stream",
          "name": "stdout",
          "text": [
            "1\n",
            "2\n",
            "3\n",
            "4\n",
            "5\n"
          ]
        }
      ]
    },
    {
      "cell_type": "markdown",
      "source": [
        "The `continue` statement will tell the loop to immediately end this iteration and continue onto the next iteration of the loop."
      ],
      "metadata": {
        "id": "tImrKxAkcsfY"
      }
    },
    {
      "cell_type": "code",
      "source": [
        "i = 0\n",
        "while i < 5:\n",
        "    i += 1\n",
        "    if i == 3:\n",
        "        continue\n",
        "    print (i)"
      ],
      "metadata": {
        "colab": {
          "base_uri": "https://localhost:8080/"
        },
        "id": "VIimDMFLcw2P",
        "outputId": "6657d306-421c-4bd0-eec9-ce12cb651653"
      },
      "execution_count": null,
      "outputs": [
        {
          "output_type": "stream",
          "name": "stdout",
          "text": [
            "1\n",
            "2\n",
            "4\n",
            "5\n"
          ]
        }
      ]
    },
    {
      "cell_type": "markdown",
      "source": [
        "**My own example 71**"
      ],
      "metadata": {
        "id": "xyhJct2wc9-P"
      }
    },
    {
      "cell_type": "code",
      "source": [
        "i = 5\n",
        "while i > -3:\n",
        "  i-=1\n",
        "  if i == 0:\n",
        "    continue\n",
        "  print (i)"
      ],
      "metadata": {
        "colab": {
          "base_uri": "https://localhost:8080/"
        },
        "id": "7TWWXpNMdADv",
        "outputId": "4d32b92f-2d4b-408a-cb3a-d5851b3e01a1"
      },
      "execution_count": null,
      "outputs": [
        {
          "output_type": "stream",
          "name": "stdout",
          "text": [
            "4\n",
            "3\n",
            "2\n",
            "1\n",
            "-1\n",
            "-2\n",
            "-3\n"
          ]
        }
      ]
    },
    {
      "cell_type": "markdown",
      "source": [
        "This loop skips printing the number ***3*** because of the `continue` statement that executes when we enter the if-statement. The code never sees the command to print the number ***3*** because it has already moved to the next iteration. The `break` and `continue` statements are further tools to help you control the flow of your loops and, as a result, your code.\n",
        "\n",
        "The variable that we use to iterate over a loop will retain its value when the loop exits. Similarly, any variables defined within the context of the loop will continue to exist outside of it."
      ],
      "metadata": {
        "id": "f0fXFfppdYQF"
      }
    },
    {
      "cell_type": "code",
      "source": [
        "for i in range(5):\n",
        "    loop_string = 'I transcend the loop!'\n",
        "    print ('I am eternal! I am {0} and I exist everywhere!'.format(i))\n",
        "\n",
        "print ('I persist! My value is {0}'.format(i))\n",
        "print (loop_string)"
      ],
      "metadata": {
        "colab": {
          "base_uri": "https://localhost:8080/"
        },
        "id": "2YUsKaIXdkN5",
        "outputId": "ac0e2a0e-0690-4a95-cf40-c4cbdc936784"
      },
      "execution_count": null,
      "outputs": [
        {
          "output_type": "stream",
          "name": "stdout",
          "text": [
            "I am eternal! I am 0 and I exist everywhere!\n",
            "I am eternal! I am 1 and I exist everywhere!\n",
            "I am eternal! I am 2 and I exist everywhere!\n",
            "I am eternal! I am 3 and I exist everywhere!\n",
            "I am eternal! I am 4 and I exist everywhere!\n",
            "I persist! My value is 4\n",
            "I transcend the loop!\n"
          ]
        }
      ]
    },
    {
      "cell_type": "markdown",
      "source": [
        "**My own example 72**"
      ],
      "metadata": {
        "id": "SYQKqs2Cd8Le"
      }
    },
    {
      "cell_type": "code",
      "source": [
        "for i in range(7):\n",
        "  string = \"I'm done\"\n",
        "  print ('I´m thirsty I want {0} more beers'.format(i))\n",
        "\n",
        "print('I have to drink {0} beers'.format(i))\n",
        "print(string)"
      ],
      "metadata": {
        "colab": {
          "base_uri": "https://localhost:8080/"
        },
        "id": "LmvbbpaJd-nU",
        "outputId": "bffe8b7c-ccfa-4698-ee58-087fdaa32d4b"
      },
      "execution_count": null,
      "outputs": [
        {
          "output_type": "stream",
          "name": "stdout",
          "text": [
            "I´m thirsty I want 0 more beers\n",
            "I´m thirsty I want 1 more beers\n",
            "I´m thirsty I want 2 more beers\n",
            "I´m thirsty I want 3 more beers\n",
            "I´m thirsty I want 4 more beers\n",
            "I´m thirsty I want 5 more beers\n",
            "I´m thirsty I want 6 more beers\n",
            "I have to drink 6 beers\n",
            "I'm done\n"
          ]
        }
      ]
    },
    {
      "cell_type": "markdown",
      "source": [
        "We can also iterate over a dictionary!"
      ],
      "metadata": {
        "id": "PLLrLnxwejGa"
      }
    },
    {
      "cell_type": "code",
      "source": [
        "my_dict = {'firstname' : 'Inigo', 'lastname' : 'Montoya', 'nemesis' : 'Rugen'}"
      ],
      "metadata": {
        "id": "MNMmTgGSenx2"
      },
      "execution_count": null,
      "outputs": []
    },
    {
      "cell_type": "code",
      "source": [
        "for key in my_dict:\n",
        "    print (key)"
      ],
      "metadata": {
        "colab": {
          "base_uri": "https://localhost:8080/"
        },
        "id": "dLWuqn7meqW8",
        "outputId": "eb409922-25f9-426c-ec3e-cee229f82026"
      },
      "execution_count": null,
      "outputs": [
        {
          "output_type": "stream",
          "name": "stdout",
          "text": [
            "firstname\n",
            "lastname\n",
            "nemesis\n"
          ]
        }
      ]
    },
    {
      "cell_type": "markdown",
      "source": [
        "**My own example 73**"
      ],
      "metadata": {
        "id": "M_xAylhQewnr"
      }
    },
    {
      "cell_type": "code",
      "source": [
        "mi_dicc = {'Carros':'BMW', 'Motos':'Kawasaki', 'Bicis':'GW'}"
      ],
      "metadata": {
        "id": "NJGksdqAezD-"
      },
      "execution_count": null,
      "outputs": []
    },
    {
      "cell_type": "code",
      "source": [
        "for key in mi_dicc:\n",
        "  print(key)"
      ],
      "metadata": {
        "colab": {
          "base_uri": "https://localhost:8080/"
        },
        "id": "y4FJACLvfAZm",
        "outputId": "d53108f9-e89e-4cc0-e446-c834c6875828"
      },
      "execution_count": null,
      "outputs": [
        {
          "output_type": "stream",
          "name": "stdout",
          "text": [
            "Carros\n",
            "Motos\n",
            "Bicis\n"
          ]
        }
      ]
    },
    {
      "cell_type": "markdown",
      "source": [
        "If we just iterate over a dictionary without doing anything else, we will only get the keys. We can either use the keys to get the values, like so:"
      ],
      "metadata": {
        "id": "7xIX-hfFfFX4"
      }
    },
    {
      "cell_type": "code",
      "source": [
        "for key in my_dict:\n",
        "    print (my_dict[key])"
      ],
      "metadata": {
        "colab": {
          "base_uri": "https://localhost:8080/"
        },
        "id": "07hWvfETfIW7",
        "outputId": "a77952c5-814b-435b-bec8-544ef3304911"
      },
      "execution_count": null,
      "outputs": [
        {
          "output_type": "stream",
          "name": "stdout",
          "text": [
            "Inigo\n",
            "Montoya\n",
            "Rugen\n"
          ]
        }
      ]
    },
    {
      "cell_type": "markdown",
      "source": [
        "**My own example 74**"
      ],
      "metadata": {
        "id": "kpKH0a4qfQlJ"
      }
    },
    {
      "cell_type": "code",
      "source": [
        "for key in mi_dicc:\n",
        "  print(mi_dicc[key])"
      ],
      "metadata": {
        "colab": {
          "base_uri": "https://localhost:8080/"
        },
        "id": "Jkj0ZehKfSYo",
        "outputId": "0bcc2f98-d338-416e-ac66-a03f9699d1e6"
      },
      "execution_count": null,
      "outputs": [
        {
          "output_type": "stream",
          "name": "stdout",
          "text": [
            "BMW\n",
            "Kawasaki\n",
            "GW\n"
          ]
        }
      ]
    },
    {
      "cell_type": "markdown",
      "source": [
        "Or we can use the `items()` function to get both key and value at the same time."
      ],
      "metadata": {
        "id": "w8oOlU8bfdU9"
      }
    },
    {
      "cell_type": "code",
      "source": [
        "for key, value in my_dict.items():\n",
        "    print (key, ':', value)"
      ],
      "metadata": {
        "colab": {
          "base_uri": "https://localhost:8080/"
        },
        "id": "_2I26xNEfgUr",
        "outputId": "a6fbe9e5-d019-44aa-b8b1-516c3c21b3ed"
      },
      "execution_count": null,
      "outputs": [
        {
          "output_type": "stream",
          "name": "stdout",
          "text": [
            "firstname : Inigo\n",
            "lastname : Montoya\n",
            "nemesis : Rugen\n"
          ]
        }
      ]
    },
    {
      "cell_type": "markdown",
      "source": [
        "**My own example 75**"
      ],
      "metadata": {
        "id": "zHQwVhcGfjNQ"
      }
    },
    {
      "cell_type": "code",
      "source": [
        "for key, value in mi_dicc.items():\n",
        "  print(key,':',value)"
      ],
      "metadata": {
        "colab": {
          "base_uri": "https://localhost:8080/"
        },
        "id": "OcGGw7sBflwg",
        "outputId": "26b17f52-842e-49fb-c56a-ab10e8932800"
      },
      "execution_count": null,
      "outputs": [
        {
          "output_type": "stream",
          "name": "stdout",
          "text": [
            "Carros : BMW\n",
            "Motos : Kawasaki\n",
            "Bicis : GW\n"
          ]
        }
      ]
    },
    {
      "cell_type": "markdown",
      "source": [
        "The `items()` function creates a tuple of each `key-value` pair and the for loop unpacks that tuple into key, value on each separate execution of the loop!"
      ],
      "metadata": {
        "id": "9aVpuTNxfsN7"
      }
    },
    {
      "cell_type": "markdown",
      "source": [
        "#Functions\n",
        "A function is a reusable block of code that you can call repeatedly to make calculations, output data, or really do anything that you want. This is one of the key aspects of using a programming language. To add to the built-in functions in Python, you can define your own!"
      ],
      "metadata": {
        "id": "WT90KuNEfwdR"
      }
    }
  ]
}